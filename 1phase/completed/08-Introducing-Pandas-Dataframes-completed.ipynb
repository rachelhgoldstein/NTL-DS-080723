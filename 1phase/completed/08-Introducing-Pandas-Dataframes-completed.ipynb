{
 "cells": [
  {
   "cell_type": "markdown",
   "metadata": {
    "toc": true
   },
   "source": [
    "<h1>Table of Contents<span class=\"tocSkip\"></span></h1>\n",
    "<div class=\"toc\"><ul class=\"toc-item\"><li><span><a href=\"#Objectives\" data-toc-modified-id=\"Objectives-1\"><span class=\"toc-item-num\">1&nbsp;&nbsp;</span>Objectives</a></span></li><li><span><a href=\"#What-is-Pandas?\" data-toc-modified-id=\"What-is-Pandas?-2\"><span class=\"toc-item-num\">2&nbsp;&nbsp;</span>What is Pandas?</a></span><ul class=\"toc-item\"><li><span><a href=\"#Accessing-Data\" data-toc-modified-id=\"Accessing-Data-2.1\"><span class=\"toc-item-num\">2.1&nbsp;&nbsp;</span>Accessing Data</a></span></li><li><span><a href=\"#DataFrames-and-Series\" data-toc-modified-id=\"DataFrames-and-Series-2.2\"><span class=\"toc-item-num\">2.2&nbsp;&nbsp;</span>DataFrames and Series</a></span></li><li><span><a href=\"#More-Basic-DataFrame-Attributes-and-Methods\" data-toc-modified-id=\"More-Basic-DataFrame-Attributes-and-Methods-2.3\"><span class=\"toc-item-num\">2.3&nbsp;&nbsp;</span>More Basic DataFrame Attributes and Methods</a></span><ul class=\"toc-item\"><li><span><a href=\"#.head()-:-first-5-rows\" data-toc-modified-id=\".head()-:-first-5-rows-2.3.1\"><span class=\"toc-item-num\">2.3.1&nbsp;&nbsp;</span><code>.head()</code> : first 5 rows</a></span></li><li><span><a href=\"#.tail()-:-last-5-rows\" data-toc-modified-id=\".tail()-:-last-5-rows-2.3.2\"><span class=\"toc-item-num\">2.3.2&nbsp;&nbsp;</span><code>.tail()</code> : last 5 rows</a></span></li><li><span><a href=\"#.info()-:-information-about-the-columns,-including-about-nulls-in-those-columns\" data-toc-modified-id=\".info()-:-information-about-the-columns,-including-about-nulls-in-those-columns-2.3.3\"><span class=\"toc-item-num\">2.3.3&nbsp;&nbsp;</span><code>.info()</code> : information about the columns, including about nulls in those columns</a></span></li><li><span><a href=\"#.describe()-:-statistics-about-the-data\" data-toc-modified-id=\".describe()-:-statistics-about-the-data-2.3.4\"><span class=\"toc-item-num\">2.3.4&nbsp;&nbsp;</span><code>.describe()</code> : statistics about the data</a></span></li><li><span><a href=\"#.dtypes-:-data-types-of-each-column\" data-toc-modified-id=\".dtypes-:-data-types-of-each-column-2.3.5\"><span class=\"toc-item-num\">2.3.5&nbsp;&nbsp;</span><code>.dtypes</code> : data types of each column</a></span></li><li><span><a href=\"#.shape-:-number-of-rows-and-columns\" data-toc-modified-id=\".shape-:-number-of-rows-and-columns-2.3.6\"><span class=\"toc-item-num\">2.3.6&nbsp;&nbsp;</span><code>.shape</code> : number of rows and columns</a></span></li><li><span><a href=\"#Statistics\" data-toc-modified-id=\"Statistics-2.3.7\"><span class=\"toc-item-num\">2.3.7&nbsp;&nbsp;</span>Statistics</a></span></li></ul></li><li><span><a href=\"#Enough-With-The-Small-Stuff---Bring-On-Real-Data!\" data-toc-modified-id=\"Enough-With-The-Small-Stuff---Bring-On-Real-Data!-2.4\"><span class=\"toc-item-num\">2.4&nbsp;&nbsp;</span>Enough With The Small Stuff - Bring On Real Data!</a></span><ul class=\"toc-item\"><li><ul class=\"toc-item\"><li><span><a href=\"#Any-Observations?\" data-toc-modified-id=\"Any-Observations?-2.4.0.1\"><span class=\"toc-item-num\">2.4.0.1&nbsp;&nbsp;</span>Any Observations?</a></span></li></ul></li></ul></li><li><span><a href=\"#Adding-to-a-DataFrame\" data-toc-modified-id=\"Adding-to-a-DataFrame-2.5\"><span class=\"toc-item-num\">2.5&nbsp;&nbsp;</span>Adding to a DataFrame</a></span><ul class=\"toc-item\"><li><span><a href=\"#Adding-Rows\" data-toc-modified-id=\"Adding-Rows-2.5.1\"><span class=\"toc-item-num\">2.5.1&nbsp;&nbsp;</span>Adding Rows</a></span></li></ul></li><li><span><a href=\"#Adding-(and-Deleting)-Columns\" data-toc-modified-id=\"Adding-(and-Deleting)-Columns-2.6\"><span class=\"toc-item-num\">2.6&nbsp;&nbsp;</span>Adding (and Deleting) Columns</a></span><ul class=\"toc-item\"><li><span><a href=\"#DateTime-Data!\" data-toc-modified-id=\"DateTime-Data!-2.6.1\"><span class=\"toc-item-num\">2.6.1&nbsp;&nbsp;</span>DateTime Data!</a></span></li></ul></li></ul></li><li><span><a href=\"#Filtering\" data-toc-modified-id=\"Filtering-3\"><span class=\"toc-item-num\">3&nbsp;&nbsp;</span>Filtering</a></span><ul class=\"toc-item\"><li><span><a href=\"#.loc\" data-toc-modified-id=\".loc-3.1\"><span class=\"toc-item-num\">3.1&nbsp;&nbsp;</span><code>.loc</code></a></span><ul class=\"toc-item\"><li><span><a href=\"#Your-turn!\" data-toc-modified-id=\"Your-turn!-3.1.1\"><span class=\"toc-item-num\">3.1.1&nbsp;&nbsp;</span>Your turn!</a></span><ul class=\"toc-item\"><li><span><a href=\"#Exercise-1\" data-toc-modified-id=\"Exercise-1-3.1.1.1\"><span class=\"toc-item-num\">3.1.1.1&nbsp;&nbsp;</span>Exercise 1</a></span></li><li><span><a href=\"#Exercise-2\" data-toc-modified-id=\"Exercise-2-3.1.1.2\"><span class=\"toc-item-num\">3.1.1.2&nbsp;&nbsp;</span>Exercise 2</a></span></li></ul></li></ul></li><li><span><a href=\"#.iloc\" data-toc-modified-id=\".iloc-3.2\"><span class=\"toc-item-num\">3.2&nbsp;&nbsp;</span><code>.iloc</code></a></span></li></ul></li><li><span><a href=\"#Series-Methods\" data-toc-modified-id=\"Series-Methods-4\"><span class=\"toc-item-num\">4&nbsp;&nbsp;</span>Series Methods</a></span><ul class=\"toc-item\"><li><span><a href=\"#.value_counts()\" data-toc-modified-id=\".value_counts()-4.1\"><span class=\"toc-item-num\">4.1&nbsp;&nbsp;</span><code>.value_counts()</code></a></span></li><li><span><a href=\"#.sort_values()\" data-toc-modified-id=\".sort_values()-4.2\"><span class=\"toc-item-num\">4.2&nbsp;&nbsp;</span><code>.sort_values()</code></a></span></li></ul></li><li><span><a href=\"#Extra-Credit:-Find-a-.csv-file-online-and-experiment-with-it.\" data-toc-modified-id=\"Extra-Credit:-Find-a-.csv-file-online-and-experiment-with-it.-5\"><span class=\"toc-item-num\">5&nbsp;&nbsp;</span>Extra Credit: Find a .csv file online and experiment with it.</a></span></li></ul></div>"
   ]
  },
  {
   "cell_type": "markdown",
   "metadata": {},
   "source": [
    "![pandas](https://upload.wikimedia.org/wikipedia/commons/thumb/e/ed/Pandas_logo.svg/2880px-Pandas_logo.svg.png)"
   ]
  },
  {
   "cell_type": "markdown",
   "metadata": {},
   "source": [
    "# Objectives"
   ]
  },
  {
   "cell_type": "markdown",
   "metadata": {},
   "source": [
    "- Load .csv files into `pandas` DataFrames\n",
    "- Describe and manipulate data in Series and DataFrames"
   ]
  },
  {
   "cell_type": "markdown",
   "metadata": {},
   "source": [
    "# What is Pandas?"
   ]
  },
  {
   "cell_type": "markdown",
   "metadata": {},
   "source": [
    "![I have no idea what I'm doing panda](https://cdn-images-1.medium.com/max/1600/1*oBx032ncOwLmCFX3Epo3Zg.jpeg)\n",
    "\n",
    "Just kidding - not actual literal pandas."
   ]
  },
  {
   "cell_type": "markdown",
   "metadata": {},
   "source": [
    "Pandas, as [the Anaconda docs](https://docs.anaconda.com/anaconda/packages/py3.7_osx-64/) tell us, offers us \"High-performance, easy-to-use data structures and data analysis tools.\" It's something like \"Excel for Python\", but it's quite a bit more powerful. The name comes from \"panel data\", a common way to describe the kind of multidimensional data we'll be working with in certain academic circles (namely, statistics and econometrics) [[Source]](https://www.dlr.de/sc/Portaldata/15/Resources/dokumente/pyhpc2011/submissions/pyhpc2011_submission_9.pdf)\n",
    "\n",
    "In order to use pandas, we'll need to import it into our notebook first."
   ]
  },
  {
   "cell_type": "code",
   "execution_count": 2,
   "metadata": {
    "ExecuteTime": {
     "end_time": "2023-04-07T16:02:04.152628Z",
     "start_time": "2023-04-07T16:02:04.142626Z"
    }
   },
   "outputs": [],
   "source": [
    "# Import - using the common alias\n",
    "import pandas as pd"
   ]
  },
  {
   "cell_type": "markdown",
   "metadata": {
    "heading_collapsed": true
   },
   "source": [
    "## Accessing Data\n",
    "\n",
    "![pandas documentation image showcasing the kinds of data it can both read and write to](https://pandas.pydata.org/docs/_images/02_io_readwrite.svg)\n",
    "\n",
    "[[Image Source]](https://pandas.pydata.org/docs/getting_started/intro_tutorials/02_read_write.html)"
   ]
  },
  {
   "cell_type": "markdown",
   "metadata": {
    "hidden": true
   },
   "source": [
    "Pandas can access a ton of different data types, including some that should be familiar: CSVs and JSONs! That's right, no more `with` / `open` statements now that we're using pandas!\n",
    "\n",
    "Most of the time, we'll see CSVs - so let's access a 'toy' data set quickly just to familiarize ourselves with using pandas. There's a heart dataset available in the data folder on this repository - let's read that in."
   ]
  },
  {
   "cell_type": "code",
   "execution_count": null,
   "metadata": {
    "hidden": true
   },
   "outputs": [],
   "source": [
    "# Use read_csv to read in the heart csv file\n",
    "# Need to assign it to a variable too - let's call this heart_df\n"
   ]
  },
  {
   "cell_type": "markdown",
   "metadata": {
    "hidden": true
   },
   "source": [
    "The output of the `.read_csv()` function is a pandas *DataFrame*, which has a familiar tabaular structure of rows and columns."
   ]
  },
  {
   "cell_type": "code",
   "execution_count": null,
   "metadata": {
    "hidden": true
   },
   "outputs": [],
   "source": [
    "# Let's check this variable out\n"
   ]
  },
  {
   "cell_type": "code",
   "execution_count": null,
   "metadata": {
    "hidden": true
   },
   "outputs": [],
   "source": [
    "# What type is this variable?\n"
   ]
  },
  {
   "cell_type": "markdown",
   "metadata": {},
   "source": [
    "## DataFrames and Series"
   ]
  },
  {
   "cell_type": "markdown",
   "metadata": {},
   "source": [
    "Two main types of pandas objects are the DataFrame and the Series, the latter being in effect a single column of the former:"
   ]
  },
  {
   "cell_type": "code",
   "execution_count": 3,
   "metadata": {
    "ExecuteTime": {
     "end_time": "2023-04-07T16:04:00.542097Z",
     "start_time": "2023-04-07T16:04:00.463096Z"
    }
   },
   "outputs": [],
   "source": [
    "heart_df = pd.read_csv('./data/heart.csv')"
   ]
  },
  {
   "cell_type": "code",
   "execution_count": 4,
   "metadata": {
    "ExecuteTime": {
     "end_time": "2023-04-07T16:04:16.243629Z",
     "start_time": "2023-04-07T16:04:16.212596Z"
    }
   },
   "outputs": [
    {
     "data": {
      "text/html": [
       "<div>\n",
       "<style scoped>\n",
       "    .dataframe tbody tr th:only-of-type {\n",
       "        vertical-align: middle;\n",
       "    }\n",
       "\n",
       "    .dataframe tbody tr th {\n",
       "        vertical-align: top;\n",
       "    }\n",
       "\n",
       "    .dataframe thead th {\n",
       "        text-align: right;\n",
       "    }\n",
       "</style>\n",
       "<table border=\"1\" class=\"dataframe\">\n",
       "  <thead>\n",
       "    <tr style=\"text-align: right;\">\n",
       "      <th></th>\n",
       "      <th>age</th>\n",
       "      <th>sex</th>\n",
       "      <th>cp</th>\n",
       "      <th>trestbps</th>\n",
       "      <th>chol</th>\n",
       "      <th>fbs</th>\n",
       "      <th>restecg</th>\n",
       "      <th>thalach</th>\n",
       "      <th>exang</th>\n",
       "      <th>oldpeak</th>\n",
       "      <th>slope</th>\n",
       "      <th>ca</th>\n",
       "      <th>thal</th>\n",
       "      <th>target</th>\n",
       "    </tr>\n",
       "  </thead>\n",
       "  <tbody>\n",
       "    <tr>\n",
       "      <th>0</th>\n",
       "      <td>63</td>\n",
       "      <td>1</td>\n",
       "      <td>3</td>\n",
       "      <td>145</td>\n",
       "      <td>233</td>\n",
       "      <td>1</td>\n",
       "      <td>0</td>\n",
       "      <td>150</td>\n",
       "      <td>0</td>\n",
       "      <td>2.3</td>\n",
       "      <td>0</td>\n",
       "      <td>0</td>\n",
       "      <td>1</td>\n",
       "      <td>1</td>\n",
       "    </tr>\n",
       "    <tr>\n",
       "      <th>1</th>\n",
       "      <td>37</td>\n",
       "      <td>1</td>\n",
       "      <td>2</td>\n",
       "      <td>130</td>\n",
       "      <td>250</td>\n",
       "      <td>0</td>\n",
       "      <td>1</td>\n",
       "      <td>187</td>\n",
       "      <td>0</td>\n",
       "      <td>3.5</td>\n",
       "      <td>0</td>\n",
       "      <td>0</td>\n",
       "      <td>2</td>\n",
       "      <td>1</td>\n",
       "    </tr>\n",
       "    <tr>\n",
       "      <th>2</th>\n",
       "      <td>41</td>\n",
       "      <td>0</td>\n",
       "      <td>1</td>\n",
       "      <td>130</td>\n",
       "      <td>204</td>\n",
       "      <td>0</td>\n",
       "      <td>0</td>\n",
       "      <td>172</td>\n",
       "      <td>0</td>\n",
       "      <td>1.4</td>\n",
       "      <td>2</td>\n",
       "      <td>0</td>\n",
       "      <td>2</td>\n",
       "      <td>1</td>\n",
       "    </tr>\n",
       "    <tr>\n",
       "      <th>3</th>\n",
       "      <td>56</td>\n",
       "      <td>1</td>\n",
       "      <td>1</td>\n",
       "      <td>120</td>\n",
       "      <td>236</td>\n",
       "      <td>0</td>\n",
       "      <td>1</td>\n",
       "      <td>178</td>\n",
       "      <td>0</td>\n",
       "      <td>0.8</td>\n",
       "      <td>2</td>\n",
       "      <td>0</td>\n",
       "      <td>2</td>\n",
       "      <td>1</td>\n",
       "    </tr>\n",
       "    <tr>\n",
       "      <th>4</th>\n",
       "      <td>57</td>\n",
       "      <td>0</td>\n",
       "      <td>0</td>\n",
       "      <td>120</td>\n",
       "      <td>354</td>\n",
       "      <td>0</td>\n",
       "      <td>1</td>\n",
       "      <td>163</td>\n",
       "      <td>1</td>\n",
       "      <td>0.6</td>\n",
       "      <td>2</td>\n",
       "      <td>0</td>\n",
       "      <td>2</td>\n",
       "      <td>1</td>\n",
       "    </tr>\n",
       "    <tr>\n",
       "      <th>...</th>\n",
       "      <td>...</td>\n",
       "      <td>...</td>\n",
       "      <td>...</td>\n",
       "      <td>...</td>\n",
       "      <td>...</td>\n",
       "      <td>...</td>\n",
       "      <td>...</td>\n",
       "      <td>...</td>\n",
       "      <td>...</td>\n",
       "      <td>...</td>\n",
       "      <td>...</td>\n",
       "      <td>...</td>\n",
       "      <td>...</td>\n",
       "      <td>...</td>\n",
       "    </tr>\n",
       "    <tr>\n",
       "      <th>298</th>\n",
       "      <td>57</td>\n",
       "      <td>0</td>\n",
       "      <td>0</td>\n",
       "      <td>140</td>\n",
       "      <td>241</td>\n",
       "      <td>0</td>\n",
       "      <td>1</td>\n",
       "      <td>123</td>\n",
       "      <td>1</td>\n",
       "      <td>0.2</td>\n",
       "      <td>1</td>\n",
       "      <td>0</td>\n",
       "      <td>3</td>\n",
       "      <td>0</td>\n",
       "    </tr>\n",
       "    <tr>\n",
       "      <th>299</th>\n",
       "      <td>45</td>\n",
       "      <td>1</td>\n",
       "      <td>3</td>\n",
       "      <td>110</td>\n",
       "      <td>264</td>\n",
       "      <td>0</td>\n",
       "      <td>1</td>\n",
       "      <td>132</td>\n",
       "      <td>0</td>\n",
       "      <td>1.2</td>\n",
       "      <td>1</td>\n",
       "      <td>0</td>\n",
       "      <td>3</td>\n",
       "      <td>0</td>\n",
       "    </tr>\n",
       "    <tr>\n",
       "      <th>300</th>\n",
       "      <td>68</td>\n",
       "      <td>1</td>\n",
       "      <td>0</td>\n",
       "      <td>144</td>\n",
       "      <td>193</td>\n",
       "      <td>1</td>\n",
       "      <td>1</td>\n",
       "      <td>141</td>\n",
       "      <td>0</td>\n",
       "      <td>3.4</td>\n",
       "      <td>1</td>\n",
       "      <td>2</td>\n",
       "      <td>3</td>\n",
       "      <td>0</td>\n",
       "    </tr>\n",
       "    <tr>\n",
       "      <th>301</th>\n",
       "      <td>57</td>\n",
       "      <td>1</td>\n",
       "      <td>0</td>\n",
       "      <td>130</td>\n",
       "      <td>131</td>\n",
       "      <td>0</td>\n",
       "      <td>1</td>\n",
       "      <td>115</td>\n",
       "      <td>1</td>\n",
       "      <td>1.2</td>\n",
       "      <td>1</td>\n",
       "      <td>1</td>\n",
       "      <td>3</td>\n",
       "      <td>0</td>\n",
       "    </tr>\n",
       "    <tr>\n",
       "      <th>302</th>\n",
       "      <td>57</td>\n",
       "      <td>0</td>\n",
       "      <td>1</td>\n",
       "      <td>130</td>\n",
       "      <td>236</td>\n",
       "      <td>0</td>\n",
       "      <td>0</td>\n",
       "      <td>174</td>\n",
       "      <td>0</td>\n",
       "      <td>0.0</td>\n",
       "      <td>1</td>\n",
       "      <td>1</td>\n",
       "      <td>2</td>\n",
       "      <td>0</td>\n",
       "    </tr>\n",
       "  </tbody>\n",
       "</table>\n",
       "<p>303 rows × 14 columns</p>\n",
       "</div>"
      ],
      "text/plain": [
       "     age  sex  cp  trestbps  chol  fbs  restecg  thalach  exang  oldpeak  \\\n",
       "0     63    1   3       145   233    1        0      150      0      2.3   \n",
       "1     37    1   2       130   250    0        1      187      0      3.5   \n",
       "2     41    0   1       130   204    0        0      172      0      1.4   \n",
       "3     56    1   1       120   236    0        1      178      0      0.8   \n",
       "4     57    0   0       120   354    0        1      163      1      0.6   \n",
       "..   ...  ...  ..       ...   ...  ...      ...      ...    ...      ...   \n",
       "298   57    0   0       140   241    0        1      123      1      0.2   \n",
       "299   45    1   3       110   264    0        1      132      0      1.2   \n",
       "300   68    1   0       144   193    1        1      141      0      3.4   \n",
       "301   57    1   0       130   131    0        1      115      1      1.2   \n",
       "302   57    0   1       130   236    0        0      174      0      0.0   \n",
       "\n",
       "     slope  ca  thal  target  \n",
       "0        0   0     1       1  \n",
       "1        0   0     2       1  \n",
       "2        2   0     2       1  \n",
       "3        2   0     2       1  \n",
       "4        2   0     2       1  \n",
       "..     ...  ..   ...     ...  \n",
       "298      1   0     3       0  \n",
       "299      1   0     3       0  \n",
       "300      1   2     3       0  \n",
       "301      1   1     3       0  \n",
       "302      1   1     2       0  \n",
       "\n",
       "[303 rows x 14 columns]"
      ]
     },
     "execution_count": 4,
     "metadata": {},
     "output_type": "execute_result"
    }
   ],
   "source": [
    "heart_df"
   ]
  },
  {
   "cell_type": "code",
   "execution_count": 5,
   "metadata": {
    "ExecuteTime": {
     "end_time": "2023-04-07T16:04:50.746625Z",
     "start_time": "2023-04-07T16:04:50.741597Z"
    }
   },
   "outputs": [
    {
     "data": {
      "text/plain": [
       "pandas.core.frame.DataFrame"
      ]
     },
     "execution_count": 5,
     "metadata": {},
     "output_type": "execute_result"
    }
   ],
   "source": [
    "type(heart_df)"
   ]
  },
  {
   "cell_type": "code",
   "execution_count": 6,
   "metadata": {
    "ExecuteTime": {
     "end_time": "2023-04-07T16:05:25.466626Z",
     "start_time": "2023-04-07T16:05:25.453096Z"
    }
   },
   "outputs": [
    {
     "data": {
      "text/plain": [
       "0      63\n",
       "1      37\n",
       "2      41\n",
       "3      56\n",
       "4      57\n",
       "       ..\n",
       "298    57\n",
       "299    45\n",
       "300    68\n",
       "301    57\n",
       "302    57\n",
       "Name: age, Length: 303, dtype: int64"
      ]
     },
     "execution_count": 6,
     "metadata": {},
     "output_type": "execute_result"
    }
   ],
   "source": [
    "# Let's grab just one column\n",
    "heart_df['age']"
   ]
  },
  {
   "cell_type": "code",
   "execution_count": 7,
   "metadata": {
    "ExecuteTime": {
     "end_time": "2023-04-07T16:05:49.181600Z",
     "start_time": "2023-04-07T16:05:49.168095Z"
    }
   },
   "outputs": [],
   "source": [
    "age_series = heart_df['age']"
   ]
  },
  {
   "cell_type": "code",
   "execution_count": 8,
   "metadata": {
    "ExecuteTime": {
     "end_time": "2023-04-07T16:05:58.884597Z",
     "start_time": "2023-04-07T16:05:58.873097Z"
    }
   },
   "outputs": [
    {
     "data": {
      "text/plain": [
       "pandas.core.series.Series"
      ]
     },
     "execution_count": 8,
     "metadata": {},
     "output_type": "execute_result"
    }
   ],
   "source": [
    "type(age_series)"
   ]
  },
  {
   "cell_type": "markdown",
   "metadata": {},
   "source": [
    "Notice how we can isolate a column of our DataFrame simply by using square brackets together with the name of the column. We can also access columns as an attribute of the DataFrame - but that only works if the name of the column doesn't have any spaces or weird characters!"
   ]
  },
  {
   "cell_type": "code",
   "execution_count": 9,
   "metadata": {
    "ExecuteTime": {
     "end_time": "2023-04-07T16:06:46.020097Z",
     "start_time": "2023-04-07T16:06:46.003597Z"
    }
   },
   "outputs": [
    {
     "data": {
      "text/plain": [
       "0      63\n",
       "1      37\n",
       "2      41\n",
       "3      56\n",
       "4      57\n",
       "       ..\n",
       "298    57\n",
       "299    45\n",
       "300    68\n",
       "301    57\n",
       "302    57\n",
       "Name: age, Length: 303, dtype: int64"
      ]
     },
     "execution_count": 9,
     "metadata": {},
     "output_type": "execute_result"
    }
   ],
   "source": [
    "# Grab the same column as an attribute\n",
    "heart_df.age"
   ]
  },
  {
   "cell_type": "code",
   "execution_count": 10,
   "metadata": {
    "ExecuteTime": {
     "end_time": "2023-04-07T16:07:09.285597Z",
     "start_time": "2023-04-07T16:07:09.273597Z"
    }
   },
   "outputs": [],
   "source": [
    "heart_df['test col'] = heart_df.age * 2"
   ]
  },
  {
   "cell_type": "code",
   "execution_count": 11,
   "metadata": {
    "ExecuteTime": {
     "end_time": "2023-04-07T16:07:11.967097Z",
     "start_time": "2023-04-07T16:07:11.942097Z"
    }
   },
   "outputs": [
    {
     "data": {
      "text/html": [
       "<div>\n",
       "<style scoped>\n",
       "    .dataframe tbody tr th:only-of-type {\n",
       "        vertical-align: middle;\n",
       "    }\n",
       "\n",
       "    .dataframe tbody tr th {\n",
       "        vertical-align: top;\n",
       "    }\n",
       "\n",
       "    .dataframe thead th {\n",
       "        text-align: right;\n",
       "    }\n",
       "</style>\n",
       "<table border=\"1\" class=\"dataframe\">\n",
       "  <thead>\n",
       "    <tr style=\"text-align: right;\">\n",
       "      <th></th>\n",
       "      <th>age</th>\n",
       "      <th>sex</th>\n",
       "      <th>cp</th>\n",
       "      <th>trestbps</th>\n",
       "      <th>chol</th>\n",
       "      <th>fbs</th>\n",
       "      <th>restecg</th>\n",
       "      <th>thalach</th>\n",
       "      <th>exang</th>\n",
       "      <th>oldpeak</th>\n",
       "      <th>slope</th>\n",
       "      <th>ca</th>\n",
       "      <th>thal</th>\n",
       "      <th>target</th>\n",
       "      <th>test col</th>\n",
       "    </tr>\n",
       "  </thead>\n",
       "  <tbody>\n",
       "    <tr>\n",
       "      <th>0</th>\n",
       "      <td>63</td>\n",
       "      <td>1</td>\n",
       "      <td>3</td>\n",
       "      <td>145</td>\n",
       "      <td>233</td>\n",
       "      <td>1</td>\n",
       "      <td>0</td>\n",
       "      <td>150</td>\n",
       "      <td>0</td>\n",
       "      <td>2.3</td>\n",
       "      <td>0</td>\n",
       "      <td>0</td>\n",
       "      <td>1</td>\n",
       "      <td>1</td>\n",
       "      <td>126</td>\n",
       "    </tr>\n",
       "    <tr>\n",
       "      <th>1</th>\n",
       "      <td>37</td>\n",
       "      <td>1</td>\n",
       "      <td>2</td>\n",
       "      <td>130</td>\n",
       "      <td>250</td>\n",
       "      <td>0</td>\n",
       "      <td>1</td>\n",
       "      <td>187</td>\n",
       "      <td>0</td>\n",
       "      <td>3.5</td>\n",
       "      <td>0</td>\n",
       "      <td>0</td>\n",
       "      <td>2</td>\n",
       "      <td>1</td>\n",
       "      <td>74</td>\n",
       "    </tr>\n",
       "    <tr>\n",
       "      <th>2</th>\n",
       "      <td>41</td>\n",
       "      <td>0</td>\n",
       "      <td>1</td>\n",
       "      <td>130</td>\n",
       "      <td>204</td>\n",
       "      <td>0</td>\n",
       "      <td>0</td>\n",
       "      <td>172</td>\n",
       "      <td>0</td>\n",
       "      <td>1.4</td>\n",
       "      <td>2</td>\n",
       "      <td>0</td>\n",
       "      <td>2</td>\n",
       "      <td>1</td>\n",
       "      <td>82</td>\n",
       "    </tr>\n",
       "    <tr>\n",
       "      <th>3</th>\n",
       "      <td>56</td>\n",
       "      <td>1</td>\n",
       "      <td>1</td>\n",
       "      <td>120</td>\n",
       "      <td>236</td>\n",
       "      <td>0</td>\n",
       "      <td>1</td>\n",
       "      <td>178</td>\n",
       "      <td>0</td>\n",
       "      <td>0.8</td>\n",
       "      <td>2</td>\n",
       "      <td>0</td>\n",
       "      <td>2</td>\n",
       "      <td>1</td>\n",
       "      <td>112</td>\n",
       "    </tr>\n",
       "    <tr>\n",
       "      <th>4</th>\n",
       "      <td>57</td>\n",
       "      <td>0</td>\n",
       "      <td>0</td>\n",
       "      <td>120</td>\n",
       "      <td>354</td>\n",
       "      <td>0</td>\n",
       "      <td>1</td>\n",
       "      <td>163</td>\n",
       "      <td>1</td>\n",
       "      <td>0.6</td>\n",
       "      <td>2</td>\n",
       "      <td>0</td>\n",
       "      <td>2</td>\n",
       "      <td>1</td>\n",
       "      <td>114</td>\n",
       "    </tr>\n",
       "    <tr>\n",
       "      <th>...</th>\n",
       "      <td>...</td>\n",
       "      <td>...</td>\n",
       "      <td>...</td>\n",
       "      <td>...</td>\n",
       "      <td>...</td>\n",
       "      <td>...</td>\n",
       "      <td>...</td>\n",
       "      <td>...</td>\n",
       "      <td>...</td>\n",
       "      <td>...</td>\n",
       "      <td>...</td>\n",
       "      <td>...</td>\n",
       "      <td>...</td>\n",
       "      <td>...</td>\n",
       "      <td>...</td>\n",
       "    </tr>\n",
       "    <tr>\n",
       "      <th>298</th>\n",
       "      <td>57</td>\n",
       "      <td>0</td>\n",
       "      <td>0</td>\n",
       "      <td>140</td>\n",
       "      <td>241</td>\n",
       "      <td>0</td>\n",
       "      <td>1</td>\n",
       "      <td>123</td>\n",
       "      <td>1</td>\n",
       "      <td>0.2</td>\n",
       "      <td>1</td>\n",
       "      <td>0</td>\n",
       "      <td>3</td>\n",
       "      <td>0</td>\n",
       "      <td>114</td>\n",
       "    </tr>\n",
       "    <tr>\n",
       "      <th>299</th>\n",
       "      <td>45</td>\n",
       "      <td>1</td>\n",
       "      <td>3</td>\n",
       "      <td>110</td>\n",
       "      <td>264</td>\n",
       "      <td>0</td>\n",
       "      <td>1</td>\n",
       "      <td>132</td>\n",
       "      <td>0</td>\n",
       "      <td>1.2</td>\n",
       "      <td>1</td>\n",
       "      <td>0</td>\n",
       "      <td>3</td>\n",
       "      <td>0</td>\n",
       "      <td>90</td>\n",
       "    </tr>\n",
       "    <tr>\n",
       "      <th>300</th>\n",
       "      <td>68</td>\n",
       "      <td>1</td>\n",
       "      <td>0</td>\n",
       "      <td>144</td>\n",
       "      <td>193</td>\n",
       "      <td>1</td>\n",
       "      <td>1</td>\n",
       "      <td>141</td>\n",
       "      <td>0</td>\n",
       "      <td>3.4</td>\n",
       "      <td>1</td>\n",
       "      <td>2</td>\n",
       "      <td>3</td>\n",
       "      <td>0</td>\n",
       "      <td>136</td>\n",
       "    </tr>\n",
       "    <tr>\n",
       "      <th>301</th>\n",
       "      <td>57</td>\n",
       "      <td>1</td>\n",
       "      <td>0</td>\n",
       "      <td>130</td>\n",
       "      <td>131</td>\n",
       "      <td>0</td>\n",
       "      <td>1</td>\n",
       "      <td>115</td>\n",
       "      <td>1</td>\n",
       "      <td>1.2</td>\n",
       "      <td>1</td>\n",
       "      <td>1</td>\n",
       "      <td>3</td>\n",
       "      <td>0</td>\n",
       "      <td>114</td>\n",
       "    </tr>\n",
       "    <tr>\n",
       "      <th>302</th>\n",
       "      <td>57</td>\n",
       "      <td>0</td>\n",
       "      <td>1</td>\n",
       "      <td>130</td>\n",
       "      <td>236</td>\n",
       "      <td>0</td>\n",
       "      <td>0</td>\n",
       "      <td>174</td>\n",
       "      <td>0</td>\n",
       "      <td>0.0</td>\n",
       "      <td>1</td>\n",
       "      <td>1</td>\n",
       "      <td>2</td>\n",
       "      <td>0</td>\n",
       "      <td>114</td>\n",
       "    </tr>\n",
       "  </tbody>\n",
       "</table>\n",
       "<p>303 rows × 15 columns</p>\n",
       "</div>"
      ],
      "text/plain": [
       "     age  sex  cp  trestbps  chol  fbs  restecg  thalach  exang  oldpeak  \\\n",
       "0     63    1   3       145   233    1        0      150      0      2.3   \n",
       "1     37    1   2       130   250    0        1      187      0      3.5   \n",
       "2     41    0   1       130   204    0        0      172      0      1.4   \n",
       "3     56    1   1       120   236    0        1      178      0      0.8   \n",
       "4     57    0   0       120   354    0        1      163      1      0.6   \n",
       "..   ...  ...  ..       ...   ...  ...      ...      ...    ...      ...   \n",
       "298   57    0   0       140   241    0        1      123      1      0.2   \n",
       "299   45    1   3       110   264    0        1      132      0      1.2   \n",
       "300   68    1   0       144   193    1        1      141      0      3.4   \n",
       "301   57    1   0       130   131    0        1      115      1      1.2   \n",
       "302   57    0   1       130   236    0        0      174      0      0.0   \n",
       "\n",
       "     slope  ca  thal  target  test col  \n",
       "0        0   0     1       1       126  \n",
       "1        0   0     2       1        74  \n",
       "2        2   0     2       1        82  \n",
       "3        2   0     2       1       112  \n",
       "4        2   0     2       1       114  \n",
       "..     ...  ..   ...     ...       ...  \n",
       "298      1   0     3       0       114  \n",
       "299      1   0     3       0        90  \n",
       "300      1   2     3       0       136  \n",
       "301      1   1     3       0       114  \n",
       "302      1   1     2       0       114  \n",
       "\n",
       "[303 rows x 15 columns]"
      ]
     },
     "execution_count": 11,
     "metadata": {},
     "output_type": "execute_result"
    }
   ],
   "source": [
    "heart_df"
   ]
  },
  {
   "cell_type": "code",
   "execution_count": 12,
   "metadata": {
    "ExecuteTime": {
     "end_time": "2023-04-07T16:07:26.614596Z",
     "start_time": "2023-04-07T16:07:26.607097Z"
    }
   },
   "outputs": [
    {
     "ename": "SyntaxError",
     "evalue": "invalid syntax (<ipython-input-12-60e7cc16c667>, line 1)",
     "output_type": "error",
     "traceback": [
      "\u001b[1;36m  File \u001b[1;32m\"<ipython-input-12-60e7cc16c667>\"\u001b[1;36m, line \u001b[1;32m1\u001b[0m\n\u001b[1;33m    heart_df.test col\u001b[0m\n\u001b[1;37m                  ^\u001b[0m\n\u001b[1;31mSyntaxError\u001b[0m\u001b[1;31m:\u001b[0m invalid syntax\n"
     ]
    }
   ],
   "source": [
    "heart_df.test col"
   ]
  },
  {
   "cell_type": "code",
   "execution_count": 13,
   "metadata": {
    "ExecuteTime": {
     "end_time": "2023-04-07T16:07:39.820596Z",
     "start_time": "2023-04-07T16:07:39.805097Z"
    }
   },
   "outputs": [
    {
     "data": {
      "text/plain": [
       "0      126\n",
       "1       74\n",
       "2       82\n",
       "3      112\n",
       "4      114\n",
       "      ... \n",
       "298    114\n",
       "299     90\n",
       "300    136\n",
       "301    114\n",
       "302    114\n",
       "Name: test col, Length: 303, dtype: int64"
      ]
     },
     "execution_count": 13,
     "metadata": {},
     "output_type": "execute_result"
    }
   ],
   "source": [
    "heart_df['test col']"
   ]
  },
  {
   "cell_type": "code",
   "execution_count": 16,
   "metadata": {
    "ExecuteTime": {
     "end_time": "2023-04-07T16:09:01.459128Z",
     "start_time": "2023-04-07T16:09:01.434601Z"
    }
   },
   "outputs": [
    {
     "data": {
      "text/html": [
       "<div>\n",
       "<style scoped>\n",
       "    .dataframe tbody tr th:only-of-type {\n",
       "        vertical-align: middle;\n",
       "    }\n",
       "\n",
       "    .dataframe tbody tr th {\n",
       "        vertical-align: top;\n",
       "    }\n",
       "\n",
       "    .dataframe thead th {\n",
       "        text-align: right;\n",
       "    }\n",
       "</style>\n",
       "<table border=\"1\" class=\"dataframe\">\n",
       "  <thead>\n",
       "    <tr style=\"text-align: right;\">\n",
       "      <th></th>\n",
       "      <th>age</th>\n",
       "      <th>cp</th>\n",
       "    </tr>\n",
       "  </thead>\n",
       "  <tbody>\n",
       "    <tr>\n",
       "      <th>0</th>\n",
       "      <td>63</td>\n",
       "      <td>3</td>\n",
       "    </tr>\n",
       "    <tr>\n",
       "      <th>1</th>\n",
       "      <td>37</td>\n",
       "      <td>2</td>\n",
       "    </tr>\n",
       "    <tr>\n",
       "      <th>2</th>\n",
       "      <td>41</td>\n",
       "      <td>1</td>\n",
       "    </tr>\n",
       "    <tr>\n",
       "      <th>3</th>\n",
       "      <td>56</td>\n",
       "      <td>1</td>\n",
       "    </tr>\n",
       "    <tr>\n",
       "      <th>4</th>\n",
       "      <td>57</td>\n",
       "      <td>0</td>\n",
       "    </tr>\n",
       "    <tr>\n",
       "      <th>...</th>\n",
       "      <td>...</td>\n",
       "      <td>...</td>\n",
       "    </tr>\n",
       "    <tr>\n",
       "      <th>298</th>\n",
       "      <td>57</td>\n",
       "      <td>0</td>\n",
       "    </tr>\n",
       "    <tr>\n",
       "      <th>299</th>\n",
       "      <td>45</td>\n",
       "      <td>3</td>\n",
       "    </tr>\n",
       "    <tr>\n",
       "      <th>300</th>\n",
       "      <td>68</td>\n",
       "      <td>0</td>\n",
       "    </tr>\n",
       "    <tr>\n",
       "      <th>301</th>\n",
       "      <td>57</td>\n",
       "      <td>0</td>\n",
       "    </tr>\n",
       "    <tr>\n",
       "      <th>302</th>\n",
       "      <td>57</td>\n",
       "      <td>1</td>\n",
       "    </tr>\n",
       "  </tbody>\n",
       "</table>\n",
       "<p>303 rows × 2 columns</p>\n",
       "</div>"
      ],
      "text/plain": [
       "     age  cp\n",
       "0     63   3\n",
       "1     37   2\n",
       "2     41   1\n",
       "3     56   1\n",
       "4     57   0\n",
       "..   ...  ..\n",
       "298   57   0\n",
       "299   45   3\n",
       "300   68   0\n",
       "301   57   0\n",
       "302   57   1\n",
       "\n",
       "[303 rows x 2 columns]"
      ]
     },
     "execution_count": 16,
     "metadata": {},
     "output_type": "execute_result"
    }
   ],
   "source": [
    "heart_df[['age','cp']]"
   ]
  },
  {
   "cell_type": "code",
   "execution_count": null,
   "metadata": {},
   "outputs": [],
   "source": [
    "# What type is the column?\n"
   ]
  },
  {
   "cell_type": "markdown",
   "metadata": {},
   "source": [
    "Both Series and DataFrames have an *index* as well:"
   ]
  },
  {
   "cell_type": "code",
   "execution_count": 18,
   "metadata": {
    "ExecuteTime": {
     "end_time": "2023-04-07T16:10:43.464596Z",
     "start_time": "2023-04-07T16:10:43.455096Z"
    }
   },
   "outputs": [
    {
     "data": {
      "text/plain": [
       "RangeIndex(start=0, stop=303, step=1)"
      ]
     },
     "execution_count": 18,
     "metadata": {},
     "output_type": "execute_result"
    }
   ],
   "source": [
    "# Check out the dataframe index\n",
    "heart_df.index"
   ]
  },
  {
   "cell_type": "code",
   "execution_count": 19,
   "metadata": {
    "ExecuteTime": {
     "end_time": "2023-04-07T16:11:09.535597Z",
     "start_time": "2023-04-07T16:11:09.531097Z"
    }
   },
   "outputs": [
    {
     "data": {
      "text/plain": [
       "RangeIndex(start=0, stop=303, step=1)"
      ]
     },
     "execution_count": 19,
     "metadata": {},
     "output_type": "execute_result"
    }
   ],
   "source": [
    "# Check out the series index\n",
    "age_series.index"
   ]
  },
  {
   "cell_type": "markdown",
   "metadata": {},
   "source": [
    "DataFrames have columns - but a Series is just a single column, so it doesn't have the columns attribute."
   ]
  },
  {
   "cell_type": "code",
   "execution_count": 20,
   "metadata": {
    "ExecuteTime": {
     "end_time": "2023-04-07T16:12:02.251096Z",
     "start_time": "2023-04-07T16:12:02.233597Z"
    }
   },
   "outputs": [
    {
     "data": {
      "text/plain": [
       "Index(['age', 'sex', 'cp', 'trestbps', 'chol', 'fbs', 'restecg', 'thalach',\n",
       "       'exang', 'oldpeak', 'slope', 'ca', 'thal', 'target', 'test col'],\n",
       "      dtype='object')"
      ]
     },
     "execution_count": 20,
     "metadata": {},
     "output_type": "execute_result"
    }
   ],
   "source": [
    "# Check out the dataframe columns\n",
    "heart_df.columns"
   ]
  },
  {
   "cell_type": "code",
   "execution_count": 23,
   "metadata": {
    "ExecuteTime": {
     "end_time": "2023-04-07T16:13:48.581097Z",
     "start_time": "2023-04-07T16:13:48.577597Z"
    }
   },
   "outputs": [],
   "source": [
    "heart_df.columns = [col.strip().replace(' ','').lower() for col in heart_df.columns]"
   ]
  },
  {
   "cell_type": "code",
   "execution_count": 24,
   "metadata": {
    "ExecuteTime": {
     "end_time": "2023-04-07T16:13:49.108096Z",
     "start_time": "2023-04-07T16:13:49.090096Z"
    }
   },
   "outputs": [
    {
     "data": {
      "text/html": [
       "<div>\n",
       "<style scoped>\n",
       "    .dataframe tbody tr th:only-of-type {\n",
       "        vertical-align: middle;\n",
       "    }\n",
       "\n",
       "    .dataframe tbody tr th {\n",
       "        vertical-align: top;\n",
       "    }\n",
       "\n",
       "    .dataframe thead th {\n",
       "        text-align: right;\n",
       "    }\n",
       "</style>\n",
       "<table border=\"1\" class=\"dataframe\">\n",
       "  <thead>\n",
       "    <tr style=\"text-align: right;\">\n",
       "      <th></th>\n",
       "      <th>age</th>\n",
       "      <th>sex</th>\n",
       "      <th>cp</th>\n",
       "      <th>trestbps</th>\n",
       "      <th>chol</th>\n",
       "      <th>fbs</th>\n",
       "      <th>restecg</th>\n",
       "      <th>thalach</th>\n",
       "      <th>exang</th>\n",
       "      <th>oldpeak</th>\n",
       "      <th>slope</th>\n",
       "      <th>ca</th>\n",
       "      <th>thal</th>\n",
       "      <th>target</th>\n",
       "      <th>testcol</th>\n",
       "    </tr>\n",
       "  </thead>\n",
       "  <tbody>\n",
       "    <tr>\n",
       "      <th>0</th>\n",
       "      <td>63</td>\n",
       "      <td>1</td>\n",
       "      <td>3</td>\n",
       "      <td>145</td>\n",
       "      <td>233</td>\n",
       "      <td>1</td>\n",
       "      <td>0</td>\n",
       "      <td>150</td>\n",
       "      <td>0</td>\n",
       "      <td>2.3</td>\n",
       "      <td>0</td>\n",
       "      <td>0</td>\n",
       "      <td>1</td>\n",
       "      <td>1</td>\n",
       "      <td>126</td>\n",
       "    </tr>\n",
       "    <tr>\n",
       "      <th>1</th>\n",
       "      <td>37</td>\n",
       "      <td>1</td>\n",
       "      <td>2</td>\n",
       "      <td>130</td>\n",
       "      <td>250</td>\n",
       "      <td>0</td>\n",
       "      <td>1</td>\n",
       "      <td>187</td>\n",
       "      <td>0</td>\n",
       "      <td>3.5</td>\n",
       "      <td>0</td>\n",
       "      <td>0</td>\n",
       "      <td>2</td>\n",
       "      <td>1</td>\n",
       "      <td>74</td>\n",
       "    </tr>\n",
       "    <tr>\n",
       "      <th>2</th>\n",
       "      <td>41</td>\n",
       "      <td>0</td>\n",
       "      <td>1</td>\n",
       "      <td>130</td>\n",
       "      <td>204</td>\n",
       "      <td>0</td>\n",
       "      <td>0</td>\n",
       "      <td>172</td>\n",
       "      <td>0</td>\n",
       "      <td>1.4</td>\n",
       "      <td>2</td>\n",
       "      <td>0</td>\n",
       "      <td>2</td>\n",
       "      <td>1</td>\n",
       "      <td>82</td>\n",
       "    </tr>\n",
       "    <tr>\n",
       "      <th>3</th>\n",
       "      <td>56</td>\n",
       "      <td>1</td>\n",
       "      <td>1</td>\n",
       "      <td>120</td>\n",
       "      <td>236</td>\n",
       "      <td>0</td>\n",
       "      <td>1</td>\n",
       "      <td>178</td>\n",
       "      <td>0</td>\n",
       "      <td>0.8</td>\n",
       "      <td>2</td>\n",
       "      <td>0</td>\n",
       "      <td>2</td>\n",
       "      <td>1</td>\n",
       "      <td>112</td>\n",
       "    </tr>\n",
       "    <tr>\n",
       "      <th>4</th>\n",
       "      <td>57</td>\n",
       "      <td>0</td>\n",
       "      <td>0</td>\n",
       "      <td>120</td>\n",
       "      <td>354</td>\n",
       "      <td>0</td>\n",
       "      <td>1</td>\n",
       "      <td>163</td>\n",
       "      <td>1</td>\n",
       "      <td>0.6</td>\n",
       "      <td>2</td>\n",
       "      <td>0</td>\n",
       "      <td>2</td>\n",
       "      <td>1</td>\n",
       "      <td>114</td>\n",
       "    </tr>\n",
       "    <tr>\n",
       "      <th>...</th>\n",
       "      <td>...</td>\n",
       "      <td>...</td>\n",
       "      <td>...</td>\n",
       "      <td>...</td>\n",
       "      <td>...</td>\n",
       "      <td>...</td>\n",
       "      <td>...</td>\n",
       "      <td>...</td>\n",
       "      <td>...</td>\n",
       "      <td>...</td>\n",
       "      <td>...</td>\n",
       "      <td>...</td>\n",
       "      <td>...</td>\n",
       "      <td>...</td>\n",
       "      <td>...</td>\n",
       "    </tr>\n",
       "    <tr>\n",
       "      <th>298</th>\n",
       "      <td>57</td>\n",
       "      <td>0</td>\n",
       "      <td>0</td>\n",
       "      <td>140</td>\n",
       "      <td>241</td>\n",
       "      <td>0</td>\n",
       "      <td>1</td>\n",
       "      <td>123</td>\n",
       "      <td>1</td>\n",
       "      <td>0.2</td>\n",
       "      <td>1</td>\n",
       "      <td>0</td>\n",
       "      <td>3</td>\n",
       "      <td>0</td>\n",
       "      <td>114</td>\n",
       "    </tr>\n",
       "    <tr>\n",
       "      <th>299</th>\n",
       "      <td>45</td>\n",
       "      <td>1</td>\n",
       "      <td>3</td>\n",
       "      <td>110</td>\n",
       "      <td>264</td>\n",
       "      <td>0</td>\n",
       "      <td>1</td>\n",
       "      <td>132</td>\n",
       "      <td>0</td>\n",
       "      <td>1.2</td>\n",
       "      <td>1</td>\n",
       "      <td>0</td>\n",
       "      <td>3</td>\n",
       "      <td>0</td>\n",
       "      <td>90</td>\n",
       "    </tr>\n",
       "    <tr>\n",
       "      <th>300</th>\n",
       "      <td>68</td>\n",
       "      <td>1</td>\n",
       "      <td>0</td>\n",
       "      <td>144</td>\n",
       "      <td>193</td>\n",
       "      <td>1</td>\n",
       "      <td>1</td>\n",
       "      <td>141</td>\n",
       "      <td>0</td>\n",
       "      <td>3.4</td>\n",
       "      <td>1</td>\n",
       "      <td>2</td>\n",
       "      <td>3</td>\n",
       "      <td>0</td>\n",
       "      <td>136</td>\n",
       "    </tr>\n",
       "    <tr>\n",
       "      <th>301</th>\n",
       "      <td>57</td>\n",
       "      <td>1</td>\n",
       "      <td>0</td>\n",
       "      <td>130</td>\n",
       "      <td>131</td>\n",
       "      <td>0</td>\n",
       "      <td>1</td>\n",
       "      <td>115</td>\n",
       "      <td>1</td>\n",
       "      <td>1.2</td>\n",
       "      <td>1</td>\n",
       "      <td>1</td>\n",
       "      <td>3</td>\n",
       "      <td>0</td>\n",
       "      <td>114</td>\n",
       "    </tr>\n",
       "    <tr>\n",
       "      <th>302</th>\n",
       "      <td>57</td>\n",
       "      <td>0</td>\n",
       "      <td>1</td>\n",
       "      <td>130</td>\n",
       "      <td>236</td>\n",
       "      <td>0</td>\n",
       "      <td>0</td>\n",
       "      <td>174</td>\n",
       "      <td>0</td>\n",
       "      <td>0.0</td>\n",
       "      <td>1</td>\n",
       "      <td>1</td>\n",
       "      <td>2</td>\n",
       "      <td>0</td>\n",
       "      <td>114</td>\n",
       "    </tr>\n",
       "  </tbody>\n",
       "</table>\n",
       "<p>303 rows × 15 columns</p>\n",
       "</div>"
      ],
      "text/plain": [
       "     age  sex  cp  trestbps  chol  fbs  restecg  thalach  exang  oldpeak  \\\n",
       "0     63    1   3       145   233    1        0      150      0      2.3   \n",
       "1     37    1   2       130   250    0        1      187      0      3.5   \n",
       "2     41    0   1       130   204    0        0      172      0      1.4   \n",
       "3     56    1   1       120   236    0        1      178      0      0.8   \n",
       "4     57    0   0       120   354    0        1      163      1      0.6   \n",
       "..   ...  ...  ..       ...   ...  ...      ...      ...    ...      ...   \n",
       "298   57    0   0       140   241    0        1      123      1      0.2   \n",
       "299   45    1   3       110   264    0        1      132      0      1.2   \n",
       "300   68    1   0       144   193    1        1      141      0      3.4   \n",
       "301   57    1   0       130   131    0        1      115      1      1.2   \n",
       "302   57    0   1       130   236    0        0      174      0      0.0   \n",
       "\n",
       "     slope  ca  thal  target  testcol  \n",
       "0        0   0     1       1      126  \n",
       "1        0   0     2       1       74  \n",
       "2        2   0     2       1       82  \n",
       "3        2   0     2       1      112  \n",
       "4        2   0     2       1      114  \n",
       "..     ...  ..   ...     ...      ...  \n",
       "298      1   0     3       0      114  \n",
       "299      1   0     3       0       90  \n",
       "300      1   2     3       0      136  \n",
       "301      1   1     3       0      114  \n",
       "302      1   1     2       0      114  \n",
       "\n",
       "[303 rows x 15 columns]"
      ]
     },
     "execution_count": 24,
     "metadata": {},
     "output_type": "execute_result"
    }
   ],
   "source": [
    "heart_df"
   ]
  },
  {
   "cell_type": "code",
   "execution_count": null,
   "metadata": {},
   "outputs": [],
   "source": []
  },
  {
   "cell_type": "code",
   "execution_count": null,
   "metadata": {},
   "outputs": [],
   "source": []
  },
  {
   "cell_type": "code",
   "execution_count": null,
   "metadata": {},
   "outputs": [],
   "source": []
  },
  {
   "cell_type": "code",
   "execution_count": 26,
   "metadata": {
    "ExecuteTime": {
     "end_time": "2023-04-07T16:14:31.702096Z",
     "start_time": "2023-04-07T16:14:31.677597Z"
    }
   },
   "outputs": [
    {
     "ename": "AttributeError",
     "evalue": "'Series' object has no attribute 'columns'",
     "output_type": "error",
     "traceback": [
      "\u001b[1;31m---------------------------------------------------------------------------\u001b[0m",
      "\u001b[1;31mAttributeError\u001b[0m                            Traceback (most recent call last)",
      "\u001b[1;32m<ipython-input-26-6ad97738b5a3>\u001b[0m in \u001b[0;36m<module>\u001b[1;34m\u001b[0m\n\u001b[0;32m      1\u001b[0m \u001b[1;31m# Now try with the series\u001b[0m\u001b[1;33m\u001b[0m\u001b[1;33m\u001b[0m\u001b[1;33m\u001b[0m\u001b[0m\n\u001b[1;32m----> 2\u001b[1;33m \u001b[0mage_series\u001b[0m\u001b[1;33m.\u001b[0m\u001b[0mcolumns\u001b[0m\u001b[1;33m\u001b[0m\u001b[1;33m\u001b[0m\u001b[0m\n\u001b[0m",
      "\u001b[1;32m~\\anaconda3\\envs\\learn-env\\lib\\site-packages\\pandas\\core\\generic.py\u001b[0m in \u001b[0;36m__getattr__\u001b[1;34m(self, name)\u001b[0m\n\u001b[0;32m   5137\u001b[0m             \u001b[1;32mif\u001b[0m \u001b[0mself\u001b[0m\u001b[1;33m.\u001b[0m\u001b[0m_info_axis\u001b[0m\u001b[1;33m.\u001b[0m\u001b[0m_can_hold_identifiers_and_holds_name\u001b[0m\u001b[1;33m(\u001b[0m\u001b[0mname\u001b[0m\u001b[1;33m)\u001b[0m\u001b[1;33m:\u001b[0m\u001b[1;33m\u001b[0m\u001b[1;33m\u001b[0m\u001b[0m\n\u001b[0;32m   5138\u001b[0m                 \u001b[1;32mreturn\u001b[0m \u001b[0mself\u001b[0m\u001b[1;33m[\u001b[0m\u001b[0mname\u001b[0m\u001b[1;33m]\u001b[0m\u001b[1;33m\u001b[0m\u001b[1;33m\u001b[0m\u001b[0m\n\u001b[1;32m-> 5139\u001b[1;33m             \u001b[1;32mreturn\u001b[0m \u001b[0mobject\u001b[0m\u001b[1;33m.\u001b[0m\u001b[0m__getattribute__\u001b[0m\u001b[1;33m(\u001b[0m\u001b[0mself\u001b[0m\u001b[1;33m,\u001b[0m \u001b[0mname\u001b[0m\u001b[1;33m)\u001b[0m\u001b[1;33m\u001b[0m\u001b[1;33m\u001b[0m\u001b[0m\n\u001b[0m\u001b[0;32m   5140\u001b[0m \u001b[1;33m\u001b[0m\u001b[0m\n\u001b[0;32m   5141\u001b[0m     \u001b[1;32mdef\u001b[0m \u001b[0m__setattr__\u001b[0m\u001b[1;33m(\u001b[0m\u001b[0mself\u001b[0m\u001b[1;33m,\u001b[0m \u001b[0mname\u001b[0m\u001b[1;33m:\u001b[0m \u001b[0mstr\u001b[0m\u001b[1;33m,\u001b[0m \u001b[0mvalue\u001b[0m\u001b[1;33m)\u001b[0m \u001b[1;33m->\u001b[0m \u001b[1;32mNone\u001b[0m\u001b[1;33m:\u001b[0m\u001b[1;33m\u001b[0m\u001b[1;33m\u001b[0m\u001b[0m\n",
      "\u001b[1;31mAttributeError\u001b[0m: 'Series' object has no attribute 'columns'"
     ]
    }
   ],
   "source": [
    "# Now try with the series\n",
    "age_series.columns"
   ]
  },
  {
   "cell_type": "markdown",
   "metadata": {},
   "source": [
    "Pandas is built on top of NumPy, and we can always access the NumPy array underlying a DataFrame using `.values`."
   ]
  },
  {
   "cell_type": "code",
   "execution_count": 28,
   "metadata": {
    "ExecuteTime": {
     "end_time": "2023-04-07T16:15:17.148096Z",
     "start_time": "2023-04-07T16:15:17.130596Z"
    },
    "scrolled": true
   },
   "outputs": [
    {
     "data": {
      "text/plain": [
       "array([[ 63.,   1.,   3., ...,   1.,   1., 126.],\n",
       "       [ 37.,   1.,   2., ...,   2.,   1.,  74.],\n",
       "       [ 41.,   0.,   1., ...,   2.,   1.,  82.],\n",
       "       ...,\n",
       "       [ 68.,   1.,   0., ...,   3.,   0., 136.],\n",
       "       [ 57.,   1.,   0., ...,   3.,   0., 114.],\n",
       "       [ 57.,   0.,   1., ...,   2.,   0., 114.]])"
      ]
     },
     "execution_count": 28,
     "metadata": {},
     "output_type": "execute_result"
    }
   ],
   "source": [
    "# Check out the dataframe values\n",
    "heart_df.values"
   ]
  },
  {
   "cell_type": "code",
   "execution_count": 29,
   "metadata": {
    "ExecuteTime": {
     "end_time": "2023-04-07T16:15:55.495098Z",
     "start_time": "2023-04-07T16:15:55.489595Z"
    },
    "scrolled": true
   },
   "outputs": [
    {
     "data": {
      "text/plain": [
       "numpy.ndarray"
      ]
     },
     "execution_count": 29,
     "metadata": {},
     "output_type": "execute_result"
    }
   ],
   "source": [
    "type(heart_df.values)"
   ]
  },
  {
   "cell_type": "code",
   "execution_count": 31,
   "metadata": {
    "ExecuteTime": {
     "end_time": "2023-04-07T16:18:22.094096Z",
     "start_time": "2023-04-07T16:18:22.090096Z"
    }
   },
   "outputs": [],
   "source": [
    "heart_df['letter'] = 'a'"
   ]
  },
  {
   "cell_type": "code",
   "execution_count": 32,
   "metadata": {
    "ExecuteTime": {
     "end_time": "2023-04-07T16:18:28.185597Z",
     "start_time": "2023-04-07T16:18:28.158099Z"
    }
   },
   "outputs": [
    {
     "data": {
      "text/html": [
       "<div>\n",
       "<style scoped>\n",
       "    .dataframe tbody tr th:only-of-type {\n",
       "        vertical-align: middle;\n",
       "    }\n",
       "\n",
       "    .dataframe tbody tr th {\n",
       "        vertical-align: top;\n",
       "    }\n",
       "\n",
       "    .dataframe thead th {\n",
       "        text-align: right;\n",
       "    }\n",
       "</style>\n",
       "<table border=\"1\" class=\"dataframe\">\n",
       "  <thead>\n",
       "    <tr style=\"text-align: right;\">\n",
       "      <th></th>\n",
       "      <th>age</th>\n",
       "      <th>sex</th>\n",
       "      <th>cp</th>\n",
       "      <th>trestbps</th>\n",
       "      <th>chol</th>\n",
       "      <th>fbs</th>\n",
       "      <th>restecg</th>\n",
       "      <th>thalach</th>\n",
       "      <th>exang</th>\n",
       "      <th>oldpeak</th>\n",
       "      <th>slope</th>\n",
       "      <th>ca</th>\n",
       "      <th>thal</th>\n",
       "      <th>target</th>\n",
       "      <th>testcol</th>\n",
       "      <th>letter</th>\n",
       "    </tr>\n",
       "  </thead>\n",
       "  <tbody>\n",
       "    <tr>\n",
       "      <th>0</th>\n",
       "      <td>63</td>\n",
       "      <td>1</td>\n",
       "      <td>3</td>\n",
       "      <td>145</td>\n",
       "      <td>233</td>\n",
       "      <td>1</td>\n",
       "      <td>0</td>\n",
       "      <td>150</td>\n",
       "      <td>0</td>\n",
       "      <td>2.3</td>\n",
       "      <td>0</td>\n",
       "      <td>0</td>\n",
       "      <td>1</td>\n",
       "      <td>1</td>\n",
       "      <td>126</td>\n",
       "      <td>a</td>\n",
       "    </tr>\n",
       "    <tr>\n",
       "      <th>1</th>\n",
       "      <td>37</td>\n",
       "      <td>1</td>\n",
       "      <td>2</td>\n",
       "      <td>130</td>\n",
       "      <td>250</td>\n",
       "      <td>0</td>\n",
       "      <td>1</td>\n",
       "      <td>187</td>\n",
       "      <td>0</td>\n",
       "      <td>3.5</td>\n",
       "      <td>0</td>\n",
       "      <td>0</td>\n",
       "      <td>2</td>\n",
       "      <td>1</td>\n",
       "      <td>74</td>\n",
       "      <td>a</td>\n",
       "    </tr>\n",
       "    <tr>\n",
       "      <th>2</th>\n",
       "      <td>41</td>\n",
       "      <td>0</td>\n",
       "      <td>1</td>\n",
       "      <td>130</td>\n",
       "      <td>204</td>\n",
       "      <td>0</td>\n",
       "      <td>0</td>\n",
       "      <td>172</td>\n",
       "      <td>0</td>\n",
       "      <td>1.4</td>\n",
       "      <td>2</td>\n",
       "      <td>0</td>\n",
       "      <td>2</td>\n",
       "      <td>1</td>\n",
       "      <td>82</td>\n",
       "      <td>a</td>\n",
       "    </tr>\n",
       "    <tr>\n",
       "      <th>3</th>\n",
       "      <td>56</td>\n",
       "      <td>1</td>\n",
       "      <td>1</td>\n",
       "      <td>120</td>\n",
       "      <td>236</td>\n",
       "      <td>0</td>\n",
       "      <td>1</td>\n",
       "      <td>178</td>\n",
       "      <td>0</td>\n",
       "      <td>0.8</td>\n",
       "      <td>2</td>\n",
       "      <td>0</td>\n",
       "      <td>2</td>\n",
       "      <td>1</td>\n",
       "      <td>112</td>\n",
       "      <td>a</td>\n",
       "    </tr>\n",
       "    <tr>\n",
       "      <th>4</th>\n",
       "      <td>57</td>\n",
       "      <td>0</td>\n",
       "      <td>0</td>\n",
       "      <td>120</td>\n",
       "      <td>354</td>\n",
       "      <td>0</td>\n",
       "      <td>1</td>\n",
       "      <td>163</td>\n",
       "      <td>1</td>\n",
       "      <td>0.6</td>\n",
       "      <td>2</td>\n",
       "      <td>0</td>\n",
       "      <td>2</td>\n",
       "      <td>1</td>\n",
       "      <td>114</td>\n",
       "      <td>a</td>\n",
       "    </tr>\n",
       "  </tbody>\n",
       "</table>\n",
       "</div>"
      ],
      "text/plain": [
       "   age  sex  cp  trestbps  chol  fbs  restecg  thalach  exang  oldpeak  slope  \\\n",
       "0   63    1   3       145   233    1        0      150      0      2.3      0   \n",
       "1   37    1   2       130   250    0        1      187      0      3.5      0   \n",
       "2   41    0   1       130   204    0        0      172      0      1.4      2   \n",
       "3   56    1   1       120   236    0        1      178      0      0.8      2   \n",
       "4   57    0   0       120   354    0        1      163      1      0.6      2   \n",
       "\n",
       "   ca  thal  target  testcol letter  \n",
       "0   0     1       1      126      a  \n",
       "1   0     2       1       74      a  \n",
       "2   0     2       1       82      a  \n",
       "3   0     2       1      112      a  \n",
       "4   0     2       1      114      a  "
      ]
     },
     "execution_count": 32,
     "metadata": {},
     "output_type": "execute_result"
    }
   ],
   "source": [
    "heart_df.head()"
   ]
  },
  {
   "cell_type": "code",
   "execution_count": 34,
   "metadata": {
    "ExecuteTime": {
     "end_time": "2023-04-07T16:18:38.648097Z",
     "start_time": "2023-04-07T16:18:38.644597Z"
    }
   },
   "outputs": [
    {
     "data": {
      "text/plain": [
       "array([[63, 1, 3, ..., 1, 126, 'a'],\n",
       "       [37, 1, 2, ..., 1, 74, 'a'],\n",
       "       [41, 0, 1, ..., 1, 82, 'a'],\n",
       "       ...,\n",
       "       [68, 1, 0, ..., 0, 136, 'a'],\n",
       "       [57, 1, 0, ..., 0, 114, 'a'],\n",
       "       [57, 0, 1, ..., 0, 114, 'a']], dtype=object)"
      ]
     },
     "execution_count": 34,
     "metadata": {},
     "output_type": "execute_result"
    }
   ],
   "source": [
    "heart_df.values"
   ]
  },
  {
   "cell_type": "code",
   "execution_count": 35,
   "metadata": {
    "ExecuteTime": {
     "end_time": "2023-04-07T16:18:59.790098Z",
     "start_time": "2023-04-07T16:18:59.776597Z"
    }
   },
   "outputs": [
    {
     "data": {
      "text/plain": [
       "numpy.ndarray"
      ]
     },
     "execution_count": 35,
     "metadata": {},
     "output_type": "execute_result"
    }
   ],
   "source": [
    "type(heart_df.values)"
   ]
  },
  {
   "cell_type": "markdown",
   "metadata": {},
   "source": [
    "## More Basic DataFrame Attributes and Methods"
   ]
  },
  {
   "cell_type": "markdown",
   "metadata": {},
   "source": [
    "### `.head()` : first 5 rows"
   ]
  },
  {
   "cell_type": "code",
   "execution_count": 37,
   "metadata": {
    "ExecuteTime": {
     "end_time": "2023-04-07T16:20:13.430596Z",
     "start_time": "2023-04-07T16:20:13.410096Z"
    }
   },
   "outputs": [
    {
     "data": {
      "text/html": [
       "<div>\n",
       "<style scoped>\n",
       "    .dataframe tbody tr th:only-of-type {\n",
       "        vertical-align: middle;\n",
       "    }\n",
       "\n",
       "    .dataframe tbody tr th {\n",
       "        vertical-align: top;\n",
       "    }\n",
       "\n",
       "    .dataframe thead th {\n",
       "        text-align: right;\n",
       "    }\n",
       "</style>\n",
       "<table border=\"1\" class=\"dataframe\">\n",
       "  <thead>\n",
       "    <tr style=\"text-align: right;\">\n",
       "      <th></th>\n",
       "      <th>age</th>\n",
       "      <th>sex</th>\n",
       "      <th>cp</th>\n",
       "      <th>trestbps</th>\n",
       "      <th>chol</th>\n",
       "      <th>fbs</th>\n",
       "      <th>restecg</th>\n",
       "      <th>thalach</th>\n",
       "      <th>exang</th>\n",
       "      <th>oldpeak</th>\n",
       "      <th>slope</th>\n",
       "      <th>ca</th>\n",
       "      <th>thal</th>\n",
       "      <th>target</th>\n",
       "      <th>testcol</th>\n",
       "      <th>letter</th>\n",
       "    </tr>\n",
       "  </thead>\n",
       "  <tbody>\n",
       "    <tr>\n",
       "      <th>0</th>\n",
       "      <td>63</td>\n",
       "      <td>1</td>\n",
       "      <td>3</td>\n",
       "      <td>145</td>\n",
       "      <td>233</td>\n",
       "      <td>1</td>\n",
       "      <td>0</td>\n",
       "      <td>150</td>\n",
       "      <td>0</td>\n",
       "      <td>2.3</td>\n",
       "      <td>0</td>\n",
       "      <td>0</td>\n",
       "      <td>1</td>\n",
       "      <td>1</td>\n",
       "      <td>126</td>\n",
       "      <td>a</td>\n",
       "    </tr>\n",
       "    <tr>\n",
       "      <th>1</th>\n",
       "      <td>37</td>\n",
       "      <td>1</td>\n",
       "      <td>2</td>\n",
       "      <td>130</td>\n",
       "      <td>250</td>\n",
       "      <td>0</td>\n",
       "      <td>1</td>\n",
       "      <td>187</td>\n",
       "      <td>0</td>\n",
       "      <td>3.5</td>\n",
       "      <td>0</td>\n",
       "      <td>0</td>\n",
       "      <td>2</td>\n",
       "      <td>1</td>\n",
       "      <td>74</td>\n",
       "      <td>a</td>\n",
       "    </tr>\n",
       "    <tr>\n",
       "      <th>2</th>\n",
       "      <td>41</td>\n",
       "      <td>0</td>\n",
       "      <td>1</td>\n",
       "      <td>130</td>\n",
       "      <td>204</td>\n",
       "      <td>0</td>\n",
       "      <td>0</td>\n",
       "      <td>172</td>\n",
       "      <td>0</td>\n",
       "      <td>1.4</td>\n",
       "      <td>2</td>\n",
       "      <td>0</td>\n",
       "      <td>2</td>\n",
       "      <td>1</td>\n",
       "      <td>82</td>\n",
       "      <td>a</td>\n",
       "    </tr>\n",
       "    <tr>\n",
       "      <th>3</th>\n",
       "      <td>56</td>\n",
       "      <td>1</td>\n",
       "      <td>1</td>\n",
       "      <td>120</td>\n",
       "      <td>236</td>\n",
       "      <td>0</td>\n",
       "      <td>1</td>\n",
       "      <td>178</td>\n",
       "      <td>0</td>\n",
       "      <td>0.8</td>\n",
       "      <td>2</td>\n",
       "      <td>0</td>\n",
       "      <td>2</td>\n",
       "      <td>1</td>\n",
       "      <td>112</td>\n",
       "      <td>a</td>\n",
       "    </tr>\n",
       "    <tr>\n",
       "      <th>4</th>\n",
       "      <td>57</td>\n",
       "      <td>0</td>\n",
       "      <td>0</td>\n",
       "      <td>120</td>\n",
       "      <td>354</td>\n",
       "      <td>0</td>\n",
       "      <td>1</td>\n",
       "      <td>163</td>\n",
       "      <td>1</td>\n",
       "      <td>0.6</td>\n",
       "      <td>2</td>\n",
       "      <td>0</td>\n",
       "      <td>2</td>\n",
       "      <td>1</td>\n",
       "      <td>114</td>\n",
       "      <td>a</td>\n",
       "    </tr>\n",
       "  </tbody>\n",
       "</table>\n",
       "</div>"
      ],
      "text/plain": [
       "   age  sex  cp  trestbps  chol  fbs  restecg  thalach  exang  oldpeak  slope  \\\n",
       "0   63    1   3       145   233    1        0      150      0      2.3      0   \n",
       "1   37    1   2       130   250    0        1      187      0      3.5      0   \n",
       "2   41    0   1       130   204    0        0      172      0      1.4      2   \n",
       "3   56    1   1       120   236    0        1      178      0      0.8      2   \n",
       "4   57    0   0       120   354    0        1      163      1      0.6      2   \n",
       "\n",
       "   ca  thal  target  testcol letter  \n",
       "0   0     1       1      126      a  \n",
       "1   0     2       1       74      a  \n",
       "2   0     2       1       82      a  \n",
       "3   0     2       1      112      a  \n",
       "4   0     2       1      114      a  "
      ]
     },
     "execution_count": 37,
     "metadata": {},
     "output_type": "execute_result"
    }
   ],
   "source": [
    "heart_df.head()"
   ]
  },
  {
   "cell_type": "markdown",
   "metadata": {},
   "source": [
    "### `.tail()` : last 5 rows"
   ]
  },
  {
   "cell_type": "code",
   "execution_count": 38,
   "metadata": {
    "ExecuteTime": {
     "end_time": "2023-04-07T16:20:20.436598Z",
     "start_time": "2023-04-07T16:20:20.417096Z"
    }
   },
   "outputs": [
    {
     "data": {
      "text/html": [
       "<div>\n",
       "<style scoped>\n",
       "    .dataframe tbody tr th:only-of-type {\n",
       "        vertical-align: middle;\n",
       "    }\n",
       "\n",
       "    .dataframe tbody tr th {\n",
       "        vertical-align: top;\n",
       "    }\n",
       "\n",
       "    .dataframe thead th {\n",
       "        text-align: right;\n",
       "    }\n",
       "</style>\n",
       "<table border=\"1\" class=\"dataframe\">\n",
       "  <thead>\n",
       "    <tr style=\"text-align: right;\">\n",
       "      <th></th>\n",
       "      <th>age</th>\n",
       "      <th>sex</th>\n",
       "      <th>cp</th>\n",
       "      <th>trestbps</th>\n",
       "      <th>chol</th>\n",
       "      <th>fbs</th>\n",
       "      <th>restecg</th>\n",
       "      <th>thalach</th>\n",
       "      <th>exang</th>\n",
       "      <th>oldpeak</th>\n",
       "      <th>slope</th>\n",
       "      <th>ca</th>\n",
       "      <th>thal</th>\n",
       "      <th>target</th>\n",
       "      <th>testcol</th>\n",
       "      <th>letter</th>\n",
       "    </tr>\n",
       "  </thead>\n",
       "  <tbody>\n",
       "    <tr>\n",
       "      <th>298</th>\n",
       "      <td>57</td>\n",
       "      <td>0</td>\n",
       "      <td>0</td>\n",
       "      <td>140</td>\n",
       "      <td>241</td>\n",
       "      <td>0</td>\n",
       "      <td>1</td>\n",
       "      <td>123</td>\n",
       "      <td>1</td>\n",
       "      <td>0.2</td>\n",
       "      <td>1</td>\n",
       "      <td>0</td>\n",
       "      <td>3</td>\n",
       "      <td>0</td>\n",
       "      <td>114</td>\n",
       "      <td>a</td>\n",
       "    </tr>\n",
       "    <tr>\n",
       "      <th>299</th>\n",
       "      <td>45</td>\n",
       "      <td>1</td>\n",
       "      <td>3</td>\n",
       "      <td>110</td>\n",
       "      <td>264</td>\n",
       "      <td>0</td>\n",
       "      <td>1</td>\n",
       "      <td>132</td>\n",
       "      <td>0</td>\n",
       "      <td>1.2</td>\n",
       "      <td>1</td>\n",
       "      <td>0</td>\n",
       "      <td>3</td>\n",
       "      <td>0</td>\n",
       "      <td>90</td>\n",
       "      <td>a</td>\n",
       "    </tr>\n",
       "    <tr>\n",
       "      <th>300</th>\n",
       "      <td>68</td>\n",
       "      <td>1</td>\n",
       "      <td>0</td>\n",
       "      <td>144</td>\n",
       "      <td>193</td>\n",
       "      <td>1</td>\n",
       "      <td>1</td>\n",
       "      <td>141</td>\n",
       "      <td>0</td>\n",
       "      <td>3.4</td>\n",
       "      <td>1</td>\n",
       "      <td>2</td>\n",
       "      <td>3</td>\n",
       "      <td>0</td>\n",
       "      <td>136</td>\n",
       "      <td>a</td>\n",
       "    </tr>\n",
       "    <tr>\n",
       "      <th>301</th>\n",
       "      <td>57</td>\n",
       "      <td>1</td>\n",
       "      <td>0</td>\n",
       "      <td>130</td>\n",
       "      <td>131</td>\n",
       "      <td>0</td>\n",
       "      <td>1</td>\n",
       "      <td>115</td>\n",
       "      <td>1</td>\n",
       "      <td>1.2</td>\n",
       "      <td>1</td>\n",
       "      <td>1</td>\n",
       "      <td>3</td>\n",
       "      <td>0</td>\n",
       "      <td>114</td>\n",
       "      <td>a</td>\n",
       "    </tr>\n",
       "    <tr>\n",
       "      <th>302</th>\n",
       "      <td>57</td>\n",
       "      <td>0</td>\n",
       "      <td>1</td>\n",
       "      <td>130</td>\n",
       "      <td>236</td>\n",
       "      <td>0</td>\n",
       "      <td>0</td>\n",
       "      <td>174</td>\n",
       "      <td>0</td>\n",
       "      <td>0.0</td>\n",
       "      <td>1</td>\n",
       "      <td>1</td>\n",
       "      <td>2</td>\n",
       "      <td>0</td>\n",
       "      <td>114</td>\n",
       "      <td>a</td>\n",
       "    </tr>\n",
       "  </tbody>\n",
       "</table>\n",
       "</div>"
      ],
      "text/plain": [
       "     age  sex  cp  trestbps  chol  fbs  restecg  thalach  exang  oldpeak  \\\n",
       "298   57    0   0       140   241    0        1      123      1      0.2   \n",
       "299   45    1   3       110   264    0        1      132      0      1.2   \n",
       "300   68    1   0       144   193    1        1      141      0      3.4   \n",
       "301   57    1   0       130   131    0        1      115      1      1.2   \n",
       "302   57    0   1       130   236    0        0      174      0      0.0   \n",
       "\n",
       "     slope  ca  thal  target  testcol letter  \n",
       "298      1   0     3       0      114      a  \n",
       "299      1   0     3       0       90      a  \n",
       "300      1   2     3       0      136      a  \n",
       "301      1   1     3       0      114      a  \n",
       "302      1   1     2       0      114      a  "
      ]
     },
     "execution_count": 38,
     "metadata": {},
     "output_type": "execute_result"
    }
   ],
   "source": [
    "heart_df.tail()"
   ]
  },
  {
   "cell_type": "markdown",
   "metadata": {},
   "source": [
    "### `.info()` : information about the columns, including about nulls in those columns"
   ]
  },
  {
   "cell_type": "code",
   "execution_count": 40,
   "metadata": {
    "ExecuteTime": {
     "end_time": "2023-04-07T16:21:32.806097Z",
     "start_time": "2023-04-07T16:21:32.797596Z"
    }
   },
   "outputs": [],
   "source": [
    "heart_df['strint'] = '1'"
   ]
  },
  {
   "cell_type": "code",
   "execution_count": 42,
   "metadata": {
    "ExecuteTime": {
     "end_time": "2023-04-07T16:21:44.400097Z",
     "start_time": "2023-04-07T16:21:44.373098Z"
    }
   },
   "outputs": [
    {
     "data": {
      "text/html": [
       "<div>\n",
       "<style scoped>\n",
       "    .dataframe tbody tr th:only-of-type {\n",
       "        vertical-align: middle;\n",
       "    }\n",
       "\n",
       "    .dataframe tbody tr th {\n",
       "        vertical-align: top;\n",
       "    }\n",
       "\n",
       "    .dataframe thead th {\n",
       "        text-align: right;\n",
       "    }\n",
       "</style>\n",
       "<table border=\"1\" class=\"dataframe\">\n",
       "  <thead>\n",
       "    <tr style=\"text-align: right;\">\n",
       "      <th></th>\n",
       "      <th>age</th>\n",
       "      <th>sex</th>\n",
       "      <th>cp</th>\n",
       "      <th>trestbps</th>\n",
       "      <th>chol</th>\n",
       "      <th>fbs</th>\n",
       "      <th>restecg</th>\n",
       "      <th>thalach</th>\n",
       "      <th>exang</th>\n",
       "      <th>oldpeak</th>\n",
       "      <th>slope</th>\n",
       "      <th>ca</th>\n",
       "      <th>thal</th>\n",
       "      <th>target</th>\n",
       "      <th>testcol</th>\n",
       "      <th>letter</th>\n",
       "      <th>strint</th>\n",
       "    </tr>\n",
       "  </thead>\n",
       "  <tbody>\n",
       "    <tr>\n",
       "      <th>0</th>\n",
       "      <td>63</td>\n",
       "      <td>1</td>\n",
       "      <td>3</td>\n",
       "      <td>145</td>\n",
       "      <td>233</td>\n",
       "      <td>1</td>\n",
       "      <td>0</td>\n",
       "      <td>150</td>\n",
       "      <td>0</td>\n",
       "      <td>2.3</td>\n",
       "      <td>0</td>\n",
       "      <td>0</td>\n",
       "      <td>1</td>\n",
       "      <td>1</td>\n",
       "      <td>126</td>\n",
       "      <td>a</td>\n",
       "      <td>1</td>\n",
       "    </tr>\n",
       "    <tr>\n",
       "      <th>1</th>\n",
       "      <td>37</td>\n",
       "      <td>1</td>\n",
       "      <td>2</td>\n",
       "      <td>130</td>\n",
       "      <td>250</td>\n",
       "      <td>0</td>\n",
       "      <td>1</td>\n",
       "      <td>187</td>\n",
       "      <td>0</td>\n",
       "      <td>3.5</td>\n",
       "      <td>0</td>\n",
       "      <td>0</td>\n",
       "      <td>2</td>\n",
       "      <td>1</td>\n",
       "      <td>74</td>\n",
       "      <td>a</td>\n",
       "      <td>1</td>\n",
       "    </tr>\n",
       "    <tr>\n",
       "      <th>2</th>\n",
       "      <td>41</td>\n",
       "      <td>0</td>\n",
       "      <td>1</td>\n",
       "      <td>130</td>\n",
       "      <td>204</td>\n",
       "      <td>0</td>\n",
       "      <td>0</td>\n",
       "      <td>172</td>\n",
       "      <td>0</td>\n",
       "      <td>1.4</td>\n",
       "      <td>2</td>\n",
       "      <td>0</td>\n",
       "      <td>2</td>\n",
       "      <td>1</td>\n",
       "      <td>82</td>\n",
       "      <td>a</td>\n",
       "      <td>1</td>\n",
       "    </tr>\n",
       "    <tr>\n",
       "      <th>3</th>\n",
       "      <td>56</td>\n",
       "      <td>1</td>\n",
       "      <td>1</td>\n",
       "      <td>120</td>\n",
       "      <td>236</td>\n",
       "      <td>0</td>\n",
       "      <td>1</td>\n",
       "      <td>178</td>\n",
       "      <td>0</td>\n",
       "      <td>0.8</td>\n",
       "      <td>2</td>\n",
       "      <td>0</td>\n",
       "      <td>2</td>\n",
       "      <td>1</td>\n",
       "      <td>112</td>\n",
       "      <td>a</td>\n",
       "      <td>1</td>\n",
       "    </tr>\n",
       "    <tr>\n",
       "      <th>4</th>\n",
       "      <td>57</td>\n",
       "      <td>0</td>\n",
       "      <td>0</td>\n",
       "      <td>120</td>\n",
       "      <td>354</td>\n",
       "      <td>0</td>\n",
       "      <td>1</td>\n",
       "      <td>163</td>\n",
       "      <td>1</td>\n",
       "      <td>0.6</td>\n",
       "      <td>2</td>\n",
       "      <td>0</td>\n",
       "      <td>2</td>\n",
       "      <td>1</td>\n",
       "      <td>114</td>\n",
       "      <td>a</td>\n",
       "      <td>1</td>\n",
       "    </tr>\n",
       "  </tbody>\n",
       "</table>\n",
       "</div>"
      ],
      "text/plain": [
       "   age  sex  cp  trestbps  chol  fbs  restecg  thalach  exang  oldpeak  slope  \\\n",
       "0   63    1   3       145   233    1        0      150      0      2.3      0   \n",
       "1   37    1   2       130   250    0        1      187      0      3.5      0   \n",
       "2   41    0   1       130   204    0        0      172      0      1.4      2   \n",
       "3   56    1   1       120   236    0        1      178      0      0.8      2   \n",
       "4   57    0   0       120   354    0        1      163      1      0.6      2   \n",
       "\n",
       "   ca  thal  target  testcol letter strint  \n",
       "0   0     1       1      126      a      1  \n",
       "1   0     2       1       74      a      1  \n",
       "2   0     2       1       82      a      1  \n",
       "3   0     2       1      112      a      1  \n",
       "4   0     2       1      114      a      1  "
      ]
     },
     "execution_count": 42,
     "metadata": {},
     "output_type": "execute_result"
    }
   ],
   "source": [
    "heart_df.head()"
   ]
  },
  {
   "cell_type": "code",
   "execution_count": 41,
   "metadata": {
    "ExecuteTime": {
     "end_time": "2023-04-07T16:21:33.813596Z",
     "start_time": "2023-04-07T16:21:33.797097Z"
    },
    "scrolled": false
   },
   "outputs": [
    {
     "name": "stdout",
     "output_type": "stream",
     "text": [
      "<class 'pandas.core.frame.DataFrame'>\n",
      "RangeIndex: 303 entries, 0 to 302\n",
      "Data columns (total 17 columns):\n",
      " #   Column    Non-Null Count  Dtype  \n",
      "---  ------    --------------  -----  \n",
      " 0   age       303 non-null    int64  \n",
      " 1   sex       303 non-null    int64  \n",
      " 2   cp        303 non-null    int64  \n",
      " 3   trestbps  303 non-null    int64  \n",
      " 4   chol      303 non-null    int64  \n",
      " 5   fbs       303 non-null    int64  \n",
      " 6   restecg   303 non-null    int64  \n",
      " 7   thalach   303 non-null    int64  \n",
      " 8   exang     303 non-null    int64  \n",
      " 9   oldpeak   303 non-null    float64\n",
      " 10  slope     303 non-null    int64  \n",
      " 11  ca        303 non-null    int64  \n",
      " 12  thal      303 non-null    int64  \n",
      " 13  target    303 non-null    int64  \n",
      " 14  testcol   303 non-null    int64  \n",
      " 15  letter    303 non-null    object \n",
      " 16  strint    303 non-null    object \n",
      "dtypes: float64(1), int64(14), object(2)\n",
      "memory usage: 40.4+ KB\n"
     ]
    }
   ],
   "source": [
    "heart_df.info()"
   ]
  },
  {
   "cell_type": "markdown",
   "metadata": {},
   "source": [
    "### `.describe()` : statistics about the data"
   ]
  },
  {
   "cell_type": "code",
   "execution_count": 43,
   "metadata": {
    "ExecuteTime": {
     "end_time": "2023-04-07T16:22:27.257596Z",
     "start_time": "2023-04-07T16:22:27.192097Z"
    },
    "scrolled": true
   },
   "outputs": [
    {
     "data": {
      "text/html": [
       "<div>\n",
       "<style scoped>\n",
       "    .dataframe tbody tr th:only-of-type {\n",
       "        vertical-align: middle;\n",
       "    }\n",
       "\n",
       "    .dataframe tbody tr th {\n",
       "        vertical-align: top;\n",
       "    }\n",
       "\n",
       "    .dataframe thead th {\n",
       "        text-align: right;\n",
       "    }\n",
       "</style>\n",
       "<table border=\"1\" class=\"dataframe\">\n",
       "  <thead>\n",
       "    <tr style=\"text-align: right;\">\n",
       "      <th></th>\n",
       "      <th>age</th>\n",
       "      <th>sex</th>\n",
       "      <th>cp</th>\n",
       "      <th>trestbps</th>\n",
       "      <th>chol</th>\n",
       "      <th>fbs</th>\n",
       "      <th>restecg</th>\n",
       "      <th>thalach</th>\n",
       "      <th>exang</th>\n",
       "      <th>oldpeak</th>\n",
       "      <th>slope</th>\n",
       "      <th>ca</th>\n",
       "      <th>thal</th>\n",
       "      <th>target</th>\n",
       "      <th>testcol</th>\n",
       "    </tr>\n",
       "  </thead>\n",
       "  <tbody>\n",
       "    <tr>\n",
       "      <th>count</th>\n",
       "      <td>303.000000</td>\n",
       "      <td>303.000000</td>\n",
       "      <td>303.000000</td>\n",
       "      <td>303.000000</td>\n",
       "      <td>303.000000</td>\n",
       "      <td>303.000000</td>\n",
       "      <td>303.000000</td>\n",
       "      <td>303.000000</td>\n",
       "      <td>303.000000</td>\n",
       "      <td>303.000000</td>\n",
       "      <td>303.000000</td>\n",
       "      <td>303.000000</td>\n",
       "      <td>303.000000</td>\n",
       "      <td>303.000000</td>\n",
       "      <td>303.000000</td>\n",
       "    </tr>\n",
       "    <tr>\n",
       "      <th>mean</th>\n",
       "      <td>54.366337</td>\n",
       "      <td>0.683168</td>\n",
       "      <td>0.966997</td>\n",
       "      <td>131.623762</td>\n",
       "      <td>246.264026</td>\n",
       "      <td>0.148515</td>\n",
       "      <td>0.528053</td>\n",
       "      <td>149.646865</td>\n",
       "      <td>0.326733</td>\n",
       "      <td>1.039604</td>\n",
       "      <td>1.399340</td>\n",
       "      <td>0.729373</td>\n",
       "      <td>2.313531</td>\n",
       "      <td>0.544554</td>\n",
       "      <td>108.732673</td>\n",
       "    </tr>\n",
       "    <tr>\n",
       "      <th>std</th>\n",
       "      <td>9.082101</td>\n",
       "      <td>0.466011</td>\n",
       "      <td>1.032052</td>\n",
       "      <td>17.538143</td>\n",
       "      <td>51.830751</td>\n",
       "      <td>0.356198</td>\n",
       "      <td>0.525860</td>\n",
       "      <td>22.905161</td>\n",
       "      <td>0.469794</td>\n",
       "      <td>1.161075</td>\n",
       "      <td>0.616226</td>\n",
       "      <td>1.022606</td>\n",
       "      <td>0.612277</td>\n",
       "      <td>0.498835</td>\n",
       "      <td>18.164202</td>\n",
       "    </tr>\n",
       "    <tr>\n",
       "      <th>min</th>\n",
       "      <td>29.000000</td>\n",
       "      <td>0.000000</td>\n",
       "      <td>0.000000</td>\n",
       "      <td>94.000000</td>\n",
       "      <td>126.000000</td>\n",
       "      <td>0.000000</td>\n",
       "      <td>0.000000</td>\n",
       "      <td>71.000000</td>\n",
       "      <td>0.000000</td>\n",
       "      <td>0.000000</td>\n",
       "      <td>0.000000</td>\n",
       "      <td>0.000000</td>\n",
       "      <td>0.000000</td>\n",
       "      <td>0.000000</td>\n",
       "      <td>58.000000</td>\n",
       "    </tr>\n",
       "    <tr>\n",
       "      <th>25%</th>\n",
       "      <td>47.500000</td>\n",
       "      <td>0.000000</td>\n",
       "      <td>0.000000</td>\n",
       "      <td>120.000000</td>\n",
       "      <td>211.000000</td>\n",
       "      <td>0.000000</td>\n",
       "      <td>0.000000</td>\n",
       "      <td>133.500000</td>\n",
       "      <td>0.000000</td>\n",
       "      <td>0.000000</td>\n",
       "      <td>1.000000</td>\n",
       "      <td>0.000000</td>\n",
       "      <td>2.000000</td>\n",
       "      <td>0.000000</td>\n",
       "      <td>95.000000</td>\n",
       "    </tr>\n",
       "    <tr>\n",
       "      <th>50%</th>\n",
       "      <td>55.000000</td>\n",
       "      <td>1.000000</td>\n",
       "      <td>1.000000</td>\n",
       "      <td>130.000000</td>\n",
       "      <td>240.000000</td>\n",
       "      <td>0.000000</td>\n",
       "      <td>1.000000</td>\n",
       "      <td>153.000000</td>\n",
       "      <td>0.000000</td>\n",
       "      <td>0.800000</td>\n",
       "      <td>1.000000</td>\n",
       "      <td>0.000000</td>\n",
       "      <td>2.000000</td>\n",
       "      <td>1.000000</td>\n",
       "      <td>110.000000</td>\n",
       "    </tr>\n",
       "    <tr>\n",
       "      <th>75%</th>\n",
       "      <td>61.000000</td>\n",
       "      <td>1.000000</td>\n",
       "      <td>2.000000</td>\n",
       "      <td>140.000000</td>\n",
       "      <td>274.500000</td>\n",
       "      <td>0.000000</td>\n",
       "      <td>1.000000</td>\n",
       "      <td>166.000000</td>\n",
       "      <td>1.000000</td>\n",
       "      <td>1.600000</td>\n",
       "      <td>2.000000</td>\n",
       "      <td>1.000000</td>\n",
       "      <td>3.000000</td>\n",
       "      <td>1.000000</td>\n",
       "      <td>122.000000</td>\n",
       "    </tr>\n",
       "    <tr>\n",
       "      <th>max</th>\n",
       "      <td>77.000000</td>\n",
       "      <td>1.000000</td>\n",
       "      <td>3.000000</td>\n",
       "      <td>200.000000</td>\n",
       "      <td>564.000000</td>\n",
       "      <td>1.000000</td>\n",
       "      <td>2.000000</td>\n",
       "      <td>202.000000</td>\n",
       "      <td>1.000000</td>\n",
       "      <td>6.200000</td>\n",
       "      <td>2.000000</td>\n",
       "      <td>4.000000</td>\n",
       "      <td>3.000000</td>\n",
       "      <td>1.000000</td>\n",
       "      <td>154.000000</td>\n",
       "    </tr>\n",
       "  </tbody>\n",
       "</table>\n",
       "</div>"
      ],
      "text/plain": [
       "              age         sex          cp    trestbps        chol         fbs  \\\n",
       "count  303.000000  303.000000  303.000000  303.000000  303.000000  303.000000   \n",
       "mean    54.366337    0.683168    0.966997  131.623762  246.264026    0.148515   \n",
       "std      9.082101    0.466011    1.032052   17.538143   51.830751    0.356198   \n",
       "min     29.000000    0.000000    0.000000   94.000000  126.000000    0.000000   \n",
       "25%     47.500000    0.000000    0.000000  120.000000  211.000000    0.000000   \n",
       "50%     55.000000    1.000000    1.000000  130.000000  240.000000    0.000000   \n",
       "75%     61.000000    1.000000    2.000000  140.000000  274.500000    0.000000   \n",
       "max     77.000000    1.000000    3.000000  200.000000  564.000000    1.000000   \n",
       "\n",
       "          restecg     thalach       exang     oldpeak       slope          ca  \\\n",
       "count  303.000000  303.000000  303.000000  303.000000  303.000000  303.000000   \n",
       "mean     0.528053  149.646865    0.326733    1.039604    1.399340    0.729373   \n",
       "std      0.525860   22.905161    0.469794    1.161075    0.616226    1.022606   \n",
       "min      0.000000   71.000000    0.000000    0.000000    0.000000    0.000000   \n",
       "25%      0.000000  133.500000    0.000000    0.000000    1.000000    0.000000   \n",
       "50%      1.000000  153.000000    0.000000    0.800000    1.000000    0.000000   \n",
       "75%      1.000000  166.000000    1.000000    1.600000    2.000000    1.000000   \n",
       "max      2.000000  202.000000    1.000000    6.200000    2.000000    4.000000   \n",
       "\n",
       "             thal      target     testcol  \n",
       "count  303.000000  303.000000  303.000000  \n",
       "mean     2.313531    0.544554  108.732673  \n",
       "std      0.612277    0.498835   18.164202  \n",
       "min      0.000000    0.000000   58.000000  \n",
       "25%      2.000000    0.000000   95.000000  \n",
       "50%      2.000000    1.000000  110.000000  \n",
       "75%      3.000000    1.000000  122.000000  \n",
       "max      3.000000    1.000000  154.000000  "
      ]
     },
     "execution_count": 43,
     "metadata": {},
     "output_type": "execute_result"
    }
   ],
   "source": [
    "heart_df.describe()"
   ]
  },
  {
   "cell_type": "code",
   "execution_count": 44,
   "metadata": {
    "ExecuteTime": {
     "end_time": "2023-04-07T16:23:54.891596Z",
     "start_time": "2023-04-07T16:23:54.874097Z"
    }
   },
   "outputs": [
    {
     "data": {
      "text/html": [
       "<div>\n",
       "<style scoped>\n",
       "    .dataframe tbody tr th:only-of-type {\n",
       "        vertical-align: middle;\n",
       "    }\n",
       "\n",
       "    .dataframe tbody tr th {\n",
       "        vertical-align: top;\n",
       "    }\n",
       "\n",
       "    .dataframe thead th {\n",
       "        text-align: right;\n",
       "    }\n",
       "</style>\n",
       "<table border=\"1\" class=\"dataframe\">\n",
       "  <thead>\n",
       "    <tr style=\"text-align: right;\">\n",
       "      <th></th>\n",
       "      <th>letter</th>\n",
       "      <th>strint</th>\n",
       "    </tr>\n",
       "  </thead>\n",
       "  <tbody>\n",
       "    <tr>\n",
       "      <th>count</th>\n",
       "      <td>303</td>\n",
       "      <td>303</td>\n",
       "    </tr>\n",
       "    <tr>\n",
       "      <th>unique</th>\n",
       "      <td>1</td>\n",
       "      <td>1</td>\n",
       "    </tr>\n",
       "    <tr>\n",
       "      <th>top</th>\n",
       "      <td>a</td>\n",
       "      <td>1</td>\n",
       "    </tr>\n",
       "    <tr>\n",
       "      <th>freq</th>\n",
       "      <td>303</td>\n",
       "      <td>303</td>\n",
       "    </tr>\n",
       "  </tbody>\n",
       "</table>\n",
       "</div>"
      ],
      "text/plain": [
       "       letter strint\n",
       "count     303    303\n",
       "unique      1      1\n",
       "top         a      1\n",
       "freq      303    303"
      ]
     },
     "execution_count": 44,
     "metadata": {},
     "output_type": "execute_result"
    }
   ],
   "source": [
    "heart_df.describe(include='object')"
   ]
  },
  {
   "cell_type": "markdown",
   "metadata": {},
   "source": [
    "### `.dtypes` : data types of each column"
   ]
  },
  {
   "cell_type": "code",
   "execution_count": 45,
   "metadata": {
    "ExecuteTime": {
     "end_time": "2023-04-07T16:25:32.382597Z",
     "start_time": "2023-04-07T16:25:32.368099Z"
    }
   },
   "outputs": [
    {
     "data": {
      "text/plain": [
       "age           int64\n",
       "sex           int64\n",
       "cp            int64\n",
       "trestbps      int64\n",
       "chol          int64\n",
       "fbs           int64\n",
       "restecg       int64\n",
       "thalach       int64\n",
       "exang         int64\n",
       "oldpeak     float64\n",
       "slope         int64\n",
       "ca            int64\n",
       "thal          int64\n",
       "target        int64\n",
       "testcol       int64\n",
       "letter       object\n",
       "strint       object\n",
       "dtype: object"
      ]
     },
     "execution_count": 45,
     "metadata": {},
     "output_type": "execute_result"
    }
   ],
   "source": [
    "heart_df.dtypes"
   ]
  },
  {
   "cell_type": "markdown",
   "metadata": {},
   "source": [
    "### `.shape` : number of rows and columns"
   ]
  },
  {
   "cell_type": "code",
   "execution_count": 47,
   "metadata": {
    "ExecuteTime": {
     "end_time": "2023-04-07T16:25:52.098097Z",
     "start_time": "2023-04-07T16:25:52.084599Z"
    },
    "scrolled": true
   },
   "outputs": [
    {
     "data": {
      "text/plain": [
       "(303, 17)"
      ]
     },
     "execution_count": 47,
     "metadata": {},
     "output_type": "execute_result"
    }
   ],
   "source": [
    "heart_df.shape"
   ]
  },
  {
   "cell_type": "markdown",
   "metadata": {},
   "source": [
    "### Statistics\n",
    "\n",
    "We saw them above, in the `.describe`, but we can also calculate statistics by calling them individually."
   ]
  },
  {
   "cell_type": "code",
   "execution_count": 48,
   "metadata": {
    "ExecuteTime": {
     "end_time": "2023-04-07T16:26:46.142596Z",
     "start_time": "2023-04-07T16:26:46.118097Z"
    }
   },
   "outputs": [
    {
     "data": {
      "text/plain": [
       "age          5.436634e+01\n",
       "sex          6.831683e-01\n",
       "cp           9.669967e-01\n",
       "trestbps     1.316238e+02\n",
       "chol         2.462640e+02\n",
       "fbs          1.485149e-01\n",
       "restecg      5.280528e-01\n",
       "thalach      1.496469e+02\n",
       "exang        3.267327e-01\n",
       "oldpeak      1.039604e+00\n",
       "slope        1.399340e+00\n",
       "ca           7.293729e-01\n",
       "thal         2.313531e+00\n",
       "target       5.445545e-01\n",
       "testcol      1.087327e+02\n",
       "strint      3.667033e+299\n",
       "dtype: float64"
      ]
     },
     "execution_count": 48,
     "metadata": {},
     "output_type": "execute_result"
    }
   ],
   "source": [
    "# Calculate the mean - for the whole dataframe!\n",
    "heart_df.mean()"
   ]
  },
  {
   "cell_type": "markdown",
   "metadata": {},
   "source": [
    "Let's pause and interpret - any observations?\n",
    "\n",
    "- \n"
   ]
  },
  {
   "cell_type": "code",
   "execution_count": 49,
   "metadata": {
    "ExecuteTime": {
     "end_time": "2023-04-07T16:27:52.346597Z",
     "start_time": "2023-04-07T16:27:52.325596Z"
    }
   },
   "outputs": [
    {
     "data": {
      "text/plain": [
       "age          29\n",
       "sex           0\n",
       "cp            0\n",
       "trestbps     94\n",
       "chol        126\n",
       "fbs           0\n",
       "restecg       0\n",
       "thalach      71\n",
       "exang         0\n",
       "oldpeak       0\n",
       "slope         0\n",
       "ca            0\n",
       "thal          0\n",
       "target        0\n",
       "testcol      58\n",
       "letter        a\n",
       "strint        1\n",
       "dtype: object"
      ]
     },
     "execution_count": 49,
     "metadata": {},
     "output_type": "execute_result"
    }
   ],
   "source": [
    "# Now min\n",
    "heart_df.min()"
   ]
  },
  {
   "cell_type": "code",
   "execution_count": 50,
   "metadata": {
    "ExecuteTime": {
     "end_time": "2023-04-07T16:28:05.118596Z",
     "start_time": "2023-04-07T16:28:05.109597Z"
    }
   },
   "outputs": [
    {
     "data": {
      "text/plain": [
       "age          77\n",
       "sex           1\n",
       "cp            3\n",
       "trestbps    200\n",
       "chol        564\n",
       "fbs           1\n",
       "restecg       2\n",
       "thalach     202\n",
       "exang         1\n",
       "oldpeak     6.2\n",
       "slope         2\n",
       "ca            4\n",
       "thal          3\n",
       "target        1\n",
       "testcol     154\n",
       "letter        a\n",
       "strint        1\n",
       "dtype: object"
      ]
     },
     "execution_count": 50,
     "metadata": {},
     "output_type": "execute_result"
    }
   ],
   "source": [
    "# And max\n",
    "heart_df.max()"
   ]
  },
  {
   "cell_type": "markdown",
   "metadata": {},
   "source": [
    "## Enough With The Small Stuff - Bring On Real Data!\n",
    "\n",
    "Let's access an open data portal and get some real live data!"
   ]
  },
  {
   "cell_type": "markdown",
   "metadata": {},
   "source": [
    "Austin Animal Center Intake Data: https://data.austintexas.gov/Health-and-Community-Services/Austin-Animal-Center-Intakes/wter-evkm/"
   ]
  },
  {
   "cell_type": "code",
   "execution_count": 51,
   "metadata": {
    "ExecuteTime": {
     "end_time": "2023-04-07T16:30:08.498597Z",
     "start_time": "2023-04-07T16:30:07.802596Z"
    }
   },
   "outputs": [],
   "source": [
    "# Accessing a CSV from a url\n",
    "intake_url = pd.read_csv('https://data.austintexas.gov/resource/wter-evkm.csv')"
   ]
  },
  {
   "cell_type": "code",
   "execution_count": 52,
   "metadata": {
    "ExecuteTime": {
     "end_time": "2023-04-07T16:30:18.372127Z",
     "start_time": "2023-04-07T16:30:18.347127Z"
    }
   },
   "outputs": [
    {
     "data": {
      "text/html": [
       "<div>\n",
       "<style scoped>\n",
       "    .dataframe tbody tr th:only-of-type {\n",
       "        vertical-align: middle;\n",
       "    }\n",
       "\n",
       "    .dataframe tbody tr th {\n",
       "        vertical-align: top;\n",
       "    }\n",
       "\n",
       "    .dataframe thead th {\n",
       "        text-align: right;\n",
       "    }\n",
       "</style>\n",
       "<table border=\"1\" class=\"dataframe\">\n",
       "  <thead>\n",
       "    <tr style=\"text-align: right;\">\n",
       "      <th></th>\n",
       "      <th>animal_id</th>\n",
       "      <th>name</th>\n",
       "      <th>datetime</th>\n",
       "      <th>datetime2</th>\n",
       "      <th>found_location</th>\n",
       "      <th>intake_type</th>\n",
       "      <th>intake_condition</th>\n",
       "      <th>animal_type</th>\n",
       "      <th>sex_upon_intake</th>\n",
       "      <th>age_upon_intake</th>\n",
       "      <th>breed</th>\n",
       "      <th>color</th>\n",
       "    </tr>\n",
       "  </thead>\n",
       "  <tbody>\n",
       "    <tr>\n",
       "      <th>0</th>\n",
       "      <td>A786884</td>\n",
       "      <td>*Brock</td>\n",
       "      <td>2019-01-03T16:19:00.000</td>\n",
       "      <td>2019-01-03T16:19:00.000</td>\n",
       "      <td>2501 Magin Meadow Dr in Austin (TX)</td>\n",
       "      <td>Stray</td>\n",
       "      <td>Normal</td>\n",
       "      <td>Dog</td>\n",
       "      <td>Neutered Male</td>\n",
       "      <td>2 years</td>\n",
       "      <td>Beagle Mix</td>\n",
       "      <td>Tricolor</td>\n",
       "    </tr>\n",
       "    <tr>\n",
       "      <th>1</th>\n",
       "      <td>A706918</td>\n",
       "      <td>Belle</td>\n",
       "      <td>2015-07-05T12:59:00.000</td>\n",
       "      <td>2015-07-05T12:59:00.000</td>\n",
       "      <td>9409 Bluegrass Dr in Austin (TX)</td>\n",
       "      <td>Stray</td>\n",
       "      <td>Normal</td>\n",
       "      <td>Dog</td>\n",
       "      <td>Spayed Female</td>\n",
       "      <td>8 years</td>\n",
       "      <td>English Springer Spaniel</td>\n",
       "      <td>White/Liver</td>\n",
       "    </tr>\n",
       "    <tr>\n",
       "      <th>2</th>\n",
       "      <td>A724273</td>\n",
       "      <td>Runster</td>\n",
       "      <td>2016-04-14T18:43:00.000</td>\n",
       "      <td>2016-04-14T18:43:00.000</td>\n",
       "      <td>2818 Palomino Trail in Austin (TX)</td>\n",
       "      <td>Stray</td>\n",
       "      <td>Normal</td>\n",
       "      <td>Dog</td>\n",
       "      <td>Intact Male</td>\n",
       "      <td>11 months</td>\n",
       "      <td>Basenji Mix</td>\n",
       "      <td>Sable/White</td>\n",
       "    </tr>\n",
       "    <tr>\n",
       "      <th>3</th>\n",
       "      <td>A857105</td>\n",
       "      <td>Johnny Ringo</td>\n",
       "      <td>2022-05-12T00:23:00.000</td>\n",
       "      <td>2022-05-12T00:23:00.000</td>\n",
       "      <td>4404 Sarasota Drive in Austin (TX)</td>\n",
       "      <td>Public Assist</td>\n",
       "      <td>Normal</td>\n",
       "      <td>Cat</td>\n",
       "      <td>Neutered Male</td>\n",
       "      <td>2 years</td>\n",
       "      <td>Domestic Shorthair</td>\n",
       "      <td>Orange Tabby</td>\n",
       "    </tr>\n",
       "    <tr>\n",
       "      <th>4</th>\n",
       "      <td>A682524</td>\n",
       "      <td>Rio</td>\n",
       "      <td>2014-06-29T10:38:00.000</td>\n",
       "      <td>2014-06-29T10:38:00.000</td>\n",
       "      <td>800 Grove Blvd in Austin (TX)</td>\n",
       "      <td>Stray</td>\n",
       "      <td>Normal</td>\n",
       "      <td>Dog</td>\n",
       "      <td>Neutered Male</td>\n",
       "      <td>4 years</td>\n",
       "      <td>Doberman Pinsch/Australian Cattle Dog</td>\n",
       "      <td>Tan/Gray</td>\n",
       "    </tr>\n",
       "  </tbody>\n",
       "</table>\n",
       "</div>"
      ],
      "text/plain": [
       "  animal_id          name                 datetime                datetime2  \\\n",
       "0   A786884        *Brock  2019-01-03T16:19:00.000  2019-01-03T16:19:00.000   \n",
       "1   A706918         Belle  2015-07-05T12:59:00.000  2015-07-05T12:59:00.000   \n",
       "2   A724273       Runster  2016-04-14T18:43:00.000  2016-04-14T18:43:00.000   \n",
       "3   A857105  Johnny Ringo  2022-05-12T00:23:00.000  2022-05-12T00:23:00.000   \n",
       "4   A682524           Rio  2014-06-29T10:38:00.000  2014-06-29T10:38:00.000   \n",
       "\n",
       "                        found_location    intake_type intake_condition  \\\n",
       "0  2501 Magin Meadow Dr in Austin (TX)          Stray           Normal   \n",
       "1     9409 Bluegrass Dr in Austin (TX)          Stray           Normal   \n",
       "2   2818 Palomino Trail in Austin (TX)          Stray           Normal   \n",
       "3   4404 Sarasota Drive in Austin (TX)  Public Assist           Normal   \n",
       "4        800 Grove Blvd in Austin (TX)          Stray           Normal   \n",
       "\n",
       "  animal_type sex_upon_intake age_upon_intake  \\\n",
       "0         Dog   Neutered Male         2 years   \n",
       "1         Dog   Spayed Female         8 years   \n",
       "2         Dog     Intact Male       11 months   \n",
       "3         Cat   Neutered Male         2 years   \n",
       "4         Dog   Neutered Male         4 years   \n",
       "\n",
       "                                   breed         color  \n",
       "0                             Beagle Mix      Tricolor  \n",
       "1               English Springer Spaniel   White/Liver  \n",
       "2                            Basenji Mix   Sable/White  \n",
       "3                     Domestic Shorthair  Orange Tabby  \n",
       "4  Doberman Pinsch/Australian Cattle Dog      Tan/Gray  "
      ]
     },
     "execution_count": 52,
     "metadata": {},
     "output_type": "execute_result"
    }
   ],
   "source": [
    "intake_url.head()"
   ]
  },
  {
   "cell_type": "code",
   "execution_count": 53,
   "metadata": {
    "ExecuteTime": {
     "end_time": "2023-04-07T16:31:08.855596Z",
     "start_time": "2023-04-07T16:31:08.095597Z"
    }
   },
   "outputs": [],
   "source": [
    "# Same as the JSON output from this API endpoint, but different levels of detail for dates!\n",
    "intake_json = pd.read_json('https://data.austintexas.gov/resource/wter-evkm.json')"
   ]
  },
  {
   "cell_type": "code",
   "execution_count": 54,
   "metadata": {
    "ExecuteTime": {
     "end_time": "2023-04-07T16:31:13.118097Z",
     "start_time": "2023-04-07T16:31:13.101096Z"
    }
   },
   "outputs": [
    {
     "data": {
      "text/html": [
       "<div>\n",
       "<style scoped>\n",
       "    .dataframe tbody tr th:only-of-type {\n",
       "        vertical-align: middle;\n",
       "    }\n",
       "\n",
       "    .dataframe tbody tr th {\n",
       "        vertical-align: top;\n",
       "    }\n",
       "\n",
       "    .dataframe thead th {\n",
       "        text-align: right;\n",
       "    }\n",
       "</style>\n",
       "<table border=\"1\" class=\"dataframe\">\n",
       "  <thead>\n",
       "    <tr style=\"text-align: right;\">\n",
       "      <th></th>\n",
       "      <th>animal_id</th>\n",
       "      <th>datetime</th>\n",
       "      <th>datetime2</th>\n",
       "      <th>found_location</th>\n",
       "      <th>intake_type</th>\n",
       "      <th>intake_condition</th>\n",
       "      <th>animal_type</th>\n",
       "      <th>sex_upon_intake</th>\n",
       "      <th>age_upon_intake</th>\n",
       "      <th>breed</th>\n",
       "      <th>color</th>\n",
       "      <th>name</th>\n",
       "    </tr>\n",
       "  </thead>\n",
       "  <tbody>\n",
       "    <tr>\n",
       "      <th>0</th>\n",
       "      <td>A665644</td>\n",
       "      <td>2013-10-21 07:59:00</td>\n",
       "      <td>2013-10-21T07:59:00.000</td>\n",
       "      <td>Austin (TX)</td>\n",
       "      <td>Stray</td>\n",
       "      <td>Sick</td>\n",
       "      <td>Cat</td>\n",
       "      <td>Intact Female</td>\n",
       "      <td>4 weeks</td>\n",
       "      <td>Domestic Shorthair Mix</td>\n",
       "      <td>Calico</td>\n",
       "      <td>NaN</td>\n",
       "    </tr>\n",
       "    <tr>\n",
       "      <th>1</th>\n",
       "      <td>A665739</td>\n",
       "      <td>2013-10-22 11:11:00</td>\n",
       "      <td>2013-10-22T11:11:00.000</td>\n",
       "      <td>Austin (TX)</td>\n",
       "      <td>Stray</td>\n",
       "      <td>Normal</td>\n",
       "      <td>Cat</td>\n",
       "      <td>Intact Female</td>\n",
       "      <td>1 month</td>\n",
       "      <td>Domestic Medium Hair Mix</td>\n",
       "      <td>Black</td>\n",
       "      <td>*Alana</td>\n",
       "    </tr>\n",
       "    <tr>\n",
       "      <th>2</th>\n",
       "      <td>A665763</td>\n",
       "      <td>2013-10-22 15:10:00</td>\n",
       "      <td>2013-10-22T15:10:00.000</td>\n",
       "      <td>E Riverside Dr/Royal Crest Dr in Austin (TX)</td>\n",
       "      <td>Stray</td>\n",
       "      <td>Normal</td>\n",
       "      <td>Dog</td>\n",
       "      <td>Intact Male</td>\n",
       "      <td>4 months</td>\n",
       "      <td>Cairn Terrier Mix</td>\n",
       "      <td>Tan/White</td>\n",
       "      <td>NaN</td>\n",
       "    </tr>\n",
       "    <tr>\n",
       "      <th>3</th>\n",
       "      <td>A379998</td>\n",
       "      <td>2013-10-23 11:42:00</td>\n",
       "      <td>2013-10-23T11:42:00.000</td>\n",
       "      <td>51St And Grover in Austin (TX)</td>\n",
       "      <td>Stray</td>\n",
       "      <td>Normal</td>\n",
       "      <td>Dog</td>\n",
       "      <td>Intact Male</td>\n",
       "      <td>10 years</td>\n",
       "      <td>Pit Bull</td>\n",
       "      <td>Black</td>\n",
       "      <td>Disciple</td>\n",
       "    </tr>\n",
       "    <tr>\n",
       "      <th>4</th>\n",
       "      <td>A634503</td>\n",
       "      <td>2013-10-01 14:49:00</td>\n",
       "      <td>2013-10-01T14:49:00.000</td>\n",
       "      <td>Manor (TX)</td>\n",
       "      <td>Owner Surrender</td>\n",
       "      <td>Normal</td>\n",
       "      <td>Dog</td>\n",
       "      <td>Spayed Female</td>\n",
       "      <td>2 years</td>\n",
       "      <td>Norfolk Terrier Mix</td>\n",
       "      <td>Tan</td>\n",
       "      <td>Otter</td>\n",
       "    </tr>\n",
       "  </tbody>\n",
       "</table>\n",
       "</div>"
      ],
      "text/plain": [
       "  animal_id            datetime                datetime2  \\\n",
       "0   A665644 2013-10-21 07:59:00  2013-10-21T07:59:00.000   \n",
       "1   A665739 2013-10-22 11:11:00  2013-10-22T11:11:00.000   \n",
       "2   A665763 2013-10-22 15:10:00  2013-10-22T15:10:00.000   \n",
       "3   A379998 2013-10-23 11:42:00  2013-10-23T11:42:00.000   \n",
       "4   A634503 2013-10-01 14:49:00  2013-10-01T14:49:00.000   \n",
       "\n",
       "                                 found_location      intake_type  \\\n",
       "0                                   Austin (TX)            Stray   \n",
       "1                                   Austin (TX)            Stray   \n",
       "2  E Riverside Dr/Royal Crest Dr in Austin (TX)            Stray   \n",
       "3                51St And Grover in Austin (TX)            Stray   \n",
       "4                                    Manor (TX)  Owner Surrender   \n",
       "\n",
       "  intake_condition animal_type sex_upon_intake age_upon_intake  \\\n",
       "0             Sick         Cat   Intact Female         4 weeks   \n",
       "1           Normal         Cat   Intact Female         1 month   \n",
       "2           Normal         Dog     Intact Male        4 months   \n",
       "3           Normal         Dog     Intact Male        10 years   \n",
       "4           Normal         Dog   Spayed Female         2 years   \n",
       "\n",
       "                      breed      color      name  \n",
       "0    Domestic Shorthair Mix     Calico       NaN  \n",
       "1  Domestic Medium Hair Mix      Black    *Alana  \n",
       "2         Cairn Terrier Mix  Tan/White       NaN  \n",
       "3                  Pit Bull      Black  Disciple  \n",
       "4       Norfolk Terrier Mix        Tan     Otter  "
      ]
     },
     "execution_count": 54,
     "metadata": {},
     "output_type": "execute_result"
    }
   ],
   "source": [
    "intake_json.head()"
   ]
  },
  {
   "cell_type": "code",
   "execution_count": 56,
   "metadata": {
    "ExecuteTime": {
     "end_time": "2023-04-07T16:32:24.170096Z",
     "start_time": "2023-04-07T16:32:24.156596Z"
    }
   },
   "outputs": [
    {
     "data": {
      "text/plain": [
       "(1000, 12)"
      ]
     },
     "execution_count": 56,
     "metadata": {},
     "output_type": "execute_result"
    }
   ],
   "source": [
    "# But this is only 1000 rows... website says there's 136K rows!\n",
    "intake_json.shape"
   ]
  },
  {
   "cell_type": "code",
   "execution_count": 57,
   "metadata": {
    "ExecuteTime": {
     "end_time": "2023-04-07T16:33:07.539096Z",
     "start_time": "2023-04-07T16:33:07.526096Z"
    }
   },
   "outputs": [
    {
     "data": {
      "text/plain": [
       "(1000, 12)"
      ]
     },
     "execution_count": 57,
     "metadata": {},
     "output_type": "execute_result"
    }
   ],
   "source": [
    "intake_url.shape"
   ]
  },
  {
   "cell_type": "code",
   "execution_count": 58,
   "metadata": {
    "ExecuteTime": {
     "end_time": "2023-04-07T16:33:32.540596Z",
     "start_time": "2023-04-07T16:33:31.927596Z"
    }
   },
   "outputs": [],
   "source": [
    "# It's a limitation of the API - let's just download the data instead\n",
    "# It's in the data folder\n",
    "df = pd.read_csv('data/Austin_Animal_Center_Intakes-clean-year.csv')"
   ]
  },
  {
   "cell_type": "code",
   "execution_count": 59,
   "metadata": {
    "ExecuteTime": {
     "end_time": "2023-04-07T16:33:37.283597Z",
     "start_time": "2023-04-07T16:33:37.264599Z"
    }
   },
   "outputs": [
    {
     "data": {
      "text/plain": [
       "(136763, 12)"
      ]
     },
     "execution_count": 59,
     "metadata": {},
     "output_type": "execute_result"
    }
   ],
   "source": [
    "df.shape"
   ]
  },
  {
   "cell_type": "code",
   "execution_count": 61,
   "metadata": {
    "ExecuteTime": {
     "end_time": "2023-04-07T16:33:50.164097Z",
     "start_time": "2023-04-07T16:33:50.142596Z"
    }
   },
   "outputs": [
    {
     "data": {
      "text/html": [
       "<div>\n",
       "<style scoped>\n",
       "    .dataframe tbody tr th:only-of-type {\n",
       "        vertical-align: middle;\n",
       "    }\n",
       "\n",
       "    .dataframe tbody tr th {\n",
       "        vertical-align: top;\n",
       "    }\n",
       "\n",
       "    .dataframe thead th {\n",
       "        text-align: right;\n",
       "    }\n",
       "</style>\n",
       "<table border=\"1\" class=\"dataframe\">\n",
       "  <thead>\n",
       "    <tr style=\"text-align: right;\">\n",
       "      <th></th>\n",
       "      <th>Animal ID</th>\n",
       "      <th>Name</th>\n",
       "      <th>DateTime</th>\n",
       "      <th>Year</th>\n",
       "      <th>Found Location</th>\n",
       "      <th>Intake Type</th>\n",
       "      <th>Intake Condition</th>\n",
       "      <th>Animal Type</th>\n",
       "      <th>Sex upon Intake</th>\n",
       "      <th>Age upon Intake</th>\n",
       "      <th>Breed</th>\n",
       "      <th>Color</th>\n",
       "    </tr>\n",
       "  </thead>\n",
       "  <tbody>\n",
       "    <tr>\n",
       "      <th>0</th>\n",
       "      <td>A786884</td>\n",
       "      <td>*Brock</td>\n",
       "      <td>2019-01-03 16:19:00</td>\n",
       "      <td>2019</td>\n",
       "      <td>2501 Magin Meadow Dr in Austin (TX)</td>\n",
       "      <td>Stray</td>\n",
       "      <td>Normal</td>\n",
       "      <td>Dog</td>\n",
       "      <td>Neutered Male</td>\n",
       "      <td>2 years</td>\n",
       "      <td>Beagle Mix</td>\n",
       "      <td>Tricolor</td>\n",
       "    </tr>\n",
       "    <tr>\n",
       "      <th>1</th>\n",
       "      <td>A706918</td>\n",
       "      <td>Belle</td>\n",
       "      <td>2015-07-05 12:59:00</td>\n",
       "      <td>2015</td>\n",
       "      <td>9409 Bluegrass Dr in Austin (TX)</td>\n",
       "      <td>Stray</td>\n",
       "      <td>Normal</td>\n",
       "      <td>Dog</td>\n",
       "      <td>Spayed Female</td>\n",
       "      <td>8 years</td>\n",
       "      <td>English Springer Spaniel</td>\n",
       "      <td>White/Liver</td>\n",
       "    </tr>\n",
       "    <tr>\n",
       "      <th>2</th>\n",
       "      <td>A724273</td>\n",
       "      <td>Runster</td>\n",
       "      <td>2016-04-14 18:43:00</td>\n",
       "      <td>2016</td>\n",
       "      <td>2818 Palomino Trail in Austin (TX)</td>\n",
       "      <td>Stray</td>\n",
       "      <td>Normal</td>\n",
       "      <td>Dog</td>\n",
       "      <td>Intact Male</td>\n",
       "      <td>11 months</td>\n",
       "      <td>Basenji Mix</td>\n",
       "      <td>Sable/White</td>\n",
       "    </tr>\n",
       "    <tr>\n",
       "      <th>3</th>\n",
       "      <td>A665644</td>\n",
       "      <td>NaN</td>\n",
       "      <td>2013-10-21 07:59:00</td>\n",
       "      <td>2013</td>\n",
       "      <td>Austin (TX)</td>\n",
       "      <td>Stray</td>\n",
       "      <td>Sick</td>\n",
       "      <td>Cat</td>\n",
       "      <td>Intact Female</td>\n",
       "      <td>4 weeks</td>\n",
       "      <td>Domestic Shorthair Mix</td>\n",
       "      <td>Calico</td>\n",
       "    </tr>\n",
       "    <tr>\n",
       "      <th>4</th>\n",
       "      <td>A682524</td>\n",
       "      <td>Rio</td>\n",
       "      <td>2014-06-29 10:38:00</td>\n",
       "      <td>2014</td>\n",
       "      <td>800 Grove Blvd in Austin (TX)</td>\n",
       "      <td>Stray</td>\n",
       "      <td>Normal</td>\n",
       "      <td>Dog</td>\n",
       "      <td>Neutered Male</td>\n",
       "      <td>4 years</td>\n",
       "      <td>Doberman Pinsch/Australian Cattle Dog</td>\n",
       "      <td>Tan/Gray</td>\n",
       "    </tr>\n",
       "  </tbody>\n",
       "</table>\n",
       "</div>"
      ],
      "text/plain": [
       "  Animal ID     Name             DateTime  Year  \\\n",
       "0   A786884   *Brock  2019-01-03 16:19:00  2019   \n",
       "1   A706918    Belle  2015-07-05 12:59:00  2015   \n",
       "2   A724273  Runster  2016-04-14 18:43:00  2016   \n",
       "3   A665644      NaN  2013-10-21 07:59:00  2013   \n",
       "4   A682524      Rio  2014-06-29 10:38:00  2014   \n",
       "\n",
       "                        Found Location Intake Type Intake Condition  \\\n",
       "0  2501 Magin Meadow Dr in Austin (TX)       Stray           Normal   \n",
       "1     9409 Bluegrass Dr in Austin (TX)       Stray           Normal   \n",
       "2   2818 Palomino Trail in Austin (TX)       Stray           Normal   \n",
       "3                          Austin (TX)       Stray             Sick   \n",
       "4        800 Grove Blvd in Austin (TX)       Stray           Normal   \n",
       "\n",
       "  Animal Type Sex upon Intake Age upon Intake  \\\n",
       "0         Dog   Neutered Male         2 years   \n",
       "1         Dog   Spayed Female         8 years   \n",
       "2         Dog     Intact Male       11 months   \n",
       "3         Cat   Intact Female         4 weeks   \n",
       "4         Dog   Neutered Male         4 years   \n",
       "\n",
       "                                   Breed        Color  \n",
       "0                             Beagle Mix     Tricolor  \n",
       "1               English Springer Spaniel  White/Liver  \n",
       "2                            Basenji Mix  Sable/White  \n",
       "3                 Domestic Shorthair Mix       Calico  \n",
       "4  Doberman Pinsch/Australian Cattle Dog     Tan/Gray  "
      ]
     },
     "execution_count": 61,
     "metadata": {},
     "output_type": "execute_result"
    }
   ],
   "source": [
    "# Now let's explore those earlier attributes and methods on this dataset!\n",
    "# Check the first 5 rows\n",
    "df.head()"
   ]
  },
  {
   "cell_type": "code",
   "execution_count": 62,
   "metadata": {
    "ExecuteTime": {
     "end_time": "2023-04-07T16:34:20.420096Z",
     "start_time": "2023-04-07T16:34:20.392598Z"
    }
   },
   "outputs": [
    {
     "data": {
      "text/html": [
       "<div>\n",
       "<style scoped>\n",
       "    .dataframe tbody tr th:only-of-type {\n",
       "        vertical-align: middle;\n",
       "    }\n",
       "\n",
       "    .dataframe tbody tr th {\n",
       "        vertical-align: top;\n",
       "    }\n",
       "\n",
       "    .dataframe thead th {\n",
       "        text-align: right;\n",
       "    }\n",
       "</style>\n",
       "<table border=\"1\" class=\"dataframe\">\n",
       "  <thead>\n",
       "    <tr style=\"text-align: right;\">\n",
       "      <th></th>\n",
       "      <th>Animal ID</th>\n",
       "      <th>Name</th>\n",
       "      <th>DateTime</th>\n",
       "      <th>Year</th>\n",
       "      <th>Found Location</th>\n",
       "      <th>Intake Type</th>\n",
       "      <th>Intake Condition</th>\n",
       "      <th>Animal Type</th>\n",
       "      <th>Sex upon Intake</th>\n",
       "      <th>Age upon Intake</th>\n",
       "      <th>Breed</th>\n",
       "      <th>Color</th>\n",
       "    </tr>\n",
       "  </thead>\n",
       "  <tbody>\n",
       "    <tr>\n",
       "      <th>136758</th>\n",
       "      <td>A852238</td>\n",
       "      <td>A852238</td>\n",
       "      <td>2022-02-28 14:02:00</td>\n",
       "      <td>2022</td>\n",
       "      <td>Cameron And Crosspark Drive in Austin (TX)</td>\n",
       "      <td>Stray</td>\n",
       "      <td>Normal</td>\n",
       "      <td>Dog</td>\n",
       "      <td>Intact Female</td>\n",
       "      <td>6 months</td>\n",
       "      <td>Labrador Retriever Mix</td>\n",
       "      <td>Black/White</td>\n",
       "    </tr>\n",
       "    <tr>\n",
       "      <th>136759</th>\n",
       "      <td>A852221</td>\n",
       "      <td>Coco</td>\n",
       "      <td>2022-02-28 11:05:00</td>\n",
       "      <td>2022</td>\n",
       "      <td>45 And 183 in Travis (TX)</td>\n",
       "      <td>Stray</td>\n",
       "      <td>Normal</td>\n",
       "      <td>Dog</td>\n",
       "      <td>Intact Male</td>\n",
       "      <td>3 years</td>\n",
       "      <td>Great Pyrenees</td>\n",
       "      <td>White</td>\n",
       "    </tr>\n",
       "    <tr>\n",
       "      <th>136760</th>\n",
       "      <td>A851977</td>\n",
       "      <td>*Jack</td>\n",
       "      <td>2022-02-22 13:34:00</td>\n",
       "      <td>2022</td>\n",
       "      <td>1200 Montopolis Drive in Austin (TX)</td>\n",
       "      <td>Stray</td>\n",
       "      <td>Normal</td>\n",
       "      <td>Dog</td>\n",
       "      <td>Intact Male</td>\n",
       "      <td>2 years</td>\n",
       "      <td>Chihuahua Shorthair/Dachshund</td>\n",
       "      <td>Black/White</td>\n",
       "    </tr>\n",
       "    <tr>\n",
       "      <th>136761</th>\n",
       "      <td>A852127</td>\n",
       "      <td>Sonic</td>\n",
       "      <td>2022-02-25 13:05:00</td>\n",
       "      <td>2022</td>\n",
       "      <td>7601 Daffan Ln Unit 424 in Austin (TX)</td>\n",
       "      <td>Stray</td>\n",
       "      <td>Normal</td>\n",
       "      <td>Dog</td>\n",
       "      <td>Intact Male</td>\n",
       "      <td>2 years</td>\n",
       "      <td>Pit Bull Mix</td>\n",
       "      <td>White/Yellow</td>\n",
       "    </tr>\n",
       "    <tr>\n",
       "      <th>136762</th>\n",
       "      <td>A852194</td>\n",
       "      <td>Queen</td>\n",
       "      <td>2022-02-27 13:44:00</td>\n",
       "      <td>2022</td>\n",
       "      <td>8071 N Lamar Blvd in Austin (TX)</td>\n",
       "      <td>Stray</td>\n",
       "      <td>Normal</td>\n",
       "      <td>Dog</td>\n",
       "      <td>Intact Female</td>\n",
       "      <td>4 months</td>\n",
       "      <td>Cane Corso</td>\n",
       "      <td>Blue Cream</td>\n",
       "    </tr>\n",
       "  </tbody>\n",
       "</table>\n",
       "</div>"
      ],
      "text/plain": [
       "       Animal ID     Name             DateTime  Year  \\\n",
       "136758   A852238  A852238  2022-02-28 14:02:00  2022   \n",
       "136759   A852221     Coco  2022-02-28 11:05:00  2022   \n",
       "136760   A851977    *Jack  2022-02-22 13:34:00  2022   \n",
       "136761   A852127    Sonic  2022-02-25 13:05:00  2022   \n",
       "136762   A852194    Queen  2022-02-27 13:44:00  2022   \n",
       "\n",
       "                                    Found Location Intake Type  \\\n",
       "136758  Cameron And Crosspark Drive in Austin (TX)       Stray   \n",
       "136759                   45 And 183 in Travis (TX)       Stray   \n",
       "136760        1200 Montopolis Drive in Austin (TX)       Stray   \n",
       "136761      7601 Daffan Ln Unit 424 in Austin (TX)       Stray   \n",
       "136762            8071 N Lamar Blvd in Austin (TX)       Stray   \n",
       "\n",
       "       Intake Condition Animal Type Sex upon Intake Age upon Intake  \\\n",
       "136758           Normal         Dog   Intact Female        6 months   \n",
       "136759           Normal         Dog     Intact Male         3 years   \n",
       "136760           Normal         Dog     Intact Male         2 years   \n",
       "136761           Normal         Dog     Intact Male         2 years   \n",
       "136762           Normal         Dog   Intact Female        4 months   \n",
       "\n",
       "                                Breed         Color  \n",
       "136758         Labrador Retriever Mix   Black/White  \n",
       "136759                 Great Pyrenees         White  \n",
       "136760  Chihuahua Shorthair/Dachshund   Black/White  \n",
       "136761                   Pit Bull Mix  White/Yellow  \n",
       "136762                     Cane Corso    Blue Cream  "
      ]
     },
     "execution_count": 62,
     "metadata": {},
     "output_type": "execute_result"
    }
   ],
   "source": [
    "# Check the last 5 rows\n",
    "df.tail()"
   ]
  },
  {
   "cell_type": "code",
   "execution_count": 63,
   "metadata": {
    "ExecuteTime": {
     "end_time": "2023-04-07T16:34:34.292597Z",
     "start_time": "2023-04-07T16:34:34.273598Z"
    }
   },
   "outputs": [
    {
     "data": {
      "text/plain": [
       "(136763, 12)"
      ]
     },
     "execution_count": 63,
     "metadata": {},
     "output_type": "execute_result"
    }
   ],
   "source": [
    "# Check the shape\n",
    "df.shape"
   ]
  },
  {
   "cell_type": "code",
   "execution_count": 64,
   "metadata": {
    "ExecuteTime": {
     "end_time": "2023-04-07T16:34:42.368096Z",
     "start_time": "2023-04-07T16:34:42.361097Z"
    }
   },
   "outputs": [
    {
     "data": {
      "text/plain": [
       "Animal ID           object\n",
       "Name                object\n",
       "DateTime            object\n",
       "Year                 int64\n",
       "Found Location      object\n",
       "Intake Type         object\n",
       "Intake Condition    object\n",
       "Animal Type         object\n",
       "Sex upon Intake     object\n",
       "Age upon Intake     object\n",
       "Breed               object\n",
       "Color               object\n",
       "dtype: object"
      ]
     },
     "execution_count": 64,
     "metadata": {},
     "output_type": "execute_result"
    }
   ],
   "source": [
    "# Check the datatypes\n",
    "df.dtypes\n"
   ]
  },
  {
   "cell_type": "code",
   "execution_count": 65,
   "metadata": {
    "ExecuteTime": {
     "end_time": "2023-04-07T16:35:06.765096Z",
     "start_time": "2023-04-07T16:35:06.682129Z"
    }
   },
   "outputs": [
    {
     "name": "stdout",
     "output_type": "stream",
     "text": [
      "<class 'pandas.core.frame.DataFrame'>\n",
      "RangeIndex: 136763 entries, 0 to 136762\n",
      "Data columns (total 12 columns):\n",
      " #   Column            Non-Null Count   Dtype \n",
      "---  ------            --------------   ----- \n",
      " 0   Animal ID         136763 non-null  object\n",
      " 1   Name              95772 non-null   object\n",
      " 2   DateTime          136763 non-null  object\n",
      " 3   Year              136763 non-null  int64 \n",
      " 4   Found Location    136763 non-null  object\n",
      " 5   Intake Type       136763 non-null  object\n",
      " 6   Intake Condition  136763 non-null  object\n",
      " 7   Animal Type       136763 non-null  object\n",
      " 8   Sex upon Intake   136762 non-null  object\n",
      " 9   Age upon Intake   136763 non-null  object\n",
      " 10  Breed             136763 non-null  object\n",
      " 11  Color             136763 non-null  object\n",
      "dtypes: int64(1), object(11)\n",
      "memory usage: 12.5+ MB\n"
     ]
    }
   ],
   "source": [
    "# Check more general information on the dataframe\n",
    "df.info()"
   ]
  },
  {
   "cell_type": "code",
   "execution_count": 67,
   "metadata": {
    "ExecuteTime": {
     "end_time": "2023-04-07T16:35:57.558596Z",
     "start_time": "2023-04-07T16:35:57.011596Z"
    }
   },
   "outputs": [
    {
     "data": {
      "text/html": [
       "<div>\n",
       "<style scoped>\n",
       "    .dataframe tbody tr th:only-of-type {\n",
       "        vertical-align: middle;\n",
       "    }\n",
       "\n",
       "    .dataframe tbody tr th {\n",
       "        vertical-align: top;\n",
       "    }\n",
       "\n",
       "    .dataframe thead th {\n",
       "        text-align: right;\n",
       "    }\n",
       "</style>\n",
       "<table border=\"1\" class=\"dataframe\">\n",
       "  <thead>\n",
       "    <tr style=\"text-align: right;\">\n",
       "      <th></th>\n",
       "      <th>Animal ID</th>\n",
       "      <th>Name</th>\n",
       "      <th>DateTime</th>\n",
       "      <th>Found Location</th>\n",
       "      <th>Intake Type</th>\n",
       "      <th>Intake Condition</th>\n",
       "      <th>Animal Type</th>\n",
       "      <th>Sex upon Intake</th>\n",
       "      <th>Age upon Intake</th>\n",
       "      <th>Breed</th>\n",
       "      <th>Color</th>\n",
       "    </tr>\n",
       "  </thead>\n",
       "  <tbody>\n",
       "    <tr>\n",
       "      <th>count</th>\n",
       "      <td>136763</td>\n",
       "      <td>95772</td>\n",
       "      <td>136763</td>\n",
       "      <td>136763</td>\n",
       "      <td>136763</td>\n",
       "      <td>136763</td>\n",
       "      <td>136763</td>\n",
       "      <td>136762</td>\n",
       "      <td>136763</td>\n",
       "      <td>136763</td>\n",
       "      <td>136763</td>\n",
       "    </tr>\n",
       "    <tr>\n",
       "      <th>unique</th>\n",
       "      <td>122244</td>\n",
       "      <td>23058</td>\n",
       "      <td>96160</td>\n",
       "      <td>57763</td>\n",
       "      <td>6</td>\n",
       "      <td>15</td>\n",
       "      <td>5</td>\n",
       "      <td>5</td>\n",
       "      <td>53</td>\n",
       "      <td>2734</td>\n",
       "      <td>614</td>\n",
       "    </tr>\n",
       "    <tr>\n",
       "      <th>top</th>\n",
       "      <td>A721033</td>\n",
       "      <td>Max</td>\n",
       "      <td>2016-09-23 12:00:00</td>\n",
       "      <td>Austin (TX)</td>\n",
       "      <td>Stray</td>\n",
       "      <td>Normal</td>\n",
       "      <td>Dog</td>\n",
       "      <td>Intact Male</td>\n",
       "      <td>1 year</td>\n",
       "      <td>Domestic Shorthair Mix</td>\n",
       "      <td>Black/White</td>\n",
       "    </tr>\n",
       "    <tr>\n",
       "      <th>freq</th>\n",
       "      <td>33</td>\n",
       "      <td>620</td>\n",
       "      <td>64</td>\n",
       "      <td>25674</td>\n",
       "      <td>94180</td>\n",
       "      <td>117867</td>\n",
       "      <td>77098</td>\n",
       "      <td>44962</td>\n",
       "      <td>23422</td>\n",
       "      <td>32034</td>\n",
       "      <td>14291</td>\n",
       "    </tr>\n",
       "  </tbody>\n",
       "</table>\n",
       "</div>"
      ],
      "text/plain": [
       "       Animal ID   Name             DateTime Found Location Intake Type  \\\n",
       "count     136763  95772               136763         136763      136763   \n",
       "unique    122244  23058                96160          57763           6   \n",
       "top      A721033    Max  2016-09-23 12:00:00    Austin (TX)       Stray   \n",
       "freq          33    620                   64          25674       94180   \n",
       "\n",
       "       Intake Condition Animal Type Sex upon Intake Age upon Intake  \\\n",
       "count            136763      136763          136762          136763   \n",
       "unique               15           5               5              53   \n",
       "top              Normal         Dog     Intact Male          1 year   \n",
       "freq             117867       77098           44962           23422   \n",
       "\n",
       "                         Breed        Color  \n",
       "count                   136763       136763  \n",
       "unique                    2734          614  \n",
       "top     Domestic Shorthair Mix  Black/White  \n",
       "freq                     32034        14291  "
      ]
     },
     "execution_count": 67,
     "metadata": {},
     "output_type": "execute_result"
    }
   ],
   "source": [
    "# Check summary/descriptive statistics on the dataframe\n",
    "df.describe(include='object')"
   ]
  },
  {
   "cell_type": "code",
   "execution_count": 68,
   "metadata": {
    "ExecuteTime": {
     "end_time": "2023-04-07T16:36:11.539596Z",
     "start_time": "2023-04-07T16:36:11.508597Z"
    }
   },
   "outputs": [
    {
     "data": {
      "text/html": [
       "<div>\n",
       "<style scoped>\n",
       "    .dataframe tbody tr th:only-of-type {\n",
       "        vertical-align: middle;\n",
       "    }\n",
       "\n",
       "    .dataframe tbody tr th {\n",
       "        vertical-align: top;\n",
       "    }\n",
       "\n",
       "    .dataframe thead th {\n",
       "        text-align: right;\n",
       "    }\n",
       "</style>\n",
       "<table border=\"1\" class=\"dataframe\">\n",
       "  <thead>\n",
       "    <tr style=\"text-align: right;\">\n",
       "      <th></th>\n",
       "      <th>Year</th>\n",
       "    </tr>\n",
       "  </thead>\n",
       "  <tbody>\n",
       "    <tr>\n",
       "      <th>count</th>\n",
       "      <td>136763.000000</td>\n",
       "    </tr>\n",
       "    <tr>\n",
       "      <th>mean</th>\n",
       "      <td>2017.100692</td>\n",
       "    </tr>\n",
       "    <tr>\n",
       "      <th>std</th>\n",
       "      <td>2.328994</td>\n",
       "    </tr>\n",
       "    <tr>\n",
       "      <th>min</th>\n",
       "      <td>2013.000000</td>\n",
       "    </tr>\n",
       "    <tr>\n",
       "      <th>25%</th>\n",
       "      <td>2015.000000</td>\n",
       "    </tr>\n",
       "    <tr>\n",
       "      <th>50%</th>\n",
       "      <td>2017.000000</td>\n",
       "    </tr>\n",
       "    <tr>\n",
       "      <th>75%</th>\n",
       "      <td>2019.000000</td>\n",
       "    </tr>\n",
       "    <tr>\n",
       "      <th>max</th>\n",
       "      <td>2022.000000</td>\n",
       "    </tr>\n",
       "  </tbody>\n",
       "</table>\n",
       "</div>"
      ],
      "text/plain": [
       "                Year\n",
       "count  136763.000000\n",
       "mean     2017.100692\n",
       "std         2.328994\n",
       "min      2013.000000\n",
       "25%      2015.000000\n",
       "50%      2017.000000\n",
       "75%      2019.000000\n",
       "max      2022.000000"
      ]
     },
     "execution_count": 68,
     "metadata": {},
     "output_type": "execute_result"
    }
   ],
   "source": [
    "df.describe()"
   ]
  },
  {
   "cell_type": "markdown",
   "metadata": {
    "heading_collapsed": true
   },
   "source": [
    "#### Any Observations?\n",
    "\n",
    "- \n"
   ]
  },
  {
   "cell_type": "markdown",
   "metadata": {},
   "source": [
    "## Adding to a DataFrame"
   ]
  },
  {
   "cell_type": "markdown",
   "metadata": {},
   "source": [
    "### Adding Rows"
   ]
  },
  {
   "cell_type": "markdown",
   "metadata": {},
   "source": [
    "We have a new animal coming in, captured here in a Python dictionary:"
   ]
  },
  {
   "cell_type": "code",
   "execution_count": 73,
   "metadata": {
    "ExecuteTime": {
     "end_time": "2023-04-07T16:40:09.759597Z",
     "start_time": "2023-04-07T16:40:09.738597Z"
    }
   },
   "outputs": [
    {
     "data": {
      "text/plain": [
       "{'Animal ID': ['A851755'],\n",
       " 'Name': [\"T'Challa\"],\n",
       " 'DateTime': ['2/28/2022 11:25:00 AM'],\n",
       " 'Year': [2022],\n",
       " 'Found Location': ['Houston (TX)'],\n",
       " 'Intake Type': ['Public Assist'],\n",
       " 'Intake Condition': ['Normal'],\n",
       " 'Animal Type': ['Cat'],\n",
       " 'Sex upon Intake': ['Neutered Male'],\n",
       " 'Age upon Intake': ['4 years'],\n",
       " 'Breed': ['Domestic Shorthair'],\n",
       " 'Color': ['Black']}"
      ]
     },
     "execution_count": 73,
     "metadata": {},
     "output_type": "execute_result"
    }
   ],
   "source": [
    "# Dictionary, where keys match the column names and values are the row values\n",
    "next_row = {\n",
    "    'Animal ID': ['A851755'],\n",
    "    'Name': [\"T'Challa\"],\n",
    "    'DateTime': ['2/28/2022 11:25:00 AM'],\n",
    "    'Year': [2022],\n",
    "    'Found Location': ['Houston (TX)'],\n",
    "    'Intake Type': ['Public Assist'],\n",
    "    'Intake Condition': ['Normal'],\n",
    "    'Animal Type': ['Cat'],\n",
    "    'Sex upon Intake': ['Neutered Male'],\n",
    "    'Age upon Intake': ['4 years'],\n",
    "    'Breed': ['Domestic Shorthair'],\n",
    "    'Color': ['Black']\n",
    "}\n",
    "next_row"
   ]
  },
  {
   "cell_type": "markdown",
   "metadata": {},
   "source": [
    "How can we add this to the bottom of our dataset?"
   ]
  },
  {
   "cell_type": "code",
   "execution_count": 74,
   "metadata": {
    "ExecuteTime": {
     "end_time": "2023-04-07T16:40:11.247096Z",
     "start_time": "2023-04-07T16:40:11.228096Z"
    }
   },
   "outputs": [],
   "source": [
    "# Let's first turn this into a DataFrame.\n",
    "# We can use the .from_dict() method.\n",
    "new_animal = pd.DataFrame.from_dict(next_row)"
   ]
  },
  {
   "cell_type": "code",
   "execution_count": 75,
   "metadata": {
    "ExecuteTime": {
     "end_time": "2023-04-07T16:40:15.432097Z",
     "start_time": "2023-04-07T16:40:15.404597Z"
    }
   },
   "outputs": [
    {
     "data": {
      "text/html": [
       "<div>\n",
       "<style scoped>\n",
       "    .dataframe tbody tr th:only-of-type {\n",
       "        vertical-align: middle;\n",
       "    }\n",
       "\n",
       "    .dataframe tbody tr th {\n",
       "        vertical-align: top;\n",
       "    }\n",
       "\n",
       "    .dataframe thead th {\n",
       "        text-align: right;\n",
       "    }\n",
       "</style>\n",
       "<table border=\"1\" class=\"dataframe\">\n",
       "  <thead>\n",
       "    <tr style=\"text-align: right;\">\n",
       "      <th></th>\n",
       "      <th>Animal ID</th>\n",
       "      <th>Name</th>\n",
       "      <th>DateTime</th>\n",
       "      <th>Year</th>\n",
       "      <th>Found Location</th>\n",
       "      <th>Intake Type</th>\n",
       "      <th>Intake Condition</th>\n",
       "      <th>Animal Type</th>\n",
       "      <th>Sex upon Intake</th>\n",
       "      <th>Age upon Intake</th>\n",
       "      <th>Breed</th>\n",
       "      <th>Color</th>\n",
       "    </tr>\n",
       "  </thead>\n",
       "  <tbody>\n",
       "    <tr>\n",
       "      <th>0</th>\n",
       "      <td>A851755</td>\n",
       "      <td>T'Challa</td>\n",
       "      <td>2/28/2022 11:25:00 AM</td>\n",
       "      <td>2022</td>\n",
       "      <td>Houston (TX)</td>\n",
       "      <td>Public Assist</td>\n",
       "      <td>Normal</td>\n",
       "      <td>Cat</td>\n",
       "      <td>Neutered Male</td>\n",
       "      <td>4 years</td>\n",
       "      <td>Domestic Shorthair</td>\n",
       "      <td>Black</td>\n",
       "    </tr>\n",
       "  </tbody>\n",
       "</table>\n",
       "</div>"
      ],
      "text/plain": [
       "  Animal ID      Name               DateTime  Year Found Location  \\\n",
       "0   A851755  T'Challa  2/28/2022 11:25:00 AM  2022   Houston (TX)   \n",
       "\n",
       "     Intake Type Intake Condition Animal Type Sex upon Intake Age upon Intake  \\\n",
       "0  Public Assist           Normal         Cat   Neutered Male         4 years   \n",
       "\n",
       "                Breed  Color  \n",
       "0  Domestic Shorthair  Black  "
      ]
     },
     "execution_count": 75,
     "metadata": {},
     "output_type": "execute_result"
    }
   ],
   "source": [
    "new_animal"
   ]
  },
  {
   "cell_type": "code",
   "execution_count": 76,
   "metadata": {
    "ExecuteTime": {
     "end_time": "2023-04-07T16:41:07.744596Z",
     "start_time": "2023-04-07T16:41:07.695596Z"
    }
   },
   "outputs": [],
   "source": [
    "# Now we just need to concatenate the two DataFrames together.\n",
    "# Note the `ignore_index` parameter! We'll set that to True.\n",
    "df_augmented = pd.concat([df, new_animal], ignore_index=True)"
   ]
  },
  {
   "cell_type": "code",
   "execution_count": 77,
   "metadata": {
    "ExecuteTime": {
     "end_time": "2023-04-07T16:41:14.735096Z",
     "start_time": "2023-04-07T16:41:14.719097Z"
    }
   },
   "outputs": [
    {
     "data": {
      "text/html": [
       "<div>\n",
       "<style scoped>\n",
       "    .dataframe tbody tr th:only-of-type {\n",
       "        vertical-align: middle;\n",
       "    }\n",
       "\n",
       "    .dataframe tbody tr th {\n",
       "        vertical-align: top;\n",
       "    }\n",
       "\n",
       "    .dataframe thead th {\n",
       "        text-align: right;\n",
       "    }\n",
       "</style>\n",
       "<table border=\"1\" class=\"dataframe\">\n",
       "  <thead>\n",
       "    <tr style=\"text-align: right;\">\n",
       "      <th></th>\n",
       "      <th>Animal ID</th>\n",
       "      <th>Name</th>\n",
       "      <th>DateTime</th>\n",
       "      <th>Year</th>\n",
       "      <th>Found Location</th>\n",
       "      <th>Intake Type</th>\n",
       "      <th>Intake Condition</th>\n",
       "      <th>Animal Type</th>\n",
       "      <th>Sex upon Intake</th>\n",
       "      <th>Age upon Intake</th>\n",
       "      <th>Breed</th>\n",
       "      <th>Color</th>\n",
       "    </tr>\n",
       "  </thead>\n",
       "  <tbody>\n",
       "    <tr>\n",
       "      <th>136759</th>\n",
       "      <td>A852221</td>\n",
       "      <td>Coco</td>\n",
       "      <td>2022-02-28 11:05:00</td>\n",
       "      <td>2022</td>\n",
       "      <td>45 And 183 in Travis (TX)</td>\n",
       "      <td>Stray</td>\n",
       "      <td>Normal</td>\n",
       "      <td>Dog</td>\n",
       "      <td>Intact Male</td>\n",
       "      <td>3 years</td>\n",
       "      <td>Great Pyrenees</td>\n",
       "      <td>White</td>\n",
       "    </tr>\n",
       "    <tr>\n",
       "      <th>136760</th>\n",
       "      <td>A851977</td>\n",
       "      <td>*Jack</td>\n",
       "      <td>2022-02-22 13:34:00</td>\n",
       "      <td>2022</td>\n",
       "      <td>1200 Montopolis Drive in Austin (TX)</td>\n",
       "      <td>Stray</td>\n",
       "      <td>Normal</td>\n",
       "      <td>Dog</td>\n",
       "      <td>Intact Male</td>\n",
       "      <td>2 years</td>\n",
       "      <td>Chihuahua Shorthair/Dachshund</td>\n",
       "      <td>Black/White</td>\n",
       "    </tr>\n",
       "    <tr>\n",
       "      <th>136761</th>\n",
       "      <td>A852127</td>\n",
       "      <td>Sonic</td>\n",
       "      <td>2022-02-25 13:05:00</td>\n",
       "      <td>2022</td>\n",
       "      <td>7601 Daffan Ln Unit 424 in Austin (TX)</td>\n",
       "      <td>Stray</td>\n",
       "      <td>Normal</td>\n",
       "      <td>Dog</td>\n",
       "      <td>Intact Male</td>\n",
       "      <td>2 years</td>\n",
       "      <td>Pit Bull Mix</td>\n",
       "      <td>White/Yellow</td>\n",
       "    </tr>\n",
       "    <tr>\n",
       "      <th>136762</th>\n",
       "      <td>A852194</td>\n",
       "      <td>Queen</td>\n",
       "      <td>2022-02-27 13:44:00</td>\n",
       "      <td>2022</td>\n",
       "      <td>8071 N Lamar Blvd in Austin (TX)</td>\n",
       "      <td>Stray</td>\n",
       "      <td>Normal</td>\n",
       "      <td>Dog</td>\n",
       "      <td>Intact Female</td>\n",
       "      <td>4 months</td>\n",
       "      <td>Cane Corso</td>\n",
       "      <td>Blue Cream</td>\n",
       "    </tr>\n",
       "    <tr>\n",
       "      <th>136763</th>\n",
       "      <td>A851755</td>\n",
       "      <td>T'Challa</td>\n",
       "      <td>2/28/2022 11:25:00 AM</td>\n",
       "      <td>2022</td>\n",
       "      <td>Houston (TX)</td>\n",
       "      <td>Public Assist</td>\n",
       "      <td>Normal</td>\n",
       "      <td>Cat</td>\n",
       "      <td>Neutered Male</td>\n",
       "      <td>4 years</td>\n",
       "      <td>Domestic Shorthair</td>\n",
       "      <td>Black</td>\n",
       "    </tr>\n",
       "  </tbody>\n",
       "</table>\n",
       "</div>"
      ],
      "text/plain": [
       "       Animal ID      Name               DateTime  Year  \\\n",
       "136759   A852221      Coco    2022-02-28 11:05:00  2022   \n",
       "136760   A851977     *Jack    2022-02-22 13:34:00  2022   \n",
       "136761   A852127     Sonic    2022-02-25 13:05:00  2022   \n",
       "136762   A852194     Queen    2022-02-27 13:44:00  2022   \n",
       "136763   A851755  T'Challa  2/28/2022 11:25:00 AM  2022   \n",
       "\n",
       "                                Found Location    Intake Type  \\\n",
       "136759               45 And 183 in Travis (TX)          Stray   \n",
       "136760    1200 Montopolis Drive in Austin (TX)          Stray   \n",
       "136761  7601 Daffan Ln Unit 424 in Austin (TX)          Stray   \n",
       "136762        8071 N Lamar Blvd in Austin (TX)          Stray   \n",
       "136763                            Houston (TX)  Public Assist   \n",
       "\n",
       "       Intake Condition Animal Type Sex upon Intake Age upon Intake  \\\n",
       "136759           Normal         Dog     Intact Male         3 years   \n",
       "136760           Normal         Dog     Intact Male         2 years   \n",
       "136761           Normal         Dog     Intact Male         2 years   \n",
       "136762           Normal         Dog   Intact Female        4 months   \n",
       "136763           Normal         Cat   Neutered Male         4 years   \n",
       "\n",
       "                                Breed         Color  \n",
       "136759                 Great Pyrenees         White  \n",
       "136760  Chihuahua Shorthair/Dachshund   Black/White  \n",
       "136761                   Pit Bull Mix  White/Yellow  \n",
       "136762                     Cane Corso    Blue Cream  \n",
       "136763             Domestic Shorthair         Black  "
      ]
     },
     "execution_count": 77,
     "metadata": {},
     "output_type": "execute_result"
    }
   ],
   "source": [
    "# Let's check the end to make sure we were successful!\n",
    "df_augmented.tail()"
   ]
  },
  {
   "cell_type": "markdown",
   "metadata": {},
   "source": [
    "## Adding (and Deleting) Columns"
   ]
  },
  {
   "cell_type": "markdown",
   "metadata": {},
   "source": [
    "Adding a column is very easy in `pandas`. Let's add a new column to our dataset called \"test\", and set all of its values to 0."
   ]
  },
  {
   "cell_type": "code",
   "execution_count": 86,
   "metadata": {
    "ExecuteTime": {
     "end_time": "2023-04-07T16:44:35.243096Z",
     "start_time": "2023-04-07T16:44:35.227096Z"
    }
   },
   "outputs": [],
   "source": [
    "# Create a new column, 'test', where every value in the col is 0\n",
    "df['test'] = 0"
   ]
  },
  {
   "cell_type": "code",
   "execution_count": 87,
   "metadata": {
    "ExecuteTime": {
     "end_time": "2023-04-07T16:44:35.553096Z",
     "start_time": "2023-04-07T16:44:35.527097Z"
    }
   },
   "outputs": [
    {
     "data": {
      "text/html": [
       "<div>\n",
       "<style scoped>\n",
       "    .dataframe tbody tr th:only-of-type {\n",
       "        vertical-align: middle;\n",
       "    }\n",
       "\n",
       "    .dataframe tbody tr th {\n",
       "        vertical-align: top;\n",
       "    }\n",
       "\n",
       "    .dataframe thead th {\n",
       "        text-align: right;\n",
       "    }\n",
       "</style>\n",
       "<table border=\"1\" class=\"dataframe\">\n",
       "  <thead>\n",
       "    <tr style=\"text-align: right;\">\n",
       "      <th></th>\n",
       "      <th>Animal ID</th>\n",
       "      <th>Name</th>\n",
       "      <th>DateTime</th>\n",
       "      <th>Year</th>\n",
       "      <th>Found Location</th>\n",
       "      <th>Intake Type</th>\n",
       "      <th>Intake Condition</th>\n",
       "      <th>Animal Type</th>\n",
       "      <th>Sex upon Intake</th>\n",
       "      <th>Age upon Intake</th>\n",
       "      <th>Breed</th>\n",
       "      <th>Color</th>\n",
       "      <th>test</th>\n",
       "    </tr>\n",
       "  </thead>\n",
       "  <tbody>\n",
       "    <tr>\n",
       "      <th>0</th>\n",
       "      <td>A786884</td>\n",
       "      <td>*Brock</td>\n",
       "      <td>2019-01-03 16:19:00</td>\n",
       "      <td>2019</td>\n",
       "      <td>2501 Magin Meadow Dr in Austin (TX)</td>\n",
       "      <td>Stray</td>\n",
       "      <td>Normal</td>\n",
       "      <td>Dog</td>\n",
       "      <td>Neutered Male</td>\n",
       "      <td>2 years</td>\n",
       "      <td>Beagle Mix</td>\n",
       "      <td>Tricolor</td>\n",
       "      <td>0</td>\n",
       "    </tr>\n",
       "    <tr>\n",
       "      <th>1</th>\n",
       "      <td>A706918</td>\n",
       "      <td>Belle</td>\n",
       "      <td>2015-07-05 12:59:00</td>\n",
       "      <td>2015</td>\n",
       "      <td>9409 Bluegrass Dr in Austin (TX)</td>\n",
       "      <td>Stray</td>\n",
       "      <td>Normal</td>\n",
       "      <td>Dog</td>\n",
       "      <td>Spayed Female</td>\n",
       "      <td>8 years</td>\n",
       "      <td>English Springer Spaniel</td>\n",
       "      <td>White/Liver</td>\n",
       "      <td>0</td>\n",
       "    </tr>\n",
       "    <tr>\n",
       "      <th>2</th>\n",
       "      <td>A724273</td>\n",
       "      <td>Runster</td>\n",
       "      <td>2016-04-14 18:43:00</td>\n",
       "      <td>2016</td>\n",
       "      <td>2818 Palomino Trail in Austin (TX)</td>\n",
       "      <td>Stray</td>\n",
       "      <td>Normal</td>\n",
       "      <td>Dog</td>\n",
       "      <td>Intact Male</td>\n",
       "      <td>11 months</td>\n",
       "      <td>Basenji Mix</td>\n",
       "      <td>Sable/White</td>\n",
       "      <td>0</td>\n",
       "    </tr>\n",
       "    <tr>\n",
       "      <th>3</th>\n",
       "      <td>A665644</td>\n",
       "      <td>NaN</td>\n",
       "      <td>2013-10-21 07:59:00</td>\n",
       "      <td>2013</td>\n",
       "      <td>Austin (TX)</td>\n",
       "      <td>Stray</td>\n",
       "      <td>Sick</td>\n",
       "      <td>Cat</td>\n",
       "      <td>Intact Female</td>\n",
       "      <td>4 weeks</td>\n",
       "      <td>Domestic Shorthair Mix</td>\n",
       "      <td>Calico</td>\n",
       "      <td>0</td>\n",
       "    </tr>\n",
       "    <tr>\n",
       "      <th>4</th>\n",
       "      <td>A682524</td>\n",
       "      <td>Rio</td>\n",
       "      <td>2014-06-29 10:38:00</td>\n",
       "      <td>2014</td>\n",
       "      <td>800 Grove Blvd in Austin (TX)</td>\n",
       "      <td>Stray</td>\n",
       "      <td>Normal</td>\n",
       "      <td>Dog</td>\n",
       "      <td>Neutered Male</td>\n",
       "      <td>4 years</td>\n",
       "      <td>Doberman Pinsch/Australian Cattle Dog</td>\n",
       "      <td>Tan/Gray</td>\n",
       "      <td>0</td>\n",
       "    </tr>\n",
       "  </tbody>\n",
       "</table>\n",
       "</div>"
      ],
      "text/plain": [
       "  Animal ID     Name             DateTime  Year  \\\n",
       "0   A786884   *Brock  2019-01-03 16:19:00  2019   \n",
       "1   A706918    Belle  2015-07-05 12:59:00  2015   \n",
       "2   A724273  Runster  2016-04-14 18:43:00  2016   \n",
       "3   A665644      NaN  2013-10-21 07:59:00  2013   \n",
       "4   A682524      Rio  2014-06-29 10:38:00  2014   \n",
       "\n",
       "                        Found Location Intake Type Intake Condition  \\\n",
       "0  2501 Magin Meadow Dr in Austin (TX)       Stray           Normal   \n",
       "1     9409 Bluegrass Dr in Austin (TX)       Stray           Normal   \n",
       "2   2818 Palomino Trail in Austin (TX)       Stray           Normal   \n",
       "3                          Austin (TX)       Stray             Sick   \n",
       "4        800 Grove Blvd in Austin (TX)       Stray           Normal   \n",
       "\n",
       "  Animal Type Sex upon Intake Age upon Intake  \\\n",
       "0         Dog   Neutered Male         2 years   \n",
       "1         Dog   Spayed Female         8 years   \n",
       "2         Dog     Intact Male       11 months   \n",
       "3         Cat   Intact Female         4 weeks   \n",
       "4         Dog   Neutered Male         4 years   \n",
       "\n",
       "                                   Breed        Color  test  \n",
       "0                             Beagle Mix     Tricolor     0  \n",
       "1               English Springer Spaniel  White/Liver     0  \n",
       "2                            Basenji Mix  Sable/White     0  \n",
       "3                 Domestic Shorthair Mix       Calico     0  \n",
       "4  Doberman Pinsch/Australian Cattle Dog     Tan/Gray     0  "
      ]
     },
     "execution_count": 87,
     "metadata": {},
     "output_type": "execute_result"
    }
   ],
   "source": [
    "# Sanity check\n",
    "df.head()"
   ]
  },
  {
   "cell_type": "markdown",
   "metadata": {},
   "source": [
    "But we don't need that - let's drop that column."
   ]
  },
  {
   "cell_type": "code",
   "execution_count": 89,
   "metadata": {
    "ExecuteTime": {
     "end_time": "2023-04-07T16:45:01.825598Z",
     "start_time": "2023-04-07T16:45:01.798596Z"
    }
   },
   "outputs": [],
   "source": [
    "# Drop that test column\n",
    "df = df.drop(columns=['test'])"
   ]
  },
  {
   "cell_type": "code",
   "execution_count": 90,
   "metadata": {
    "ExecuteTime": {
     "end_time": "2023-04-07T16:45:02.910597Z",
     "start_time": "2023-04-07T16:45:02.896596Z"
    }
   },
   "outputs": [
    {
     "data": {
      "text/html": [
       "<div>\n",
       "<style scoped>\n",
       "    .dataframe tbody tr th:only-of-type {\n",
       "        vertical-align: middle;\n",
       "    }\n",
       "\n",
       "    .dataframe tbody tr th {\n",
       "        vertical-align: top;\n",
       "    }\n",
       "\n",
       "    .dataframe thead th {\n",
       "        text-align: right;\n",
       "    }\n",
       "</style>\n",
       "<table border=\"1\" class=\"dataframe\">\n",
       "  <thead>\n",
       "    <tr style=\"text-align: right;\">\n",
       "      <th></th>\n",
       "      <th>Animal ID</th>\n",
       "      <th>Name</th>\n",
       "      <th>DateTime</th>\n",
       "      <th>Year</th>\n",
       "      <th>Found Location</th>\n",
       "      <th>Intake Type</th>\n",
       "      <th>Intake Condition</th>\n",
       "      <th>Animal Type</th>\n",
       "      <th>Sex upon Intake</th>\n",
       "      <th>Age upon Intake</th>\n",
       "      <th>Breed</th>\n",
       "      <th>Color</th>\n",
       "    </tr>\n",
       "  </thead>\n",
       "  <tbody>\n",
       "    <tr>\n",
       "      <th>0</th>\n",
       "      <td>A786884</td>\n",
       "      <td>*Brock</td>\n",
       "      <td>2019-01-03 16:19:00</td>\n",
       "      <td>2019</td>\n",
       "      <td>2501 Magin Meadow Dr in Austin (TX)</td>\n",
       "      <td>Stray</td>\n",
       "      <td>Normal</td>\n",
       "      <td>Dog</td>\n",
       "      <td>Neutered Male</td>\n",
       "      <td>2 years</td>\n",
       "      <td>Beagle Mix</td>\n",
       "      <td>Tricolor</td>\n",
       "    </tr>\n",
       "    <tr>\n",
       "      <th>1</th>\n",
       "      <td>A706918</td>\n",
       "      <td>Belle</td>\n",
       "      <td>2015-07-05 12:59:00</td>\n",
       "      <td>2015</td>\n",
       "      <td>9409 Bluegrass Dr in Austin (TX)</td>\n",
       "      <td>Stray</td>\n",
       "      <td>Normal</td>\n",
       "      <td>Dog</td>\n",
       "      <td>Spayed Female</td>\n",
       "      <td>8 years</td>\n",
       "      <td>English Springer Spaniel</td>\n",
       "      <td>White/Liver</td>\n",
       "    </tr>\n",
       "    <tr>\n",
       "      <th>2</th>\n",
       "      <td>A724273</td>\n",
       "      <td>Runster</td>\n",
       "      <td>2016-04-14 18:43:00</td>\n",
       "      <td>2016</td>\n",
       "      <td>2818 Palomino Trail in Austin (TX)</td>\n",
       "      <td>Stray</td>\n",
       "      <td>Normal</td>\n",
       "      <td>Dog</td>\n",
       "      <td>Intact Male</td>\n",
       "      <td>11 months</td>\n",
       "      <td>Basenji Mix</td>\n",
       "      <td>Sable/White</td>\n",
       "    </tr>\n",
       "    <tr>\n",
       "      <th>3</th>\n",
       "      <td>A665644</td>\n",
       "      <td>NaN</td>\n",
       "      <td>2013-10-21 07:59:00</td>\n",
       "      <td>2013</td>\n",
       "      <td>Austin (TX)</td>\n",
       "      <td>Stray</td>\n",
       "      <td>Sick</td>\n",
       "      <td>Cat</td>\n",
       "      <td>Intact Female</td>\n",
       "      <td>4 weeks</td>\n",
       "      <td>Domestic Shorthair Mix</td>\n",
       "      <td>Calico</td>\n",
       "    </tr>\n",
       "    <tr>\n",
       "      <th>4</th>\n",
       "      <td>A682524</td>\n",
       "      <td>Rio</td>\n",
       "      <td>2014-06-29 10:38:00</td>\n",
       "      <td>2014</td>\n",
       "      <td>800 Grove Blvd in Austin (TX)</td>\n",
       "      <td>Stray</td>\n",
       "      <td>Normal</td>\n",
       "      <td>Dog</td>\n",
       "      <td>Neutered Male</td>\n",
       "      <td>4 years</td>\n",
       "      <td>Doberman Pinsch/Australian Cattle Dog</td>\n",
       "      <td>Tan/Gray</td>\n",
       "    </tr>\n",
       "  </tbody>\n",
       "</table>\n",
       "</div>"
      ],
      "text/plain": [
       "  Animal ID     Name             DateTime  Year  \\\n",
       "0   A786884   *Brock  2019-01-03 16:19:00  2019   \n",
       "1   A706918    Belle  2015-07-05 12:59:00  2015   \n",
       "2   A724273  Runster  2016-04-14 18:43:00  2016   \n",
       "3   A665644      NaN  2013-10-21 07:59:00  2013   \n",
       "4   A682524      Rio  2014-06-29 10:38:00  2014   \n",
       "\n",
       "                        Found Location Intake Type Intake Condition  \\\n",
       "0  2501 Magin Meadow Dr in Austin (TX)       Stray           Normal   \n",
       "1     9409 Bluegrass Dr in Austin (TX)       Stray           Normal   \n",
       "2   2818 Palomino Trail in Austin (TX)       Stray           Normal   \n",
       "3                          Austin (TX)       Stray             Sick   \n",
       "4        800 Grove Blvd in Austin (TX)       Stray           Normal   \n",
       "\n",
       "  Animal Type Sex upon Intake Age upon Intake  \\\n",
       "0         Dog   Neutered Male         2 years   \n",
       "1         Dog   Spayed Female         8 years   \n",
       "2         Dog     Intact Male       11 months   \n",
       "3         Cat   Intact Female         4 weeks   \n",
       "4         Dog   Neutered Male         4 years   \n",
       "\n",
       "                                   Breed        Color  \n",
       "0                             Beagle Mix     Tricolor  \n",
       "1               English Springer Spaniel  White/Liver  \n",
       "2                            Basenji Mix  Sable/White  \n",
       "3                 Domestic Shorthair Mix       Calico  \n",
       "4  Doberman Pinsch/Australian Cattle Dog     Tan/Gray  "
      ]
     },
     "execution_count": 90,
     "metadata": {},
     "output_type": "execute_result"
    }
   ],
   "source": [
    "# Sanity check\n",
    "df.head()"
   ]
  },
  {
   "cell_type": "markdown",
   "metadata": {},
   "source": [
    "We can also do math with columns, or use mathematical notation to combine columns even when they aren't numerical!\n",
    "\n",
    "We don't have any numeric data in this current dataset. But we can still create a combined \"Type\" column that combines the values of our Intake Type and Animal Type columns."
   ]
  },
  {
   "cell_type": "code",
   "execution_count": 91,
   "metadata": {
    "ExecuteTime": {
     "end_time": "2023-04-07T16:46:33.787097Z",
     "start_time": "2023-04-07T16:46:33.743097Z"
    }
   },
   "outputs": [],
   "source": [
    "# Create a new column, 'Type', from the two 'Type' columns\n",
    "df['Type'] = df['Intake Type'] + ' ' + df['Animal Type']"
   ]
  },
  {
   "cell_type": "code",
   "execution_count": 92,
   "metadata": {
    "ExecuteTime": {
     "end_time": "2023-04-07T16:46:37.367596Z",
     "start_time": "2023-04-07T16:46:37.339598Z"
    }
   },
   "outputs": [
    {
     "data": {
      "text/html": [
       "<div>\n",
       "<style scoped>\n",
       "    .dataframe tbody tr th:only-of-type {\n",
       "        vertical-align: middle;\n",
       "    }\n",
       "\n",
       "    .dataframe tbody tr th {\n",
       "        vertical-align: top;\n",
       "    }\n",
       "\n",
       "    .dataframe thead th {\n",
       "        text-align: right;\n",
       "    }\n",
       "</style>\n",
       "<table border=\"1\" class=\"dataframe\">\n",
       "  <thead>\n",
       "    <tr style=\"text-align: right;\">\n",
       "      <th></th>\n",
       "      <th>Animal ID</th>\n",
       "      <th>Name</th>\n",
       "      <th>DateTime</th>\n",
       "      <th>Year</th>\n",
       "      <th>Found Location</th>\n",
       "      <th>Intake Type</th>\n",
       "      <th>Intake Condition</th>\n",
       "      <th>Animal Type</th>\n",
       "      <th>Sex upon Intake</th>\n",
       "      <th>Age upon Intake</th>\n",
       "      <th>Breed</th>\n",
       "      <th>Color</th>\n",
       "      <th>Type</th>\n",
       "    </tr>\n",
       "  </thead>\n",
       "  <tbody>\n",
       "    <tr>\n",
       "      <th>0</th>\n",
       "      <td>A786884</td>\n",
       "      <td>*Brock</td>\n",
       "      <td>2019-01-03 16:19:00</td>\n",
       "      <td>2019</td>\n",
       "      <td>2501 Magin Meadow Dr in Austin (TX)</td>\n",
       "      <td>Stray</td>\n",
       "      <td>Normal</td>\n",
       "      <td>Dog</td>\n",
       "      <td>Neutered Male</td>\n",
       "      <td>2 years</td>\n",
       "      <td>Beagle Mix</td>\n",
       "      <td>Tricolor</td>\n",
       "      <td>Stray Dog</td>\n",
       "    </tr>\n",
       "    <tr>\n",
       "      <th>1</th>\n",
       "      <td>A706918</td>\n",
       "      <td>Belle</td>\n",
       "      <td>2015-07-05 12:59:00</td>\n",
       "      <td>2015</td>\n",
       "      <td>9409 Bluegrass Dr in Austin (TX)</td>\n",
       "      <td>Stray</td>\n",
       "      <td>Normal</td>\n",
       "      <td>Dog</td>\n",
       "      <td>Spayed Female</td>\n",
       "      <td>8 years</td>\n",
       "      <td>English Springer Spaniel</td>\n",
       "      <td>White/Liver</td>\n",
       "      <td>Stray Dog</td>\n",
       "    </tr>\n",
       "    <tr>\n",
       "      <th>2</th>\n",
       "      <td>A724273</td>\n",
       "      <td>Runster</td>\n",
       "      <td>2016-04-14 18:43:00</td>\n",
       "      <td>2016</td>\n",
       "      <td>2818 Palomino Trail in Austin (TX)</td>\n",
       "      <td>Stray</td>\n",
       "      <td>Normal</td>\n",
       "      <td>Dog</td>\n",
       "      <td>Intact Male</td>\n",
       "      <td>11 months</td>\n",
       "      <td>Basenji Mix</td>\n",
       "      <td>Sable/White</td>\n",
       "      <td>Stray Dog</td>\n",
       "    </tr>\n",
       "    <tr>\n",
       "      <th>3</th>\n",
       "      <td>A665644</td>\n",
       "      <td>NaN</td>\n",
       "      <td>2013-10-21 07:59:00</td>\n",
       "      <td>2013</td>\n",
       "      <td>Austin (TX)</td>\n",
       "      <td>Stray</td>\n",
       "      <td>Sick</td>\n",
       "      <td>Cat</td>\n",
       "      <td>Intact Female</td>\n",
       "      <td>4 weeks</td>\n",
       "      <td>Domestic Shorthair Mix</td>\n",
       "      <td>Calico</td>\n",
       "      <td>Stray Cat</td>\n",
       "    </tr>\n",
       "    <tr>\n",
       "      <th>4</th>\n",
       "      <td>A682524</td>\n",
       "      <td>Rio</td>\n",
       "      <td>2014-06-29 10:38:00</td>\n",
       "      <td>2014</td>\n",
       "      <td>800 Grove Blvd in Austin (TX)</td>\n",
       "      <td>Stray</td>\n",
       "      <td>Normal</td>\n",
       "      <td>Dog</td>\n",
       "      <td>Neutered Male</td>\n",
       "      <td>4 years</td>\n",
       "      <td>Doberman Pinsch/Australian Cattle Dog</td>\n",
       "      <td>Tan/Gray</td>\n",
       "      <td>Stray Dog</td>\n",
       "    </tr>\n",
       "  </tbody>\n",
       "</table>\n",
       "</div>"
      ],
      "text/plain": [
       "  Animal ID     Name             DateTime  Year  \\\n",
       "0   A786884   *Brock  2019-01-03 16:19:00  2019   \n",
       "1   A706918    Belle  2015-07-05 12:59:00  2015   \n",
       "2   A724273  Runster  2016-04-14 18:43:00  2016   \n",
       "3   A665644      NaN  2013-10-21 07:59:00  2013   \n",
       "4   A682524      Rio  2014-06-29 10:38:00  2014   \n",
       "\n",
       "                        Found Location Intake Type Intake Condition  \\\n",
       "0  2501 Magin Meadow Dr in Austin (TX)       Stray           Normal   \n",
       "1     9409 Bluegrass Dr in Austin (TX)       Stray           Normal   \n",
       "2   2818 Palomino Trail in Austin (TX)       Stray           Normal   \n",
       "3                          Austin (TX)       Stray             Sick   \n",
       "4        800 Grove Blvd in Austin (TX)       Stray           Normal   \n",
       "\n",
       "  Animal Type Sex upon Intake Age upon Intake  \\\n",
       "0         Dog   Neutered Male         2 years   \n",
       "1         Dog   Spayed Female         8 years   \n",
       "2         Dog     Intact Male       11 months   \n",
       "3         Cat   Intact Female         4 weeks   \n",
       "4         Dog   Neutered Male         4 years   \n",
       "\n",
       "                                   Breed        Color       Type  \n",
       "0                             Beagle Mix     Tricolor  Stray Dog  \n",
       "1               English Springer Spaniel  White/Liver  Stray Dog  \n",
       "2                            Basenji Mix  Sable/White  Stray Dog  \n",
       "3                 Domestic Shorthair Mix       Calico  Stray Cat  \n",
       "4  Doberman Pinsch/Australian Cattle Dog     Tan/Gray  Stray Dog  "
      ]
     },
     "execution_count": 92,
     "metadata": {},
     "output_type": "execute_result"
    }
   ],
   "source": [
    "# Sanity check\n",
    "df.head()"
   ]
  },
  {
   "cell_type": "markdown",
   "metadata": {},
   "source": [
    "# Filtering"
   ]
  },
  {
   "cell_type": "markdown",
   "metadata": {},
   "source": [
    "We can use filtering techniques to see only certain rows of our data. Let's look at only animals taken into the center during or after 2020:"
   ]
  },
  {
   "cell_type": "code",
   "execution_count": 93,
   "metadata": {
    "ExecuteTime": {
     "end_time": "2023-04-07T16:55:38.147251Z",
     "start_time": "2023-04-07T16:55:38.124751Z"
    }
   },
   "outputs": [
    {
     "data": {
      "text/plain": [
       "0         False\n",
       "1         False\n",
       "2         False\n",
       "3         False\n",
       "4         False\n",
       "          ...  \n",
       "136758     True\n",
       "136759     True\n",
       "136760     True\n",
       "136761     True\n",
       "136762     True\n",
       "Name: Year, Length: 136763, dtype: bool"
      ]
     },
     "execution_count": 93,
     "metadata": {},
     "output_type": "execute_result"
    }
   ],
   "source": [
    "# Check which rows have an intake year greater than or equal to 2020\n",
    "df['Year'] >= 2020"
   ]
  },
  {
   "cell_type": "code",
   "execution_count": 94,
   "metadata": {
    "ExecuteTime": {
     "end_time": "2023-04-07T16:56:09.596751Z",
     "start_time": "2023-04-07T16:56:09.568753Z"
    }
   },
   "outputs": [
    {
     "data": {
      "text/plain": [
       "23269"
      ]
     },
     "execution_count": 94,
     "metadata": {},
     "output_type": "execute_result"
    }
   ],
   "source": [
    "# Let's explore an interesting property of boolean columns...\n",
    "# Find out the total sum of animals taken in during or after 2020\n",
    "sum(df['Year'] >= 2020)"
   ]
  },
  {
   "cell_type": "markdown",
   "metadata": {},
   "source": [
    "But this only gives us True/False outputs... what if we want to really filter?"
   ]
  },
  {
   "cell_type": "code",
   "execution_count": 96,
   "metadata": {
    "ExecuteTime": {
     "end_time": "2023-04-07T16:58:50.331751Z",
     "start_time": "2023-04-07T16:58:50.322251Z"
    }
   },
   "outputs": [],
   "source": [
    "filter2020 = df['Year'] >= 2020"
   ]
  },
  {
   "cell_type": "code",
   "execution_count": 97,
   "metadata": {
    "ExecuteTime": {
     "end_time": "2023-04-07T16:58:57.291252Z",
     "start_time": "2023-04-07T16:58:57.252250Z"
    },
    "scrolled": true
   },
   "outputs": [
    {
     "data": {
      "text/html": [
       "<div>\n",
       "<style scoped>\n",
       "    .dataframe tbody tr th:only-of-type {\n",
       "        vertical-align: middle;\n",
       "    }\n",
       "\n",
       "    .dataframe tbody tr th {\n",
       "        vertical-align: top;\n",
       "    }\n",
       "\n",
       "    .dataframe thead th {\n",
       "        text-align: right;\n",
       "    }\n",
       "</style>\n",
       "<table border=\"1\" class=\"dataframe\">\n",
       "  <thead>\n",
       "    <tr style=\"text-align: right;\">\n",
       "      <th></th>\n",
       "      <th>Animal ID</th>\n",
       "      <th>Name</th>\n",
       "      <th>DateTime</th>\n",
       "      <th>Year</th>\n",
       "      <th>Found Location</th>\n",
       "      <th>Intake Type</th>\n",
       "      <th>Intake Condition</th>\n",
       "      <th>Animal Type</th>\n",
       "      <th>Sex upon Intake</th>\n",
       "      <th>Age upon Intake</th>\n",
       "      <th>Breed</th>\n",
       "      <th>Color</th>\n",
       "      <th>Type</th>\n",
       "    </tr>\n",
       "  </thead>\n",
       "  <tbody>\n",
       "    <tr>\n",
       "      <th>7</th>\n",
       "      <td>A844350</td>\n",
       "      <td>*Ella</td>\n",
       "      <td>2021-10-15 11:40:00</td>\n",
       "      <td>2021</td>\n",
       "      <td>2112 East William Cannon Drive in Austin (TX)</td>\n",
       "      <td>Stray</td>\n",
       "      <td>Normal</td>\n",
       "      <td>Cat</td>\n",
       "      <td>Intact Female</td>\n",
       "      <td>6 months</td>\n",
       "      <td>Domestic Shorthair</td>\n",
       "      <td>Brown Tabby</td>\n",
       "      <td>Stray Cat</td>\n",
       "    </tr>\n",
       "    <tr>\n",
       "      <th>9</th>\n",
       "      <td>A818975</td>\n",
       "      <td>NaN</td>\n",
       "      <td>2020-06-18 14:53:00</td>\n",
       "      <td>2020</td>\n",
       "      <td>Braker Lane And Metric in Travis (TX)</td>\n",
       "      <td>Stray</td>\n",
       "      <td>Normal</td>\n",
       "      <td>Cat</td>\n",
       "      <td>Intact Male</td>\n",
       "      <td>4 weeks</td>\n",
       "      <td>Domestic Shorthair</td>\n",
       "      <td>Cream Tabby</td>\n",
       "      <td>Stray Cat</td>\n",
       "    </tr>\n",
       "    <tr>\n",
       "      <th>22</th>\n",
       "      <td>A831808</td>\n",
       "      <td>NaN</td>\n",
       "      <td>2021-04-02 11:16:00</td>\n",
       "      <td>2021</td>\n",
       "      <td>Austin (TX)</td>\n",
       "      <td>Owner Surrender</td>\n",
       "      <td>Normal</td>\n",
       "      <td>Cat</td>\n",
       "      <td>Intact Female</td>\n",
       "      <td>1 month</td>\n",
       "      <td>Domestic Shorthair Mix</td>\n",
       "      <td>Tortie</td>\n",
       "      <td>Owner Surrender Cat</td>\n",
       "    </tr>\n",
       "    <tr>\n",
       "      <th>24</th>\n",
       "      <td>A836850</td>\n",
       "      <td>NaN</td>\n",
       "      <td>2021-06-15 12:37:00</td>\n",
       "      <td>2021</td>\n",
       "      <td>6111 Softwood Drive in Austin (TX)</td>\n",
       "      <td>Public Assist</td>\n",
       "      <td>Pregnant</td>\n",
       "      <td>Dog</td>\n",
       "      <td>Intact Female</td>\n",
       "      <td>4 years</td>\n",
       "      <td>Pit Bull</td>\n",
       "      <td>Blue/White</td>\n",
       "      <td>Public Assist Dog</td>\n",
       "    </tr>\n",
       "    <tr>\n",
       "      <th>26</th>\n",
       "      <td>A815227</td>\n",
       "      <td>Baby</td>\n",
       "      <td>2020-03-12 13:52:00</td>\n",
       "      <td>2020</td>\n",
       "      <td>12305 Zeller Lane in Austin (TX)</td>\n",
       "      <td>Stray</td>\n",
       "      <td>Normal</td>\n",
       "      <td>Dog</td>\n",
       "      <td>Intact Female</td>\n",
       "      <td>1 month</td>\n",
       "      <td>Norfolk Terrier</td>\n",
       "      <td>Brown/Cream</td>\n",
       "      <td>Stray Dog</td>\n",
       "    </tr>\n",
       "    <tr>\n",
       "      <th>...</th>\n",
       "      <td>...</td>\n",
       "      <td>...</td>\n",
       "      <td>...</td>\n",
       "      <td>...</td>\n",
       "      <td>...</td>\n",
       "      <td>...</td>\n",
       "      <td>...</td>\n",
       "      <td>...</td>\n",
       "      <td>...</td>\n",
       "      <td>...</td>\n",
       "      <td>...</td>\n",
       "      <td>...</td>\n",
       "      <td>...</td>\n",
       "    </tr>\n",
       "    <tr>\n",
       "      <th>136758</th>\n",
       "      <td>A852238</td>\n",
       "      <td>A852238</td>\n",
       "      <td>2022-02-28 14:02:00</td>\n",
       "      <td>2022</td>\n",
       "      <td>Cameron And Crosspark Drive in Austin (TX)</td>\n",
       "      <td>Stray</td>\n",
       "      <td>Normal</td>\n",
       "      <td>Dog</td>\n",
       "      <td>Intact Female</td>\n",
       "      <td>6 months</td>\n",
       "      <td>Labrador Retriever Mix</td>\n",
       "      <td>Black/White</td>\n",
       "      <td>Stray Dog</td>\n",
       "    </tr>\n",
       "    <tr>\n",
       "      <th>136759</th>\n",
       "      <td>A852221</td>\n",
       "      <td>Coco</td>\n",
       "      <td>2022-02-28 11:05:00</td>\n",
       "      <td>2022</td>\n",
       "      <td>45 And 183 in Travis (TX)</td>\n",
       "      <td>Stray</td>\n",
       "      <td>Normal</td>\n",
       "      <td>Dog</td>\n",
       "      <td>Intact Male</td>\n",
       "      <td>3 years</td>\n",
       "      <td>Great Pyrenees</td>\n",
       "      <td>White</td>\n",
       "      <td>Stray Dog</td>\n",
       "    </tr>\n",
       "    <tr>\n",
       "      <th>136760</th>\n",
       "      <td>A851977</td>\n",
       "      <td>*Jack</td>\n",
       "      <td>2022-02-22 13:34:00</td>\n",
       "      <td>2022</td>\n",
       "      <td>1200 Montopolis Drive in Austin (TX)</td>\n",
       "      <td>Stray</td>\n",
       "      <td>Normal</td>\n",
       "      <td>Dog</td>\n",
       "      <td>Intact Male</td>\n",
       "      <td>2 years</td>\n",
       "      <td>Chihuahua Shorthair/Dachshund</td>\n",
       "      <td>Black/White</td>\n",
       "      <td>Stray Dog</td>\n",
       "    </tr>\n",
       "    <tr>\n",
       "      <th>136761</th>\n",
       "      <td>A852127</td>\n",
       "      <td>Sonic</td>\n",
       "      <td>2022-02-25 13:05:00</td>\n",
       "      <td>2022</td>\n",
       "      <td>7601 Daffan Ln Unit 424 in Austin (TX)</td>\n",
       "      <td>Stray</td>\n",
       "      <td>Normal</td>\n",
       "      <td>Dog</td>\n",
       "      <td>Intact Male</td>\n",
       "      <td>2 years</td>\n",
       "      <td>Pit Bull Mix</td>\n",
       "      <td>White/Yellow</td>\n",
       "      <td>Stray Dog</td>\n",
       "    </tr>\n",
       "    <tr>\n",
       "      <th>136762</th>\n",
       "      <td>A852194</td>\n",
       "      <td>Queen</td>\n",
       "      <td>2022-02-27 13:44:00</td>\n",
       "      <td>2022</td>\n",
       "      <td>8071 N Lamar Blvd in Austin (TX)</td>\n",
       "      <td>Stray</td>\n",
       "      <td>Normal</td>\n",
       "      <td>Dog</td>\n",
       "      <td>Intact Female</td>\n",
       "      <td>4 months</td>\n",
       "      <td>Cane Corso</td>\n",
       "      <td>Blue Cream</td>\n",
       "      <td>Stray Dog</td>\n",
       "    </tr>\n",
       "  </tbody>\n",
       "</table>\n",
       "<p>23269 rows × 13 columns</p>\n",
       "</div>"
      ],
      "text/plain": [
       "       Animal ID     Name             DateTime  Year  \\\n",
       "7        A844350    *Ella  2021-10-15 11:40:00  2021   \n",
       "9        A818975      NaN  2020-06-18 14:53:00  2020   \n",
       "22       A831808      NaN  2021-04-02 11:16:00  2021   \n",
       "24       A836850      NaN  2021-06-15 12:37:00  2021   \n",
       "26       A815227     Baby  2020-03-12 13:52:00  2020   \n",
       "...          ...      ...                  ...   ...   \n",
       "136758   A852238  A852238  2022-02-28 14:02:00  2022   \n",
       "136759   A852221     Coco  2022-02-28 11:05:00  2022   \n",
       "136760   A851977    *Jack  2022-02-22 13:34:00  2022   \n",
       "136761   A852127    Sonic  2022-02-25 13:05:00  2022   \n",
       "136762   A852194    Queen  2022-02-27 13:44:00  2022   \n",
       "\n",
       "                                       Found Location      Intake Type  \\\n",
       "7       2112 East William Cannon Drive in Austin (TX)            Stray   \n",
       "9               Braker Lane And Metric in Travis (TX)            Stray   \n",
       "22                                        Austin (TX)  Owner Surrender   \n",
       "24                 6111 Softwood Drive in Austin (TX)    Public Assist   \n",
       "26                   12305 Zeller Lane in Austin (TX)            Stray   \n",
       "...                                               ...              ...   \n",
       "136758     Cameron And Crosspark Drive in Austin (TX)            Stray   \n",
       "136759                      45 And 183 in Travis (TX)            Stray   \n",
       "136760           1200 Montopolis Drive in Austin (TX)            Stray   \n",
       "136761         7601 Daffan Ln Unit 424 in Austin (TX)            Stray   \n",
       "136762               8071 N Lamar Blvd in Austin (TX)            Stray   \n",
       "\n",
       "       Intake Condition Animal Type Sex upon Intake Age upon Intake  \\\n",
       "7                Normal         Cat   Intact Female        6 months   \n",
       "9                Normal         Cat     Intact Male         4 weeks   \n",
       "22               Normal         Cat   Intact Female         1 month   \n",
       "24             Pregnant         Dog   Intact Female         4 years   \n",
       "26               Normal         Dog   Intact Female         1 month   \n",
       "...                 ...         ...             ...             ...   \n",
       "136758           Normal         Dog   Intact Female        6 months   \n",
       "136759           Normal         Dog     Intact Male         3 years   \n",
       "136760           Normal         Dog     Intact Male         2 years   \n",
       "136761           Normal         Dog     Intact Male         2 years   \n",
       "136762           Normal         Dog   Intact Female        4 months   \n",
       "\n",
       "                                Breed         Color                 Type  \n",
       "7                  Domestic Shorthair   Brown Tabby            Stray Cat  \n",
       "9                  Domestic Shorthair   Cream Tabby            Stray Cat  \n",
       "22             Domestic Shorthair Mix        Tortie  Owner Surrender Cat  \n",
       "24                           Pit Bull    Blue/White    Public Assist Dog  \n",
       "26                    Norfolk Terrier   Brown/Cream            Stray Dog  \n",
       "...                               ...           ...                  ...  \n",
       "136758         Labrador Retriever Mix   Black/White            Stray Dog  \n",
       "136759                 Great Pyrenees         White            Stray Dog  \n",
       "136760  Chihuahua Shorthair/Dachshund   Black/White            Stray Dog  \n",
       "136761                   Pit Bull Mix  White/Yellow            Stray Dog  \n",
       "136762                     Cane Corso    Blue Cream            Stray Dog  \n",
       "\n",
       "[23269 rows x 13 columns]"
      ]
     },
     "execution_count": 97,
     "metadata": {},
     "output_type": "execute_result"
    }
   ],
   "source": [
    "df[  filter2020      ]"
   ]
  },
  {
   "cell_type": "code",
   "execution_count": null,
   "metadata": {},
   "outputs": [],
   "source": []
  },
  {
   "cell_type": "code",
   "execution_count": null,
   "metadata": {},
   "outputs": [],
   "source": []
  },
  {
   "cell_type": "code",
   "execution_count": null,
   "metadata": {},
   "outputs": [],
   "source": []
  },
  {
   "cell_type": "markdown",
   "metadata": {},
   "source": [
    "## `.loc` "
   ]
  },
  {
   "cell_type": "markdown",
   "metadata": {},
   "source": [
    "We can locate and segment down to only rows where some condition is true using `.loc`. This takes in a condition, and only outputs the rows where that condition is True! \n",
    "\n",
    "> **Note:** locate (`.loc`) uses square brackets, not parentheses! Often, square brackets denote location-focused actions, like this one.\n",
    "\n",
    "Let's try this first with the condition we just built, and locate all animals taken in during or after 2020."
   ]
  },
  {
   "cell_type": "code",
   "execution_count": 98,
   "metadata": {
    "ExecuteTime": {
     "end_time": "2023-04-07T16:59:41.295751Z",
     "start_time": "2023-04-07T16:59:41.267752Z"
    }
   },
   "outputs": [],
   "source": [
    "# Create a subset dataframe of animals taken in during or after 2020\n",
    "post2020 = df.loc[ filter2020]"
   ]
  },
  {
   "cell_type": "code",
   "execution_count": 99,
   "metadata": {
    "ExecuteTime": {
     "end_time": "2023-04-07T16:59:47.728251Z",
     "start_time": "2023-04-07T16:59:47.711251Z"
    }
   },
   "outputs": [
    {
     "data": {
      "text/html": [
       "<div>\n",
       "<style scoped>\n",
       "    .dataframe tbody tr th:only-of-type {\n",
       "        vertical-align: middle;\n",
       "    }\n",
       "\n",
       "    .dataframe tbody tr th {\n",
       "        vertical-align: top;\n",
       "    }\n",
       "\n",
       "    .dataframe thead th {\n",
       "        text-align: right;\n",
       "    }\n",
       "</style>\n",
       "<table border=\"1\" class=\"dataframe\">\n",
       "  <thead>\n",
       "    <tr style=\"text-align: right;\">\n",
       "      <th></th>\n",
       "      <th>Animal ID</th>\n",
       "      <th>Name</th>\n",
       "      <th>DateTime</th>\n",
       "      <th>Year</th>\n",
       "      <th>Found Location</th>\n",
       "      <th>Intake Type</th>\n",
       "      <th>Intake Condition</th>\n",
       "      <th>Animal Type</th>\n",
       "      <th>Sex upon Intake</th>\n",
       "      <th>Age upon Intake</th>\n",
       "      <th>Breed</th>\n",
       "      <th>Color</th>\n",
       "      <th>Type</th>\n",
       "    </tr>\n",
       "  </thead>\n",
       "  <tbody>\n",
       "    <tr>\n",
       "      <th>7</th>\n",
       "      <td>A844350</td>\n",
       "      <td>*Ella</td>\n",
       "      <td>2021-10-15 11:40:00</td>\n",
       "      <td>2021</td>\n",
       "      <td>2112 East William Cannon Drive in Austin (TX)</td>\n",
       "      <td>Stray</td>\n",
       "      <td>Normal</td>\n",
       "      <td>Cat</td>\n",
       "      <td>Intact Female</td>\n",
       "      <td>6 months</td>\n",
       "      <td>Domestic Shorthair</td>\n",
       "      <td>Brown Tabby</td>\n",
       "      <td>Stray Cat</td>\n",
       "    </tr>\n",
       "    <tr>\n",
       "      <th>9</th>\n",
       "      <td>A818975</td>\n",
       "      <td>NaN</td>\n",
       "      <td>2020-06-18 14:53:00</td>\n",
       "      <td>2020</td>\n",
       "      <td>Braker Lane And Metric in Travis (TX)</td>\n",
       "      <td>Stray</td>\n",
       "      <td>Normal</td>\n",
       "      <td>Cat</td>\n",
       "      <td>Intact Male</td>\n",
       "      <td>4 weeks</td>\n",
       "      <td>Domestic Shorthair</td>\n",
       "      <td>Cream Tabby</td>\n",
       "      <td>Stray Cat</td>\n",
       "    </tr>\n",
       "    <tr>\n",
       "      <th>22</th>\n",
       "      <td>A831808</td>\n",
       "      <td>NaN</td>\n",
       "      <td>2021-04-02 11:16:00</td>\n",
       "      <td>2021</td>\n",
       "      <td>Austin (TX)</td>\n",
       "      <td>Owner Surrender</td>\n",
       "      <td>Normal</td>\n",
       "      <td>Cat</td>\n",
       "      <td>Intact Female</td>\n",
       "      <td>1 month</td>\n",
       "      <td>Domestic Shorthair Mix</td>\n",
       "      <td>Tortie</td>\n",
       "      <td>Owner Surrender Cat</td>\n",
       "    </tr>\n",
       "    <tr>\n",
       "      <th>24</th>\n",
       "      <td>A836850</td>\n",
       "      <td>NaN</td>\n",
       "      <td>2021-06-15 12:37:00</td>\n",
       "      <td>2021</td>\n",
       "      <td>6111 Softwood Drive in Austin (TX)</td>\n",
       "      <td>Public Assist</td>\n",
       "      <td>Pregnant</td>\n",
       "      <td>Dog</td>\n",
       "      <td>Intact Female</td>\n",
       "      <td>4 years</td>\n",
       "      <td>Pit Bull</td>\n",
       "      <td>Blue/White</td>\n",
       "      <td>Public Assist Dog</td>\n",
       "    </tr>\n",
       "    <tr>\n",
       "      <th>26</th>\n",
       "      <td>A815227</td>\n",
       "      <td>Baby</td>\n",
       "      <td>2020-03-12 13:52:00</td>\n",
       "      <td>2020</td>\n",
       "      <td>12305 Zeller Lane in Austin (TX)</td>\n",
       "      <td>Stray</td>\n",
       "      <td>Normal</td>\n",
       "      <td>Dog</td>\n",
       "      <td>Intact Female</td>\n",
       "      <td>1 month</td>\n",
       "      <td>Norfolk Terrier</td>\n",
       "      <td>Brown/Cream</td>\n",
       "      <td>Stray Dog</td>\n",
       "    </tr>\n",
       "  </tbody>\n",
       "</table>\n",
       "</div>"
      ],
      "text/plain": [
       "   Animal ID   Name             DateTime  Year  \\\n",
       "7    A844350  *Ella  2021-10-15 11:40:00  2021   \n",
       "9    A818975    NaN  2020-06-18 14:53:00  2020   \n",
       "22   A831808    NaN  2021-04-02 11:16:00  2021   \n",
       "24   A836850    NaN  2021-06-15 12:37:00  2021   \n",
       "26   A815227   Baby  2020-03-12 13:52:00  2020   \n",
       "\n",
       "                                   Found Location      Intake Type  \\\n",
       "7   2112 East William Cannon Drive in Austin (TX)            Stray   \n",
       "9           Braker Lane And Metric in Travis (TX)            Stray   \n",
       "22                                    Austin (TX)  Owner Surrender   \n",
       "24             6111 Softwood Drive in Austin (TX)    Public Assist   \n",
       "26               12305 Zeller Lane in Austin (TX)            Stray   \n",
       "\n",
       "   Intake Condition Animal Type Sex upon Intake Age upon Intake  \\\n",
       "7            Normal         Cat   Intact Female        6 months   \n",
       "9            Normal         Cat     Intact Male         4 weeks   \n",
       "22           Normal         Cat   Intact Female         1 month   \n",
       "24         Pregnant         Dog   Intact Female         4 years   \n",
       "26           Normal         Dog   Intact Female         1 month   \n",
       "\n",
       "                     Breed        Color                 Type  \n",
       "7       Domestic Shorthair  Brown Tabby            Stray Cat  \n",
       "9       Domestic Shorthair  Cream Tabby            Stray Cat  \n",
       "22  Domestic Shorthair Mix       Tortie  Owner Surrender Cat  \n",
       "24                Pit Bull   Blue/White    Public Assist Dog  \n",
       "26         Norfolk Terrier  Brown/Cream            Stray Dog  "
      ]
     },
     "execution_count": 99,
     "metadata": {},
     "output_type": "execute_result"
    }
   ],
   "source": [
    "# Sanity check\n",
    "post2020.head()"
   ]
  },
  {
   "cell_type": "markdown",
   "metadata": {},
   "source": [
    "We can return only certain columns when we do this, by adding an argument after the condition:"
   ]
  },
  {
   "cell_type": "code",
   "execution_count": 100,
   "metadata": {
    "ExecuteTime": {
     "end_time": "2023-04-07T17:00:35.065251Z",
     "start_time": "2023-04-07T17:00:35.029751Z"
    }
   },
   "outputs": [],
   "source": [
    "# Let's return just the 'Animal ID', 'DateTime' and 'Type' columns\n",
    "post2020 = df.loc[    filter2020,     ['Animal ID','DateTime','Type']     ]"
   ]
  },
  {
   "cell_type": "code",
   "execution_count": 101,
   "metadata": {
    "ExecuteTime": {
     "end_time": "2023-04-07T17:00:43.714251Z",
     "start_time": "2023-04-07T17:00:43.703752Z"
    }
   },
   "outputs": [
    {
     "data": {
      "text/html": [
       "<div>\n",
       "<style scoped>\n",
       "    .dataframe tbody tr th:only-of-type {\n",
       "        vertical-align: middle;\n",
       "    }\n",
       "\n",
       "    .dataframe tbody tr th {\n",
       "        vertical-align: top;\n",
       "    }\n",
       "\n",
       "    .dataframe thead th {\n",
       "        text-align: right;\n",
       "    }\n",
       "</style>\n",
       "<table border=\"1\" class=\"dataframe\">\n",
       "  <thead>\n",
       "    <tr style=\"text-align: right;\">\n",
       "      <th></th>\n",
       "      <th>Animal ID</th>\n",
       "      <th>DateTime</th>\n",
       "      <th>Type</th>\n",
       "    </tr>\n",
       "  </thead>\n",
       "  <tbody>\n",
       "    <tr>\n",
       "      <th>7</th>\n",
       "      <td>A844350</td>\n",
       "      <td>2021-10-15 11:40:00</td>\n",
       "      <td>Stray Cat</td>\n",
       "    </tr>\n",
       "    <tr>\n",
       "      <th>9</th>\n",
       "      <td>A818975</td>\n",
       "      <td>2020-06-18 14:53:00</td>\n",
       "      <td>Stray Cat</td>\n",
       "    </tr>\n",
       "    <tr>\n",
       "      <th>22</th>\n",
       "      <td>A831808</td>\n",
       "      <td>2021-04-02 11:16:00</td>\n",
       "      <td>Owner Surrender Cat</td>\n",
       "    </tr>\n",
       "    <tr>\n",
       "      <th>24</th>\n",
       "      <td>A836850</td>\n",
       "      <td>2021-06-15 12:37:00</td>\n",
       "      <td>Public Assist Dog</td>\n",
       "    </tr>\n",
       "    <tr>\n",
       "      <th>26</th>\n",
       "      <td>A815227</td>\n",
       "      <td>2020-03-12 13:52:00</td>\n",
       "      <td>Stray Dog</td>\n",
       "    </tr>\n",
       "  </tbody>\n",
       "</table>\n",
       "</div>"
      ],
      "text/plain": [
       "   Animal ID             DateTime                 Type\n",
       "7    A844350  2021-10-15 11:40:00            Stray Cat\n",
       "9    A818975  2020-06-18 14:53:00            Stray Cat\n",
       "22   A831808  2021-04-02 11:16:00  Owner Surrender Cat\n",
       "24   A836850  2021-06-15 12:37:00    Public Assist Dog\n",
       "26   A815227  2020-03-12 13:52:00            Stray Dog"
      ]
     },
     "execution_count": 101,
     "metadata": {},
     "output_type": "execute_result"
    }
   ],
   "source": [
    "post2020.head()"
   ]
  },
  {
   "cell_type": "markdown",
   "metadata": {},
   "source": [
    "What if I want to segment using multiple conditions? Use `&` for \"and\" and `|` for \"or\" - and use parentheses around individual conditions!"
   ]
  },
  {
   "cell_type": "code",
   "execution_count": null,
   "metadata": {},
   "outputs": [],
   "source": [
    "# Find all the Stray Cats taken in during or after 2020\n"
   ]
  },
  {
   "cell_type": "code",
   "execution_count": 102,
   "metadata": {
    "ExecuteTime": {
     "end_time": "2023-04-07T17:01:42.366251Z",
     "start_time": "2023-04-07T17:01:42.349751Z"
    }
   },
   "outputs": [],
   "source": [
    "catfilter = df['Type'] == 'Stray Cat'"
   ]
  },
  {
   "cell_type": "code",
   "execution_count": 104,
   "metadata": {
    "ExecuteTime": {
     "end_time": "2023-04-07T17:02:23.658252Z",
     "start_time": "2023-04-07T17:02:23.617251Z"
    }
   },
   "outputs": [
    {
     "data": {
      "text/html": [
       "<div>\n",
       "<style scoped>\n",
       "    .dataframe tbody tr th:only-of-type {\n",
       "        vertical-align: middle;\n",
       "    }\n",
       "\n",
       "    .dataframe tbody tr th {\n",
       "        vertical-align: top;\n",
       "    }\n",
       "\n",
       "    .dataframe thead th {\n",
       "        text-align: right;\n",
       "    }\n",
       "</style>\n",
       "<table border=\"1\" class=\"dataframe\">\n",
       "  <thead>\n",
       "    <tr style=\"text-align: right;\">\n",
       "      <th></th>\n",
       "      <th>Animal ID</th>\n",
       "      <th>Name</th>\n",
       "      <th>DateTime</th>\n",
       "      <th>Year</th>\n",
       "      <th>Found Location</th>\n",
       "      <th>Intake Type</th>\n",
       "      <th>Intake Condition</th>\n",
       "      <th>Animal Type</th>\n",
       "      <th>Sex upon Intake</th>\n",
       "      <th>Age upon Intake</th>\n",
       "      <th>Breed</th>\n",
       "      <th>Color</th>\n",
       "      <th>Type</th>\n",
       "    </tr>\n",
       "  </thead>\n",
       "  <tbody>\n",
       "    <tr>\n",
       "      <th>7</th>\n",
       "      <td>A844350</td>\n",
       "      <td>*Ella</td>\n",
       "      <td>2021-10-15 11:40:00</td>\n",
       "      <td>2021</td>\n",
       "      <td>2112 East William Cannon Drive in Austin (TX)</td>\n",
       "      <td>Stray</td>\n",
       "      <td>Normal</td>\n",
       "      <td>Cat</td>\n",
       "      <td>Intact Female</td>\n",
       "      <td>6 months</td>\n",
       "      <td>Domestic Shorthair</td>\n",
       "      <td>Brown Tabby</td>\n",
       "      <td>Stray Cat</td>\n",
       "    </tr>\n",
       "    <tr>\n",
       "      <th>9</th>\n",
       "      <td>A818975</td>\n",
       "      <td>NaN</td>\n",
       "      <td>2020-06-18 14:53:00</td>\n",
       "      <td>2020</td>\n",
       "      <td>Braker Lane And Metric in Travis (TX)</td>\n",
       "      <td>Stray</td>\n",
       "      <td>Normal</td>\n",
       "      <td>Cat</td>\n",
       "      <td>Intact Male</td>\n",
       "      <td>4 weeks</td>\n",
       "      <td>Domestic Shorthair</td>\n",
       "      <td>Cream Tabby</td>\n",
       "      <td>Stray Cat</td>\n",
       "    </tr>\n",
       "    <tr>\n",
       "      <th>44</th>\n",
       "      <td>A821389</td>\n",
       "      <td>*Dim Sum</td>\n",
       "      <td>2020-08-10 14:10:00</td>\n",
       "      <td>2020</td>\n",
       "      <td>7800 San Felipe Boulevard in Austin (TX)</td>\n",
       "      <td>Stray</td>\n",
       "      <td>Normal</td>\n",
       "      <td>Cat</td>\n",
       "      <td>Intact Male</td>\n",
       "      <td>4 weeks</td>\n",
       "      <td>Domestic Shorthair</td>\n",
       "      <td>Brown Tabby</td>\n",
       "      <td>Stray Cat</td>\n",
       "    </tr>\n",
       "    <tr>\n",
       "      <th>123</th>\n",
       "      <td>A816185</td>\n",
       "      <td>NaN</td>\n",
       "      <td>2020-04-09 07:49:00</td>\n",
       "      <td>2020</td>\n",
       "      <td>1830 W Rundberg in Austin (TX)</td>\n",
       "      <td>Stray</td>\n",
       "      <td>Normal</td>\n",
       "      <td>Cat</td>\n",
       "      <td>Intact Male</td>\n",
       "      <td>1 week</td>\n",
       "      <td>Domestic Shorthair</td>\n",
       "      <td>Gray Tabby</td>\n",
       "      <td>Stray Cat</td>\n",
       "    </tr>\n",
       "    <tr>\n",
       "      <th>128</th>\n",
       "      <td>A834412</td>\n",
       "      <td>Montie</td>\n",
       "      <td>2021-05-13 13:58:00</td>\n",
       "      <td>2021</td>\n",
       "      <td>1601 East Slaughter Lane in Austin (TX)</td>\n",
       "      <td>Stray</td>\n",
       "      <td>Sick</td>\n",
       "      <td>Cat</td>\n",
       "      <td>Neutered Male</td>\n",
       "      <td>5 years</td>\n",
       "      <td>Domestic Shorthair</td>\n",
       "      <td>Brown Tabby</td>\n",
       "      <td>Stray Cat</td>\n",
       "    </tr>\n",
       "    <tr>\n",
       "      <th>...</th>\n",
       "      <td>...</td>\n",
       "      <td>...</td>\n",
       "      <td>...</td>\n",
       "      <td>...</td>\n",
       "      <td>...</td>\n",
       "      <td>...</td>\n",
       "      <td>...</td>\n",
       "      <td>...</td>\n",
       "      <td>...</td>\n",
       "      <td>...</td>\n",
       "      <td>...</td>\n",
       "      <td>...</td>\n",
       "      <td>...</td>\n",
       "    </tr>\n",
       "    <tr>\n",
       "      <th>136734</th>\n",
       "      <td>A852021</td>\n",
       "      <td>*Luna</td>\n",
       "      <td>2022-02-23 11:57:00</td>\n",
       "      <td>2022</td>\n",
       "      <td>Austin (TX)</td>\n",
       "      <td>Stray</td>\n",
       "      <td>Normal</td>\n",
       "      <td>Cat</td>\n",
       "      <td>Intact Female</td>\n",
       "      <td>3 months</td>\n",
       "      <td>Domestic Shorthair Mix</td>\n",
       "      <td>Brown Tabby</td>\n",
       "      <td>Stray Cat</td>\n",
       "    </tr>\n",
       "    <tr>\n",
       "      <th>136746</th>\n",
       "      <td>A850166</td>\n",
       "      <td>Rainey</td>\n",
       "      <td>2022-01-19 12:39:00</td>\n",
       "      <td>2022</td>\n",
       "      <td>South First in Austin (TX)</td>\n",
       "      <td>Stray</td>\n",
       "      <td>Normal</td>\n",
       "      <td>Cat</td>\n",
       "      <td>Intact Male</td>\n",
       "      <td>1 month</td>\n",
       "      <td>Siamese</td>\n",
       "      <td>Seal Point</td>\n",
       "      <td>Stray Cat</td>\n",
       "    </tr>\n",
       "    <tr>\n",
       "      <th>136750</th>\n",
       "      <td>A852230</td>\n",
       "      <td>NaN</td>\n",
       "      <td>2022-02-28 12:15:00</td>\n",
       "      <td>2022</td>\n",
       "      <td>Austin (TX)</td>\n",
       "      <td>Stray</td>\n",
       "      <td>Normal</td>\n",
       "      <td>Cat</td>\n",
       "      <td>Unknown</td>\n",
       "      <td>5 months</td>\n",
       "      <td>Domestic Shorthair</td>\n",
       "      <td>Brown Tabby</td>\n",
       "      <td>Stray Cat</td>\n",
       "    </tr>\n",
       "    <tr>\n",
       "      <th>136754</th>\n",
       "      <td>A852234</td>\n",
       "      <td>NaN</td>\n",
       "      <td>2022-02-28 12:33:00</td>\n",
       "      <td>2022</td>\n",
       "      <td>305 E Lola Lane in Austin (TX)</td>\n",
       "      <td>Stray</td>\n",
       "      <td>Injured</td>\n",
       "      <td>Cat</td>\n",
       "      <td>Intact Female</td>\n",
       "      <td>2 years</td>\n",
       "      <td>Domestic Shorthair</td>\n",
       "      <td>Calico</td>\n",
       "      <td>Stray Cat</td>\n",
       "    </tr>\n",
       "    <tr>\n",
       "      <th>136757</th>\n",
       "      <td>A852216</td>\n",
       "      <td>NaN</td>\n",
       "      <td>2022-02-28 10:50:00</td>\n",
       "      <td>2022</td>\n",
       "      <td>Outside Jurisdiction</td>\n",
       "      <td>Stray</td>\n",
       "      <td>Normal</td>\n",
       "      <td>Cat</td>\n",
       "      <td>Intact Female</td>\n",
       "      <td>6 months</td>\n",
       "      <td>Domestic Shorthair</td>\n",
       "      <td>Black/White</td>\n",
       "      <td>Stray Cat</td>\n",
       "    </tr>\n",
       "  </tbody>\n",
       "</table>\n",
       "<p>6204 rows × 13 columns</p>\n",
       "</div>"
      ],
      "text/plain": [
       "       Animal ID      Name             DateTime  Year  \\\n",
       "7        A844350     *Ella  2021-10-15 11:40:00  2021   \n",
       "9        A818975       NaN  2020-06-18 14:53:00  2020   \n",
       "44       A821389  *Dim Sum  2020-08-10 14:10:00  2020   \n",
       "123      A816185       NaN  2020-04-09 07:49:00  2020   \n",
       "128      A834412    Montie  2021-05-13 13:58:00  2021   \n",
       "...          ...       ...                  ...   ...   \n",
       "136734   A852021     *Luna  2022-02-23 11:57:00  2022   \n",
       "136746   A850166    Rainey  2022-01-19 12:39:00  2022   \n",
       "136750   A852230       NaN  2022-02-28 12:15:00  2022   \n",
       "136754   A852234       NaN  2022-02-28 12:33:00  2022   \n",
       "136757   A852216       NaN  2022-02-28 10:50:00  2022   \n",
       "\n",
       "                                       Found Location Intake Type  \\\n",
       "7       2112 East William Cannon Drive in Austin (TX)       Stray   \n",
       "9               Braker Lane And Metric in Travis (TX)       Stray   \n",
       "44           7800 San Felipe Boulevard in Austin (TX)       Stray   \n",
       "123                    1830 W Rundberg in Austin (TX)       Stray   \n",
       "128           1601 East Slaughter Lane in Austin (TX)       Stray   \n",
       "...                                               ...         ...   \n",
       "136734                                    Austin (TX)       Stray   \n",
       "136746                     South First in Austin (TX)       Stray   \n",
       "136750                                    Austin (TX)       Stray   \n",
       "136754                 305 E Lola Lane in Austin (TX)       Stray   \n",
       "136757                           Outside Jurisdiction       Stray   \n",
       "\n",
       "       Intake Condition Animal Type Sex upon Intake Age upon Intake  \\\n",
       "7                Normal         Cat   Intact Female        6 months   \n",
       "9                Normal         Cat     Intact Male         4 weeks   \n",
       "44               Normal         Cat     Intact Male         4 weeks   \n",
       "123              Normal         Cat     Intact Male          1 week   \n",
       "128                Sick         Cat   Neutered Male         5 years   \n",
       "...                 ...         ...             ...             ...   \n",
       "136734           Normal         Cat   Intact Female        3 months   \n",
       "136746           Normal         Cat     Intact Male         1 month   \n",
       "136750           Normal         Cat         Unknown        5 months   \n",
       "136754          Injured         Cat   Intact Female         2 years   \n",
       "136757           Normal         Cat   Intact Female        6 months   \n",
       "\n",
       "                         Breed        Color       Type  \n",
       "7           Domestic Shorthair  Brown Tabby  Stray Cat  \n",
       "9           Domestic Shorthair  Cream Tabby  Stray Cat  \n",
       "44          Domestic Shorthair  Brown Tabby  Stray Cat  \n",
       "123         Domestic Shorthair   Gray Tabby  Stray Cat  \n",
       "128         Domestic Shorthair  Brown Tabby  Stray Cat  \n",
       "...                        ...          ...        ...  \n",
       "136734  Domestic Shorthair Mix  Brown Tabby  Stray Cat  \n",
       "136746                 Siamese   Seal Point  Stray Cat  \n",
       "136750      Domestic Shorthair  Brown Tabby  Stray Cat  \n",
       "136754      Domestic Shorthair       Calico  Stray Cat  \n",
       "136757      Domestic Shorthair  Black/White  Stray Cat  \n",
       "\n",
       "[6204 rows x 13 columns]"
      ]
     },
     "execution_count": 104,
     "metadata": {},
     "output_type": "execute_result"
    }
   ],
   "source": [
    "df.loc[catfilter & filter2020]"
   ]
  },
  {
   "cell_type": "code",
   "execution_count": 106,
   "metadata": {
    "ExecuteTime": {
     "end_time": "2023-04-07T17:04:29.626751Z",
     "start_time": "2023-04-07T17:04:29.593752Z"
    }
   },
   "outputs": [
    {
     "data": {
      "text/html": [
       "<div>\n",
       "<style scoped>\n",
       "    .dataframe tbody tr th:only-of-type {\n",
       "        vertical-align: middle;\n",
       "    }\n",
       "\n",
       "    .dataframe tbody tr th {\n",
       "        vertical-align: top;\n",
       "    }\n",
       "\n",
       "    .dataframe thead th {\n",
       "        text-align: right;\n",
       "    }\n",
       "</style>\n",
       "<table border=\"1\" class=\"dataframe\">\n",
       "  <thead>\n",
       "    <tr style=\"text-align: right;\">\n",
       "      <th></th>\n",
       "      <th>Animal ID</th>\n",
       "      <th>Name</th>\n",
       "      <th>DateTime</th>\n",
       "      <th>Year</th>\n",
       "      <th>Found Location</th>\n",
       "      <th>Intake Type</th>\n",
       "      <th>Intake Condition</th>\n",
       "      <th>Animal Type</th>\n",
       "      <th>Sex upon Intake</th>\n",
       "      <th>Age upon Intake</th>\n",
       "      <th>Breed</th>\n",
       "      <th>Color</th>\n",
       "      <th>Type</th>\n",
       "    </tr>\n",
       "  </thead>\n",
       "  <tbody>\n",
       "    <tr>\n",
       "      <th>7</th>\n",
       "      <td>A844350</td>\n",
       "      <td>*Ella</td>\n",
       "      <td>2021-10-15 11:40:00</td>\n",
       "      <td>2021</td>\n",
       "      <td>2112 East William Cannon Drive in Austin (TX)</td>\n",
       "      <td>Stray</td>\n",
       "      <td>Normal</td>\n",
       "      <td>Cat</td>\n",
       "      <td>Intact Female</td>\n",
       "      <td>6 months</td>\n",
       "      <td>Domestic Shorthair</td>\n",
       "      <td>Brown Tabby</td>\n",
       "      <td>Stray Cat</td>\n",
       "    </tr>\n",
       "    <tr>\n",
       "      <th>9</th>\n",
       "      <td>A818975</td>\n",
       "      <td>NaN</td>\n",
       "      <td>2020-06-18 14:53:00</td>\n",
       "      <td>2020</td>\n",
       "      <td>Braker Lane And Metric in Travis (TX)</td>\n",
       "      <td>Stray</td>\n",
       "      <td>Normal</td>\n",
       "      <td>Cat</td>\n",
       "      <td>Intact Male</td>\n",
       "      <td>4 weeks</td>\n",
       "      <td>Domestic Shorthair</td>\n",
       "      <td>Cream Tabby</td>\n",
       "      <td>Stray Cat</td>\n",
       "    </tr>\n",
       "    <tr>\n",
       "      <th>44</th>\n",
       "      <td>A821389</td>\n",
       "      <td>*Dim Sum</td>\n",
       "      <td>2020-08-10 14:10:00</td>\n",
       "      <td>2020</td>\n",
       "      <td>7800 San Felipe Boulevard in Austin (TX)</td>\n",
       "      <td>Stray</td>\n",
       "      <td>Normal</td>\n",
       "      <td>Cat</td>\n",
       "      <td>Intact Male</td>\n",
       "      <td>4 weeks</td>\n",
       "      <td>Domestic Shorthair</td>\n",
       "      <td>Brown Tabby</td>\n",
       "      <td>Stray Cat</td>\n",
       "    </tr>\n",
       "    <tr>\n",
       "      <th>123</th>\n",
       "      <td>A816185</td>\n",
       "      <td>NaN</td>\n",
       "      <td>2020-04-09 07:49:00</td>\n",
       "      <td>2020</td>\n",
       "      <td>1830 W Rundberg in Austin (TX)</td>\n",
       "      <td>Stray</td>\n",
       "      <td>Normal</td>\n",
       "      <td>Cat</td>\n",
       "      <td>Intact Male</td>\n",
       "      <td>1 week</td>\n",
       "      <td>Domestic Shorthair</td>\n",
       "      <td>Gray Tabby</td>\n",
       "      <td>Stray Cat</td>\n",
       "    </tr>\n",
       "    <tr>\n",
       "      <th>128</th>\n",
       "      <td>A834412</td>\n",
       "      <td>Montie</td>\n",
       "      <td>2021-05-13 13:58:00</td>\n",
       "      <td>2021</td>\n",
       "      <td>1601 East Slaughter Lane in Austin (TX)</td>\n",
       "      <td>Stray</td>\n",
       "      <td>Sick</td>\n",
       "      <td>Cat</td>\n",
       "      <td>Neutered Male</td>\n",
       "      <td>5 years</td>\n",
       "      <td>Domestic Shorthair</td>\n",
       "      <td>Brown Tabby</td>\n",
       "      <td>Stray Cat</td>\n",
       "    </tr>\n",
       "    <tr>\n",
       "      <th>...</th>\n",
       "      <td>...</td>\n",
       "      <td>...</td>\n",
       "      <td>...</td>\n",
       "      <td>...</td>\n",
       "      <td>...</td>\n",
       "      <td>...</td>\n",
       "      <td>...</td>\n",
       "      <td>...</td>\n",
       "      <td>...</td>\n",
       "      <td>...</td>\n",
       "      <td>...</td>\n",
       "      <td>...</td>\n",
       "      <td>...</td>\n",
       "    </tr>\n",
       "    <tr>\n",
       "      <th>136734</th>\n",
       "      <td>A852021</td>\n",
       "      <td>*Luna</td>\n",
       "      <td>2022-02-23 11:57:00</td>\n",
       "      <td>2022</td>\n",
       "      <td>Austin (TX)</td>\n",
       "      <td>Stray</td>\n",
       "      <td>Normal</td>\n",
       "      <td>Cat</td>\n",
       "      <td>Intact Female</td>\n",
       "      <td>3 months</td>\n",
       "      <td>Domestic Shorthair Mix</td>\n",
       "      <td>Brown Tabby</td>\n",
       "      <td>Stray Cat</td>\n",
       "    </tr>\n",
       "    <tr>\n",
       "      <th>136746</th>\n",
       "      <td>A850166</td>\n",
       "      <td>Rainey</td>\n",
       "      <td>2022-01-19 12:39:00</td>\n",
       "      <td>2022</td>\n",
       "      <td>South First in Austin (TX)</td>\n",
       "      <td>Stray</td>\n",
       "      <td>Normal</td>\n",
       "      <td>Cat</td>\n",
       "      <td>Intact Male</td>\n",
       "      <td>1 month</td>\n",
       "      <td>Siamese</td>\n",
       "      <td>Seal Point</td>\n",
       "      <td>Stray Cat</td>\n",
       "    </tr>\n",
       "    <tr>\n",
       "      <th>136750</th>\n",
       "      <td>A852230</td>\n",
       "      <td>NaN</td>\n",
       "      <td>2022-02-28 12:15:00</td>\n",
       "      <td>2022</td>\n",
       "      <td>Austin (TX)</td>\n",
       "      <td>Stray</td>\n",
       "      <td>Normal</td>\n",
       "      <td>Cat</td>\n",
       "      <td>Unknown</td>\n",
       "      <td>5 months</td>\n",
       "      <td>Domestic Shorthair</td>\n",
       "      <td>Brown Tabby</td>\n",
       "      <td>Stray Cat</td>\n",
       "    </tr>\n",
       "    <tr>\n",
       "      <th>136754</th>\n",
       "      <td>A852234</td>\n",
       "      <td>NaN</td>\n",
       "      <td>2022-02-28 12:33:00</td>\n",
       "      <td>2022</td>\n",
       "      <td>305 E Lola Lane in Austin (TX)</td>\n",
       "      <td>Stray</td>\n",
       "      <td>Injured</td>\n",
       "      <td>Cat</td>\n",
       "      <td>Intact Female</td>\n",
       "      <td>2 years</td>\n",
       "      <td>Domestic Shorthair</td>\n",
       "      <td>Calico</td>\n",
       "      <td>Stray Cat</td>\n",
       "    </tr>\n",
       "    <tr>\n",
       "      <th>136757</th>\n",
       "      <td>A852216</td>\n",
       "      <td>NaN</td>\n",
       "      <td>2022-02-28 10:50:00</td>\n",
       "      <td>2022</td>\n",
       "      <td>Outside Jurisdiction</td>\n",
       "      <td>Stray</td>\n",
       "      <td>Normal</td>\n",
       "      <td>Cat</td>\n",
       "      <td>Intact Female</td>\n",
       "      <td>6 months</td>\n",
       "      <td>Domestic Shorthair</td>\n",
       "      <td>Black/White</td>\n",
       "      <td>Stray Cat</td>\n",
       "    </tr>\n",
       "  </tbody>\n",
       "</table>\n",
       "<p>6204 rows × 13 columns</p>\n",
       "</div>"
      ],
      "text/plain": [
       "       Animal ID      Name             DateTime  Year  \\\n",
       "7        A844350     *Ella  2021-10-15 11:40:00  2021   \n",
       "9        A818975       NaN  2020-06-18 14:53:00  2020   \n",
       "44       A821389  *Dim Sum  2020-08-10 14:10:00  2020   \n",
       "123      A816185       NaN  2020-04-09 07:49:00  2020   \n",
       "128      A834412    Montie  2021-05-13 13:58:00  2021   \n",
       "...          ...       ...                  ...   ...   \n",
       "136734   A852021     *Luna  2022-02-23 11:57:00  2022   \n",
       "136746   A850166    Rainey  2022-01-19 12:39:00  2022   \n",
       "136750   A852230       NaN  2022-02-28 12:15:00  2022   \n",
       "136754   A852234       NaN  2022-02-28 12:33:00  2022   \n",
       "136757   A852216       NaN  2022-02-28 10:50:00  2022   \n",
       "\n",
       "                                       Found Location Intake Type  \\\n",
       "7       2112 East William Cannon Drive in Austin (TX)       Stray   \n",
       "9               Braker Lane And Metric in Travis (TX)       Stray   \n",
       "44           7800 San Felipe Boulevard in Austin (TX)       Stray   \n",
       "123                    1830 W Rundberg in Austin (TX)       Stray   \n",
       "128           1601 East Slaughter Lane in Austin (TX)       Stray   \n",
       "...                                               ...         ...   \n",
       "136734                                    Austin (TX)       Stray   \n",
       "136746                     South First in Austin (TX)       Stray   \n",
       "136750                                    Austin (TX)       Stray   \n",
       "136754                 305 E Lola Lane in Austin (TX)       Stray   \n",
       "136757                           Outside Jurisdiction       Stray   \n",
       "\n",
       "       Intake Condition Animal Type Sex upon Intake Age upon Intake  \\\n",
       "7                Normal         Cat   Intact Female        6 months   \n",
       "9                Normal         Cat     Intact Male         4 weeks   \n",
       "44               Normal         Cat     Intact Male         4 weeks   \n",
       "123              Normal         Cat     Intact Male          1 week   \n",
       "128                Sick         Cat   Neutered Male         5 years   \n",
       "...                 ...         ...             ...             ...   \n",
       "136734           Normal         Cat   Intact Female        3 months   \n",
       "136746           Normal         Cat     Intact Male         1 month   \n",
       "136750           Normal         Cat         Unknown        5 months   \n",
       "136754          Injured         Cat   Intact Female         2 years   \n",
       "136757           Normal         Cat   Intact Female        6 months   \n",
       "\n",
       "                         Breed        Color       Type  \n",
       "7           Domestic Shorthair  Brown Tabby  Stray Cat  \n",
       "9           Domestic Shorthair  Cream Tabby  Stray Cat  \n",
       "44          Domestic Shorthair  Brown Tabby  Stray Cat  \n",
       "123         Domestic Shorthair   Gray Tabby  Stray Cat  \n",
       "128         Domestic Shorthair  Brown Tabby  Stray Cat  \n",
       "...                        ...          ...        ...  \n",
       "136734  Domestic Shorthair Mix  Brown Tabby  Stray Cat  \n",
       "136746                 Siamese   Seal Point  Stray Cat  \n",
       "136750      Domestic Shorthair  Brown Tabby  Stray Cat  \n",
       "136754      Domestic Shorthair       Calico  Stray Cat  \n",
       "136757      Domestic Shorthair  Black/White  Stray Cat  \n",
       "\n",
       "[6204 rows x 13 columns]"
      ]
     },
     "execution_count": 106,
     "metadata": {},
     "output_type": "execute_result"
    }
   ],
   "source": [
    "df.loc[ (df['Type'] == 'Stray Cat') & (df['Year'] >=2020)  ]"
   ]
  },
  {
   "cell_type": "code",
   "execution_count": null,
   "metadata": {},
   "outputs": [],
   "source": []
  },
  {
   "cell_type": "code",
   "execution_count": null,
   "metadata": {},
   "outputs": [],
   "source": []
  },
  {
   "cell_type": "markdown",
   "metadata": {
    "heading_collapsed": true
   },
   "source": [
    "### Your turn!"
   ]
  },
  {
   "cell_type": "markdown",
   "metadata": {
    "heading_collapsed": true,
    "hidden": true
   },
   "source": [
    "#### Exercise 1\n",
    "\n",
    "You need to find dogs that need extra attention - How would you find all dogs where the intake condition is NOT normal?"
   ]
  },
  {
   "cell_type": "code",
   "execution_count": null,
   "metadata": {
    "hidden": true
   },
   "outputs": [],
   "source": [
    "# Your code here"
   ]
  },
  {
   "cell_type": "markdown",
   "metadata": {
    "heading_collapsed": true,
    "hidden": true
   },
   "source": [
    "#### Exercise 2\n",
    "\n",
    "You need to find animals that might need to be fixed - How would you find all animals that are either Intact Male or Intact Female?"
   ]
  },
  {
   "cell_type": "code",
   "execution_count": null,
   "metadata": {
    "hidden": true
   },
   "outputs": [],
   "source": [
    "# Your code here"
   ]
  },
  {
   "cell_type": "markdown",
   "metadata": {},
   "source": [
    "## `.iloc`"
   ]
  },
  {
   "cell_type": "markdown",
   "metadata": {},
   "source": [
    "`.iloc` is used for integer-location based indexing, aka locate by number. It can take in lists of numbers, python slices, or specific numbers - but sometimes it can be a bit tricky!"
   ]
  },
  {
   "cell_type": "code",
   "execution_count": 107,
   "metadata": {
    "ExecuteTime": {
     "end_time": "2023-04-07T17:05:52.350251Z",
     "start_time": "2023-04-07T17:05:52.339250Z"
    }
   },
   "outputs": [
    {
     "data": {
      "text/plain": [
       "RangeIndex(start=0, stop=136763, step=1)"
      ]
     },
     "execution_count": 107,
     "metadata": {},
     "output_type": "execute_result"
    }
   ],
   "source": [
    "df.index"
   ]
  },
  {
   "cell_type": "code",
   "execution_count": 108,
   "metadata": {
    "ExecuteTime": {
     "end_time": "2023-04-07T17:06:08.144751Z",
     "start_time": "2023-04-07T17:06:08.128253Z"
    }
   },
   "outputs": [
    {
     "data": {
      "text/html": [
       "<div>\n",
       "<style scoped>\n",
       "    .dataframe tbody tr th:only-of-type {\n",
       "        vertical-align: middle;\n",
       "    }\n",
       "\n",
       "    .dataframe tbody tr th {\n",
       "        vertical-align: top;\n",
       "    }\n",
       "\n",
       "    .dataframe thead th {\n",
       "        text-align: right;\n",
       "    }\n",
       "</style>\n",
       "<table border=\"1\" class=\"dataframe\">\n",
       "  <thead>\n",
       "    <tr style=\"text-align: right;\">\n",
       "      <th></th>\n",
       "      <th>Animal ID</th>\n",
       "      <th>Name</th>\n",
       "      <th>DateTime</th>\n",
       "      <th>Year</th>\n",
       "      <th>Found Location</th>\n",
       "      <th>Intake Type</th>\n",
       "      <th>Intake Condition</th>\n",
       "      <th>Animal Type</th>\n",
       "      <th>Sex upon Intake</th>\n",
       "      <th>Age upon Intake</th>\n",
       "      <th>Breed</th>\n",
       "      <th>Color</th>\n",
       "      <th>Type</th>\n",
       "    </tr>\n",
       "  </thead>\n",
       "  <tbody>\n",
       "    <tr>\n",
       "      <th>0</th>\n",
       "      <td>A786884</td>\n",
       "      <td>*Brock</td>\n",
       "      <td>2019-01-03 16:19:00</td>\n",
       "      <td>2019</td>\n",
       "      <td>2501 Magin Meadow Dr in Austin (TX)</td>\n",
       "      <td>Stray</td>\n",
       "      <td>Normal</td>\n",
       "      <td>Dog</td>\n",
       "      <td>Neutered Male</td>\n",
       "      <td>2 years</td>\n",
       "      <td>Beagle Mix</td>\n",
       "      <td>Tricolor</td>\n",
       "      <td>Stray Dog</td>\n",
       "    </tr>\n",
       "    <tr>\n",
       "      <th>1</th>\n",
       "      <td>A706918</td>\n",
       "      <td>Belle</td>\n",
       "      <td>2015-07-05 12:59:00</td>\n",
       "      <td>2015</td>\n",
       "      <td>9409 Bluegrass Dr in Austin (TX)</td>\n",
       "      <td>Stray</td>\n",
       "      <td>Normal</td>\n",
       "      <td>Dog</td>\n",
       "      <td>Spayed Female</td>\n",
       "      <td>8 years</td>\n",
       "      <td>English Springer Spaniel</td>\n",
       "      <td>White/Liver</td>\n",
       "      <td>Stray Dog</td>\n",
       "    </tr>\n",
       "    <tr>\n",
       "      <th>2</th>\n",
       "      <td>A724273</td>\n",
       "      <td>Runster</td>\n",
       "      <td>2016-04-14 18:43:00</td>\n",
       "      <td>2016</td>\n",
       "      <td>2818 Palomino Trail in Austin (TX)</td>\n",
       "      <td>Stray</td>\n",
       "      <td>Normal</td>\n",
       "      <td>Dog</td>\n",
       "      <td>Intact Male</td>\n",
       "      <td>11 months</td>\n",
       "      <td>Basenji Mix</td>\n",
       "      <td>Sable/White</td>\n",
       "      <td>Stray Dog</td>\n",
       "    </tr>\n",
       "  </tbody>\n",
       "</table>\n",
       "</div>"
      ],
      "text/plain": [
       "  Animal ID     Name             DateTime  Year  \\\n",
       "0   A786884   *Brock  2019-01-03 16:19:00  2019   \n",
       "1   A706918    Belle  2015-07-05 12:59:00  2015   \n",
       "2   A724273  Runster  2016-04-14 18:43:00  2016   \n",
       "\n",
       "                        Found Location Intake Type Intake Condition  \\\n",
       "0  2501 Magin Meadow Dr in Austin (TX)       Stray           Normal   \n",
       "1     9409 Bluegrass Dr in Austin (TX)       Stray           Normal   \n",
       "2   2818 Palomino Trail in Austin (TX)       Stray           Normal   \n",
       "\n",
       "  Animal Type Sex upon Intake Age upon Intake                     Breed  \\\n",
       "0         Dog   Neutered Male         2 years                Beagle Mix   \n",
       "1         Dog   Spayed Female         8 years  English Springer Spaniel   \n",
       "2         Dog     Intact Male       11 months               Basenji Mix   \n",
       "\n",
       "         Color       Type  \n",
       "0     Tricolor  Stray Dog  \n",
       "1  White/Liver  Stray Dog  \n",
       "2  Sable/White  Stray Dog  "
      ]
     },
     "execution_count": 108,
     "metadata": {},
     "output_type": "execute_result"
    }
   ],
   "source": [
    "# Find the first 3 rows\n",
    "df.iloc[:3]"
   ]
  },
  {
   "cell_type": "code",
   "execution_count": null,
   "metadata": {},
   "outputs": [],
   "source": [
    "# Same as using head(3)\n"
   ]
  },
  {
   "cell_type": "code",
   "execution_count": 109,
   "metadata": {
    "ExecuteTime": {
     "end_time": "2023-04-07T17:06:18.545251Z",
     "start_time": "2023-04-07T17:06:18.527751Z"
    }
   },
   "outputs": [
    {
     "data": {
      "text/plain": [
       "Animal ID                                       A786884\n",
       "Name                                             *Brock\n",
       "DateTime                            2019-01-03 16:19:00\n",
       "Year                                               2019\n",
       "Found Location      2501 Magin Meadow Dr in Austin (TX)\n",
       "Intake Type                                       Stray\n",
       "Intake Condition                                 Normal\n",
       "Animal Type                                         Dog\n",
       "Sex upon Intake                           Neutered Male\n",
       "Age upon Intake                                 2 years\n",
       "Breed                                        Beagle Mix\n",
       "Color                                          Tricolor\n",
       "Type                                          Stray Dog\n",
       "Name: 0, dtype: object"
      ]
     },
     "execution_count": 109,
     "metadata": {},
     "output_type": "execute_result"
    }
   ],
   "source": [
    "# Can look exactly where the 0 index is\n",
    "df.iloc[0]"
   ]
  },
  {
   "cell_type": "code",
   "execution_count": 113,
   "metadata": {
    "ExecuteTime": {
     "end_time": "2023-04-07T17:07:12.330251Z",
     "start_time": "2023-04-07T17:07:12.309751Z"
    }
   },
   "outputs": [
    {
     "data": {
      "text/html": [
       "<div>\n",
       "<style scoped>\n",
       "    .dataframe tbody tr th:only-of-type {\n",
       "        vertical-align: middle;\n",
       "    }\n",
       "\n",
       "    .dataframe tbody tr th {\n",
       "        vertical-align: top;\n",
       "    }\n",
       "\n",
       "    .dataframe thead th {\n",
       "        text-align: right;\n",
       "    }\n",
       "</style>\n",
       "<table border=\"1\" class=\"dataframe\">\n",
       "  <thead>\n",
       "    <tr style=\"text-align: right;\">\n",
       "      <th></th>\n",
       "      <th>Animal ID</th>\n",
       "      <th>Name</th>\n",
       "      <th>DateTime</th>\n",
       "      <th>Year</th>\n",
       "      <th>Found Location</th>\n",
       "      <th>Intake Type</th>\n",
       "      <th>Intake Condition</th>\n",
       "      <th>Animal Type</th>\n",
       "      <th>Sex upon Intake</th>\n",
       "      <th>Age upon Intake</th>\n",
       "      <th>Breed</th>\n",
       "      <th>Color</th>\n",
       "      <th>Type</th>\n",
       "    </tr>\n",
       "  </thead>\n",
       "  <tbody>\n",
       "    <tr>\n",
       "      <th>0</th>\n",
       "      <td>A786884</td>\n",
       "      <td>*Brock</td>\n",
       "      <td>2019-01-03 16:19:00</td>\n",
       "      <td>2019</td>\n",
       "      <td>2501 Magin Meadow Dr in Austin (TX)</td>\n",
       "      <td>Stray</td>\n",
       "      <td>Normal</td>\n",
       "      <td>Dog</td>\n",
       "      <td>Neutered Male</td>\n",
       "      <td>2 years</td>\n",
       "      <td>Beagle Mix</td>\n",
       "      <td>Tricolor</td>\n",
       "      <td>Stray Dog</td>\n",
       "    </tr>\n",
       "    <tr>\n",
       "      <th>1</th>\n",
       "      <td>A706918</td>\n",
       "      <td>Belle</td>\n",
       "      <td>2015-07-05 12:59:00</td>\n",
       "      <td>2015</td>\n",
       "      <td>9409 Bluegrass Dr in Austin (TX)</td>\n",
       "      <td>Stray</td>\n",
       "      <td>Normal</td>\n",
       "      <td>Dog</td>\n",
       "      <td>Spayed Female</td>\n",
       "      <td>8 years</td>\n",
       "      <td>English Springer Spaniel</td>\n",
       "      <td>White/Liver</td>\n",
       "      <td>Stray Dog</td>\n",
       "    </tr>\n",
       "    <tr>\n",
       "      <th>2</th>\n",
       "      <td>A724273</td>\n",
       "      <td>Runster</td>\n",
       "      <td>2016-04-14 18:43:00</td>\n",
       "      <td>2016</td>\n",
       "      <td>2818 Palomino Trail in Austin (TX)</td>\n",
       "      <td>Stray</td>\n",
       "      <td>Normal</td>\n",
       "      <td>Dog</td>\n",
       "      <td>Intact Male</td>\n",
       "      <td>11 months</td>\n",
       "      <td>Basenji Mix</td>\n",
       "      <td>Sable/White</td>\n",
       "      <td>Stray Dog</td>\n",
       "    </tr>\n",
       "    <tr>\n",
       "      <th>3</th>\n",
       "      <td>A665644</td>\n",
       "      <td>NaN</td>\n",
       "      <td>2013-10-21 07:59:00</td>\n",
       "      <td>2013</td>\n",
       "      <td>Austin (TX)</td>\n",
       "      <td>Stray</td>\n",
       "      <td>Sick</td>\n",
       "      <td>Cat</td>\n",
       "      <td>Intact Female</td>\n",
       "      <td>4 weeks</td>\n",
       "      <td>Domestic Shorthair Mix</td>\n",
       "      <td>Calico</td>\n",
       "      <td>Stray Cat</td>\n",
       "    </tr>\n",
       "    <tr>\n",
       "      <th>4</th>\n",
       "      <td>A682524</td>\n",
       "      <td>Rio</td>\n",
       "      <td>2014-06-29 10:38:00</td>\n",
       "      <td>2014</td>\n",
       "      <td>800 Grove Blvd in Austin (TX)</td>\n",
       "      <td>Stray</td>\n",
       "      <td>Normal</td>\n",
       "      <td>Dog</td>\n",
       "      <td>Neutered Male</td>\n",
       "      <td>4 years</td>\n",
       "      <td>Doberman Pinsch/Australian Cattle Dog</td>\n",
       "      <td>Tan/Gray</td>\n",
       "      <td>Stray Dog</td>\n",
       "    </tr>\n",
       "  </tbody>\n",
       "</table>\n",
       "</div>"
      ],
      "text/plain": [
       "  Animal ID     Name             DateTime  Year  \\\n",
       "0   A786884   *Brock  2019-01-03 16:19:00  2019   \n",
       "1   A706918    Belle  2015-07-05 12:59:00  2015   \n",
       "2   A724273  Runster  2016-04-14 18:43:00  2016   \n",
       "3   A665644      NaN  2013-10-21 07:59:00  2013   \n",
       "4   A682524      Rio  2014-06-29 10:38:00  2014   \n",
       "\n",
       "                        Found Location Intake Type Intake Condition  \\\n",
       "0  2501 Magin Meadow Dr in Austin (TX)       Stray           Normal   \n",
       "1     9409 Bluegrass Dr in Austin (TX)       Stray           Normal   \n",
       "2   2818 Palomino Trail in Austin (TX)       Stray           Normal   \n",
       "3                          Austin (TX)       Stray             Sick   \n",
       "4        800 Grove Blvd in Austin (TX)       Stray           Normal   \n",
       "\n",
       "  Animal Type Sex upon Intake Age upon Intake  \\\n",
       "0         Dog   Neutered Male         2 years   \n",
       "1         Dog   Spayed Female         8 years   \n",
       "2         Dog     Intact Male       11 months   \n",
       "3         Cat   Intact Female         4 weeks   \n",
       "4         Dog   Neutered Male         4 years   \n",
       "\n",
       "                                   Breed        Color       Type  \n",
       "0                             Beagle Mix     Tricolor  Stray Dog  \n",
       "1               English Springer Spaniel  White/Liver  Stray Dog  \n",
       "2                            Basenji Mix  Sable/White  Stray Dog  \n",
       "3                 Domestic Shorthair Mix       Calico  Stray Cat  \n",
       "4  Doberman Pinsch/Australian Cattle Dog     Tan/Gray  Stray Dog  "
      ]
     },
     "execution_count": 113,
     "metadata": {},
     "output_type": "execute_result"
    }
   ],
   "source": [
    "# But what about our subset dataframe above? It doesn't have an index 0\n",
    "df.iloc[:5]"
   ]
  },
  {
   "cell_type": "code",
   "execution_count": null,
   "metadata": {},
   "outputs": [],
   "source": [
    "# Try it...\n"
   ]
  },
  {
   "cell_type": "markdown",
   "metadata": {},
   "source": [
    "# Series Methods"
   ]
  },
  {
   "cell_type": "markdown",
   "metadata": {},
   "source": [
    "## `.value_counts()`"
   ]
  },
  {
   "cell_type": "markdown",
   "metadata": {},
   "source": [
    "How many different values does the Animal Type column have? What about Breed?"
   ]
  },
  {
   "cell_type": "code",
   "execution_count": 114,
   "metadata": {
    "ExecuteTime": {
     "end_time": "2023-04-07T17:07:47.298251Z",
     "start_time": "2023-04-07T17:07:47.281782Z"
    },
    "scrolled": true
   },
   "outputs": [
    {
     "data": {
      "text/plain": [
       "Dog          77098\n",
       "Cat          51752\n",
       "Other         7253\n",
       "Bird           636\n",
       "Livestock       24\n",
       "Name: Animal Type, dtype: int64"
      ]
     },
     "execution_count": 114,
     "metadata": {},
     "output_type": "execute_result"
    }
   ],
   "source": [
    "# Check the value counts for Animal Type\n",
    "df['Animal Type'].value_counts()"
   ]
  },
  {
   "cell_type": "code",
   "execution_count": 115,
   "metadata": {
    "ExecuteTime": {
     "end_time": "2023-04-07T17:08:11.230253Z",
     "start_time": "2023-04-07T17:08:11.206253Z"
    }
   },
   "outputs": [
    {
     "data": {
      "text/plain": [
       "Index(['Dog', 'Cat', 'Other', 'Bird', 'Livestock'], dtype='object')"
      ]
     },
     "execution_count": 115,
     "metadata": {},
     "output_type": "execute_result"
    }
   ],
   "source": [
    "df['Animal Type'].value_counts().index"
   ]
  },
  {
   "cell_type": "code",
   "execution_count": 116,
   "metadata": {
    "ExecuteTime": {
     "end_time": "2023-04-07T17:08:20.065253Z",
     "start_time": "2023-04-07T17:08:20.047251Z"
    }
   },
   "outputs": [
    {
     "data": {
      "text/plain": [
       "array([77098, 51752,  7253,   636,    24], dtype=int64)"
      ]
     },
     "execution_count": 116,
     "metadata": {},
     "output_type": "execute_result"
    }
   ],
   "source": [
    "df['Animal Type'].value_counts().values"
   ]
  },
  {
   "cell_type": "code",
   "execution_count": null,
   "metadata": {},
   "outputs": [],
   "source": []
  },
  {
   "cell_type": "code",
   "execution_count": 118,
   "metadata": {
    "ExecuteTime": {
     "end_time": "2023-04-07T17:09:00.489255Z",
     "start_time": "2023-04-07T17:09:00.463251Z"
    },
    "scrolled": true
   },
   "outputs": [
    {
     "data": {
      "text/plain": [
       "Domestic Shorthair Mix                   32034\n",
       "Domestic Shorthair                       10440\n",
       "Pit Bull Mix                              8913\n",
       "Labrador Retriever Mix                    7370\n",
       "Chihuahua Shorthair Mix                   6486\n",
       "                                         ...  \n",
       "Domestic Shorthair/American Shorthair        1\n",
       "Dachshund Longhair/Pomeranian                1\n",
       "German Shepherd/English Coonhound            1\n",
       "Miniature Schnauzer/Scottish Terrier         1\n",
       "Flat Coat Retriever/Chow Chow                1\n",
       "Name: Breed, Length: 2734, dtype: int64"
      ]
     },
     "execution_count": 118,
     "metadata": {},
     "output_type": "execute_result"
    }
   ],
   "source": [
    "# Now check Breed\n",
    "df['Breed'].value_counts()"
   ]
  },
  {
   "cell_type": "markdown",
   "metadata": {},
   "source": [
    "Sometimes, this is more useful than others... but, can check the percentage of the total, which might be more useful!"
   ]
  },
  {
   "cell_type": "code",
   "execution_count": 119,
   "metadata": {
    "ExecuteTime": {
     "end_time": "2023-04-07T17:09:25.413252Z",
     "start_time": "2023-04-07T17:09:25.390253Z"
    }
   },
   "outputs": [
    {
     "data": {
      "text/plain": [
       "Dog          0.563734\n",
       "Cat          0.378406\n",
       "Other        0.053033\n",
       "Bird         0.004650\n",
       "Livestock    0.000175\n",
       "Name: Animal Type, dtype: float64"
      ]
     },
     "execution_count": 119,
     "metadata": {},
     "output_type": "execute_result"
    }
   ],
   "source": [
    "# Use the normalize argument to view as percentages\n",
    "df['Animal Type'].value_counts(normalize=True)"
   ]
  },
  {
   "cell_type": "markdown",
   "metadata": {},
   "source": [
    "## `.sort_values()`\n",
    "\n",
    "As you can imagine, this works differently whether you're using it on a numeric or non-numeric column"
   ]
  },
  {
   "cell_type": "code",
   "execution_count": 123,
   "metadata": {
    "ExecuteTime": {
     "end_time": "2023-04-07T17:11:12.285251Z",
     "start_time": "2023-04-07T17:11:12.197751Z"
    },
    "scrolled": true
   },
   "outputs": [
    {
     "data": {
      "text/html": [
       "<div>\n",
       "<style scoped>\n",
       "    .dataframe tbody tr th:only-of-type {\n",
       "        vertical-align: middle;\n",
       "    }\n",
       "\n",
       "    .dataframe tbody tr th {\n",
       "        vertical-align: top;\n",
       "    }\n",
       "\n",
       "    .dataframe thead th {\n",
       "        text-align: right;\n",
       "    }\n",
       "</style>\n",
       "<table border=\"1\" class=\"dataframe\">\n",
       "  <thead>\n",
       "    <tr style=\"text-align: right;\">\n",
       "      <th></th>\n",
       "      <th>Animal ID</th>\n",
       "      <th>Name</th>\n",
       "      <th>DateTime</th>\n",
       "      <th>Year</th>\n",
       "      <th>Found Location</th>\n",
       "      <th>Intake Type</th>\n",
       "      <th>Intake Condition</th>\n",
       "      <th>Animal Type</th>\n",
       "      <th>Sex upon Intake</th>\n",
       "      <th>Age upon Intake</th>\n",
       "      <th>Breed</th>\n",
       "      <th>Color</th>\n",
       "      <th>Type</th>\n",
       "    </tr>\n",
       "  </thead>\n",
       "  <tbody>\n",
       "    <tr>\n",
       "      <th>136762</th>\n",
       "      <td>A852194</td>\n",
       "      <td>Queen</td>\n",
       "      <td>2022-02-27 13:44:00</td>\n",
       "      <td>2022</td>\n",
       "      <td>8071 N Lamar Blvd in Austin (TX)</td>\n",
       "      <td>Stray</td>\n",
       "      <td>Normal</td>\n",
       "      <td>Dog</td>\n",
       "      <td>Intact Female</td>\n",
       "      <td>4 months</td>\n",
       "      <td>Cane Corso</td>\n",
       "      <td>Blue Cream</td>\n",
       "      <td>Stray Dog</td>\n",
       "    </tr>\n",
       "    <tr>\n",
       "      <th>135587</th>\n",
       "      <td>A849913</td>\n",
       "      <td>*Lizzy</td>\n",
       "      <td>2022-01-15 10:44:00</td>\n",
       "      <td>2022</td>\n",
       "      <td>7405 Grenadine Bloom Bend in Travis (TX)</td>\n",
       "      <td>Stray</td>\n",
       "      <td>Normal</td>\n",
       "      <td>Dog</td>\n",
       "      <td>Intact Female</td>\n",
       "      <td>4 years</td>\n",
       "      <td>American Foxhound</td>\n",
       "      <td>Red/White</td>\n",
       "      <td>Stray Dog</td>\n",
       "    </tr>\n",
       "    <tr>\n",
       "      <th>135572</th>\n",
       "      <td>A850499</td>\n",
       "      <td>Reeses</td>\n",
       "      <td>2022-01-25 16:29:00</td>\n",
       "      <td>2022</td>\n",
       "      <td>14200 North Ih 35 in Austin (TX)</td>\n",
       "      <td>Stray</td>\n",
       "      <td>Normal</td>\n",
       "      <td>Dog</td>\n",
       "      <td>Spayed Female</td>\n",
       "      <td>2 years</td>\n",
       "      <td>Australian Cattle Dog Mix</td>\n",
       "      <td>Black/Brown</td>\n",
       "      <td>Stray Dog</td>\n",
       "    </tr>\n",
       "    <tr>\n",
       "      <th>135573</th>\n",
       "      <td>A850241</td>\n",
       "      <td>*Raven</td>\n",
       "      <td>2022-01-20 17:46:00</td>\n",
       "      <td>2022</td>\n",
       "      <td>7810 Old Bee Caves Road in Austin (TX)</td>\n",
       "      <td>Stray</td>\n",
       "      <td>Injured</td>\n",
       "      <td>Dog</td>\n",
       "      <td>Intact Female</td>\n",
       "      <td>4 months</td>\n",
       "      <td>Labrador Retriever</td>\n",
       "      <td>Black/White</td>\n",
       "      <td>Stray Dog</td>\n",
       "    </tr>\n",
       "    <tr>\n",
       "      <th>135575</th>\n",
       "      <td>A850500</td>\n",
       "      <td>Bear</td>\n",
       "      <td>2022-01-25 16:29:00</td>\n",
       "      <td>2022</td>\n",
       "      <td>14200 North Ih 35 in Austin (TX)</td>\n",
       "      <td>Stray</td>\n",
       "      <td>Normal</td>\n",
       "      <td>Dog</td>\n",
       "      <td>Intact Male</td>\n",
       "      <td>9 months</td>\n",
       "      <td>Labrador Retriever Mix</td>\n",
       "      <td>Black/White</td>\n",
       "      <td>Stray Dog</td>\n",
       "    </tr>\n",
       "    <tr>\n",
       "      <th>...</th>\n",
       "      <td>...</td>\n",
       "      <td>...</td>\n",
       "      <td>...</td>\n",
       "      <td>...</td>\n",
       "      <td>...</td>\n",
       "      <td>...</td>\n",
       "      <td>...</td>\n",
       "      <td>...</td>\n",
       "      <td>...</td>\n",
       "      <td>...</td>\n",
       "      <td>...</td>\n",
       "      <td>...</td>\n",
       "      <td>...</td>\n",
       "    </tr>\n",
       "    <tr>\n",
       "      <th>124294</th>\n",
       "      <td>A668263</td>\n",
       "      <td>NaN</td>\n",
       "      <td>2013-12-01 00:00:00</td>\n",
       "      <td>2013</td>\n",
       "      <td>2801 E. Wells Branch in Travis (TX)</td>\n",
       "      <td>Wildlife</td>\n",
       "      <td>Normal</td>\n",
       "      <td>Other</td>\n",
       "      <td>Unknown</td>\n",
       "      <td>6 months</td>\n",
       "      <td>Bat Mix</td>\n",
       "      <td>Brown</td>\n",
       "      <td>Wildlife Other</td>\n",
       "    </tr>\n",
       "    <tr>\n",
       "      <th>90281</th>\n",
       "      <td>A667998</td>\n",
       "      <td>*Ginger</td>\n",
       "      <td>2013-11-26 12:10:00</td>\n",
       "      <td>2013</td>\n",
       "      <td>Austin (TX)</td>\n",
       "      <td>Owner Surrender</td>\n",
       "      <td>Normal</td>\n",
       "      <td>Dog</td>\n",
       "      <td>Spayed Female</td>\n",
       "      <td>4 years</td>\n",
       "      <td>Pit Bull Mix</td>\n",
       "      <td>Brown/White</td>\n",
       "      <td>Owner Surrender Dog</td>\n",
       "    </tr>\n",
       "    <tr>\n",
       "      <th>49519</th>\n",
       "      <td>A669182</td>\n",
       "      <td>Hunter</td>\n",
       "      <td>2013-12-16 16:24:00</td>\n",
       "      <td>2013</td>\n",
       "      <td>Pflugerville (TX)</td>\n",
       "      <td>Owner Surrender</td>\n",
       "      <td>Normal</td>\n",
       "      <td>Dog</td>\n",
       "      <td>Intact Male</td>\n",
       "      <td>1 month</td>\n",
       "      <td>Labrador Retriever Mix</td>\n",
       "      <td>White</td>\n",
       "      <td>Owner Surrender Dog</td>\n",
       "    </tr>\n",
       "    <tr>\n",
       "      <th>80137</th>\n",
       "      <td>A666629</td>\n",
       "      <td>*Lambchop</td>\n",
       "      <td>2013-11-04 18:44:00</td>\n",
       "      <td>2013</td>\n",
       "      <td>21906 Silvia Dr in Travis (TX)</td>\n",
       "      <td>Stray</td>\n",
       "      <td>Normal</td>\n",
       "      <td>Dog</td>\n",
       "      <td>Intact Male</td>\n",
       "      <td>2 years</td>\n",
       "      <td>Australian Cattle Dog Mix</td>\n",
       "      <td>Brown Brindle/White</td>\n",
       "      <td>Stray Dog</td>\n",
       "    </tr>\n",
       "    <tr>\n",
       "      <th>113072</th>\n",
       "      <td>A653346</td>\n",
       "      <td>NaN</td>\n",
       "      <td>2013-10-24 13:17:00</td>\n",
       "      <td>2013</td>\n",
       "      <td>13512 Mizzen in Manor (TX)</td>\n",
       "      <td>Stray</td>\n",
       "      <td>Normal</td>\n",
       "      <td>Cat</td>\n",
       "      <td>Spayed Female</td>\n",
       "      <td>2 years</td>\n",
       "      <td>Domestic Shorthair Mix</td>\n",
       "      <td>Tortie</td>\n",
       "      <td>Stray Cat</td>\n",
       "    </tr>\n",
       "  </tbody>\n",
       "</table>\n",
       "<p>136763 rows × 13 columns</p>\n",
       "</div>"
      ],
      "text/plain": [
       "       Animal ID       Name             DateTime  Year  \\\n",
       "136762   A852194      Queen  2022-02-27 13:44:00  2022   \n",
       "135587   A849913     *Lizzy  2022-01-15 10:44:00  2022   \n",
       "135572   A850499     Reeses  2022-01-25 16:29:00  2022   \n",
       "135573   A850241     *Raven  2022-01-20 17:46:00  2022   \n",
       "135575   A850500       Bear  2022-01-25 16:29:00  2022   \n",
       "...          ...        ...                  ...   ...   \n",
       "124294   A668263        NaN  2013-12-01 00:00:00  2013   \n",
       "90281    A667998    *Ginger  2013-11-26 12:10:00  2013   \n",
       "49519    A669182     Hunter  2013-12-16 16:24:00  2013   \n",
       "80137    A666629  *Lambchop  2013-11-04 18:44:00  2013   \n",
       "113072   A653346        NaN  2013-10-24 13:17:00  2013   \n",
       "\n",
       "                                  Found Location      Intake Type  \\\n",
       "136762          8071 N Lamar Blvd in Austin (TX)            Stray   \n",
       "135587  7405 Grenadine Bloom Bend in Travis (TX)            Stray   \n",
       "135572          14200 North Ih 35 in Austin (TX)            Stray   \n",
       "135573    7810 Old Bee Caves Road in Austin (TX)            Stray   \n",
       "135575          14200 North Ih 35 in Austin (TX)            Stray   \n",
       "...                                          ...              ...   \n",
       "124294       2801 E. Wells Branch in Travis (TX)         Wildlife   \n",
       "90281                                Austin (TX)  Owner Surrender   \n",
       "49519                          Pflugerville (TX)  Owner Surrender   \n",
       "80137             21906 Silvia Dr in Travis (TX)            Stray   \n",
       "113072                13512 Mizzen in Manor (TX)            Stray   \n",
       "\n",
       "       Intake Condition Animal Type Sex upon Intake Age upon Intake  \\\n",
       "136762           Normal         Dog   Intact Female        4 months   \n",
       "135587           Normal         Dog   Intact Female         4 years   \n",
       "135572           Normal         Dog   Spayed Female         2 years   \n",
       "135573          Injured         Dog   Intact Female        4 months   \n",
       "135575           Normal         Dog     Intact Male        9 months   \n",
       "...                 ...         ...             ...             ...   \n",
       "124294           Normal       Other         Unknown        6 months   \n",
       "90281            Normal         Dog   Spayed Female         4 years   \n",
       "49519            Normal         Dog     Intact Male         1 month   \n",
       "80137            Normal         Dog     Intact Male         2 years   \n",
       "113072           Normal         Cat   Spayed Female         2 years   \n",
       "\n",
       "                            Breed                Color                 Type  \n",
       "136762                 Cane Corso           Blue Cream            Stray Dog  \n",
       "135587          American Foxhound            Red/White            Stray Dog  \n",
       "135572  Australian Cattle Dog Mix          Black/Brown            Stray Dog  \n",
       "135573         Labrador Retriever          Black/White            Stray Dog  \n",
       "135575     Labrador Retriever Mix          Black/White            Stray Dog  \n",
       "...                           ...                  ...                  ...  \n",
       "124294                    Bat Mix                Brown       Wildlife Other  \n",
       "90281                Pit Bull Mix          Brown/White  Owner Surrender Dog  \n",
       "49519      Labrador Retriever Mix                White  Owner Surrender Dog  \n",
       "80137   Australian Cattle Dog Mix  Brown Brindle/White            Stray Dog  \n",
       "113072     Domestic Shorthair Mix               Tortie            Stray Cat  \n",
       "\n",
       "[136763 rows x 13 columns]"
      ]
     },
     "execution_count": 123,
     "metadata": {},
     "output_type": "execute_result"
    }
   ],
   "source": [
    "# Let's sort the year column\n",
    "df.sort_values(by='Year',ascending=False, )"
   ]
  },
  {
   "cell_type": "code",
   "execution_count": 124,
   "metadata": {
    "ExecuteTime": {
     "end_time": "2023-04-07T17:12:03.667251Z",
     "start_time": "2023-04-07T17:12:03.586252Z"
    }
   },
   "outputs": [
    {
     "data": {
      "text/plain": [
       "57316      Bird\n",
       "79944      Bird\n",
       "10022      Bird\n",
       "130286     Bird\n",
       "105888     Bird\n",
       "          ...  \n",
       "65050     Other\n",
       "123407    Other\n",
       "94470     Other\n",
       "94463     Other\n",
       "41614     Other\n",
       "Name: Animal Type, Length: 136763, dtype: object"
      ]
     },
     "execution_count": 124,
     "metadata": {},
     "output_type": "execute_result"
    }
   ],
   "source": [
    "# Now, sort the Animal Type col\n",
    "df['Animal Type'].sort_values()"
   ]
  },
  {
   "cell_type": "code",
   "execution_count": null,
   "metadata": {},
   "outputs": [],
   "source": [
    "# We can do this on the whole dataframe, it just needs to know what to sort by\n"
   ]
  },
  {
   "cell_type": "markdown",
   "metadata": {
    "heading_collapsed": true
   },
   "source": [
    "# Extra Credit: Find a .csv file online and experiment with it."
   ]
  },
  {
   "cell_type": "markdown",
   "metadata": {
    "hidden": true
   },
   "source": [
    "Head to [dataportals.org](https://dataportals.org) to find a .csv file."
   ]
  },
  {
   "cell_type": "code",
   "execution_count": null,
   "metadata": {
    "hidden": true
   },
   "outputs": [],
   "source": []
  }
 ],
 "metadata": {
  "kernelspec": {
   "display_name": "learn-env",
   "language": "python",
   "name": "learn-env"
  },
  "language_info": {
   "codemirror_mode": {
    "name": "ipython",
    "version": 3
   },
   "file_extension": ".py",
   "mimetype": "text/x-python",
   "name": "python",
   "nbconvert_exporter": "python",
   "pygments_lexer": "ipython3",
   "version": "3.8.5"
  },
  "toc": {
   "base_numbering": 1,
   "nav_menu": {},
   "number_sections": true,
   "sideBar": true,
   "skip_h1_title": false,
   "title_cell": "Table of Contents",
   "title_sidebar": "Contents",
   "toc_cell": true,
   "toc_position": {
    "height": "calc(100% - 180px)",
    "left": "10px",
    "top": "150px",
    "width": "384px"
   },
   "toc_section_display": true,
   "toc_window_display": false
  },
  "varInspector": {
   "cols": {
    "lenName": 16,
    "lenType": 16,
    "lenVar": 40
   },
   "kernels_config": {
    "python": {
     "delete_cmd_postfix": "",
     "delete_cmd_prefix": "del ",
     "library": "var_list.py",
     "varRefreshCmd": "print(var_dic_list())"
    },
    "r": {
     "delete_cmd_postfix": ") ",
     "delete_cmd_prefix": "rm(",
     "library": "var_list.r",
     "varRefreshCmd": "cat(var_dic_list()) "
    }
   },
   "types_to_exclude": [
    "module",
    "function",
    "builtin_function_or_method",
    "instance",
    "_Feature"
   ],
   "window_display": false
  }
 },
 "nbformat": 4,
 "nbformat_minor": 2
}
