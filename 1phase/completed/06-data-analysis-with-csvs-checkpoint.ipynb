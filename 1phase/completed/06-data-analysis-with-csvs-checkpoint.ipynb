{
 "cells": [
  {
   "cell_type": "markdown",
   "metadata": {
    "toc": true
   },
   "source": [
    "<h1>Table of Contents<span class=\"tocSkip\"></span></h1>\n",
    "<div class=\"toc\"><ul class=\"toc-item\"><li><span><a href=\"#Data-Analysis-with-CSVs\" data-toc-modified-id=\"Data-Analysis-with-CSVs-1\"><span class=\"toc-item-num\">1&nbsp;&nbsp;</span>Data Analysis with CSVs</a></span></li><li><span><a href=\"#Objectives\" data-toc-modified-id=\"Objectives-2\"><span class=\"toc-item-num\">2&nbsp;&nbsp;</span>Objectives</a></span></li><li><span><a href=\"#Loading-a-CSV\" data-toc-modified-id=\"Loading-a-CSV-3\"><span class=\"toc-item-num\">3&nbsp;&nbsp;</span>Loading a CSV</a></span><ul class=\"toc-item\"><li><span><a href=\"#Get-the-File-Path\" data-toc-modified-id=\"Get-the-File-Path-3.1\"><span class=\"toc-item-num\">3.1&nbsp;&nbsp;</span>Get the File Path</a></span></li><li><span><a href=\"#Inspecting-CSV-files\" data-toc-modified-id=\"Inspecting-CSV-files-3.2\"><span class=\"toc-item-num\">3.2&nbsp;&nbsp;</span>Inspecting CSV files</a></span><ul class=\"toc-item\"><li><span><a href=\"#Printing-Lines-in-Python\" data-toc-modified-id=\"Printing-Lines-in-Python-3.2.1\"><span class=\"toc-item-num\">3.2.1&nbsp;&nbsp;</span>Printing Lines in Python</a></span></li><li><span><a href=\"#Printing-Lines-in-bash\" data-toc-modified-id=\"Printing-Lines-in-bash-3.2.2\"><span class=\"toc-item-num\">3.2.2&nbsp;&nbsp;</span>Printing Lines in bash</a></span></li><li><span><a href=\"#Discussion\" data-toc-modified-id=\"Discussion-3.2.3\"><span class=\"toc-item-num\">3.2.3&nbsp;&nbsp;</span>Discussion</a></span></li></ul></li><li><span><a href=\"#Using-the-csv-module\" data-toc-modified-id=\"Using-the-csv-module-3.3\"><span class=\"toc-item-num\">3.3&nbsp;&nbsp;</span>Using the <code>csv</code> module</a></span></li></ul></li><li><span><a href=\"#Data-Preparation\" data-toc-modified-id=\"Data-Preparation-4\"><span class=\"toc-item-num\">4&nbsp;&nbsp;</span>Data Preparation</a></span><ul class=\"toc-item\"><li><span><a href=\"#Clean-the-Sale-Prices\" data-toc-modified-id=\"Clean-the-Sale-Prices-4.1\"><span class=\"toc-item-num\">4.1&nbsp;&nbsp;</span>Clean the Sale Prices</a></span></li><li><span><a href=\"#Clean-the-Dates\" data-toc-modified-id=\"Clean-the-Dates-4.2\"><span class=\"toc-item-num\">4.2&nbsp;&nbsp;</span>Clean the Dates</a></span><ul class=\"toc-item\"><li><span><a href=\"#Using-Python-built-in-methods\" data-toc-modified-id=\"Using-Python-built-in-methods-4.2.1\"><span class=\"toc-item-num\">4.2.1&nbsp;&nbsp;</span>Using Python built-in methods</a></span></li></ul></li></ul></li><li><span><a href=\"#Data-Analysis\" data-toc-modified-id=\"Data-Analysis-5\"><span class=\"toc-item-num\">5&nbsp;&nbsp;</span>Data Analysis</a></span><ul class=\"toc-item\"><li><span><a href=\"#Question-1:-What-is-the-range-of-years-for-which-we-have-sales-data?\" data-toc-modified-id=\"Question-1:-What-is-the-range-of-years-for-which-we-have-sales-data?-5.1\"><span class=\"toc-item-num\">5.1&nbsp;&nbsp;</span>Question 1: What is the range of years for which we have sales data?</a></span></li><li><span><a href=\"#Question-2:-How-many-properties-sold-in-2020?\" data-toc-modified-id=\"Question-2:-How-many-properties-sold-in-2020?-5.2\"><span class=\"toc-item-num\">5.2&nbsp;&nbsp;</span>Question 2: How many properties sold in 2020?</a></span></li><li><span><a href=\"#Question-3:-What-was-the-mean-sale-price-in-2020?\" data-toc-modified-id=\"Question-3:-What-was-the-mean-sale-price-in-2020?-5.3\"><span class=\"toc-item-num\">5.3&nbsp;&nbsp;</span>Question 3: What was the mean sale price in 2020?</a></span></li><li><span><a href=\"#Question-4:-How-many-properties-sold-in-each-year?\" data-toc-modified-id=\"Question-4:-How-many-properties-sold-in-each-year?-5.4\"><span class=\"toc-item-num\">5.4&nbsp;&nbsp;</span>Question 4: How many properties sold in each year?</a></span></li></ul></li><li><span><a href=\"#Chart-the-Data\" data-toc-modified-id=\"Chart-the-Data-6\"><span class=\"toc-item-num\">6&nbsp;&nbsp;</span>Chart the Data</a></span></li><li><span><a href=\"#Level-Up:-Counter\" data-toc-modified-id=\"Level-Up:-Counter-7\"><span class=\"toc-item-num\">7&nbsp;&nbsp;</span>Level Up: <code>Counter</code></a></span></li><li><span><a href=\"#Level-Up:-Using-datetime\" data-toc-modified-id=\"Level-Up:-Using-datetime-8\"><span class=\"toc-item-num\">8&nbsp;&nbsp;</span>Level Up: Using <code>datetime</code></a></span></li></ul></div>"
   ]
  },
  {
   "cell_type": "markdown",
   "metadata": {
    "heading_collapsed": true
   },
   "source": [
    "# Data Analysis with CSVs"
   ]
  },
  {
   "cell_type": "markdown",
   "metadata": {
    "hidden": true
   },
   "source": [
    "In this lesson, we'll complete a full data analysis with a raw data file. Comma Separated Values files, known as CSVs, are one of the most common file formats for storing tabular data. In this lesson, we'll show you how to load one into memory and work with it using Python."
   ]
  },
  {
   "cell_type": "markdown",
   "metadata": {
    "heading_collapsed": true
   },
   "source": [
    "# Objectives"
   ]
  },
  {
   "cell_type": "markdown",
   "metadata": {
    "hidden": true
   },
   "source": [
    "Perform a complete data analysis by...\n",
    "\n",
    "- Creating a Python data structure from a .csv file\n",
    "- Exploring and cleaning the data \n",
    "- Conducting descriptive analysis\n",
    "- Visualizing the results"
   ]
  },
  {
   "cell_type": "markdown",
   "metadata": {
    "heading_collapsed": true
   },
   "source": [
    "# Loading a CSV"
   ]
  },
  {
   "cell_type": "markdown",
   "metadata": {
    "hidden": true
   },
   "source": [
    "The before you can work with a CSV file, you need to load it into memory."
   ]
  },
  {
   "cell_type": "markdown",
   "metadata": {
    "heading_collapsed": true,
    "hidden": true
   },
   "source": [
    "## Get the File Path"
   ]
  },
  {
   "cell_type": "markdown",
   "metadata": {
    "hidden": true
   },
   "source": [
    "Make sure you have the path to your data file. For this example, it is in the root folder of this repository."
   ]
  },
  {
   "cell_type": "code",
   "execution_count": 1,
   "metadata": {
    "hidden": true
   },
   "outputs": [
    {
     "name": "stdout",
     "output_type": "stream",
     "text": [
      "05-python-review.ipynb\n",
      "06-data-analysis-with-csvs.ipynb\n",
      "07-data-analysis-with-json.ipynb\n",
      "data\n",
      "images\n",
      "src\n"
     ]
    }
   ],
   "source": [
    "!ls"
   ]
  },
  {
   "cell_type": "markdown",
   "metadata": {
    "hidden": true
   },
   "source": [
    "We use `.` to indicate the root folder of the repository when working within this notebook."
   ]
  },
  {
   "cell_type": "code",
   "execution_count": 2,
   "metadata": {
    "hidden": true
   },
   "outputs": [],
   "source": [
    "csv_file_path = 'data/OpenFoodFacts.csv'"
   ]
  },
  {
   "cell_type": "markdown",
   "metadata": {
    "heading_collapsed": true,
    "hidden": true
   },
   "source": [
    "## Inspecting CSV files"
   ]
  },
  {
   "cell_type": "markdown",
   "metadata": {
    "hidden": true
   },
   "source": [
    "In a CSV file, each line represents one row of tabular data, and consecutive values in that row are separated by a comma. Often, the first row contains the column names separated by commas, also known as field names. Let's confirm that this is the case and learn about our dataset by printing the first two lines of the file."
   ]
  },
  {
   "cell_type": "markdown",
   "metadata": {
    "heading_collapsed": true,
    "hidden": true
   },
   "source": [
    "### Printing Lines in Python"
   ]
  },
  {
   "cell_type": "markdown",
   "metadata": {
    "hidden": true
   },
   "source": [
    "We use the `with open()` syntax to easily open and read the file in the notebook. Using this syntax will automatically close the file once the statement is done running."
   ]
  },
  {
   "cell_type": "code",
   "execution_count": 6,
   "metadata": {
    "hidden": true
   },
   "outputs": [
    {
     "name": "stdout",
     "output_type": "stream",
     "text": [
      "product_name,brands,created_date,last_modified_date,serving_size,energy_100g,fat_100g,carbohydrates_100g,sugars_100g,proteins_100g\n",
      "\n"
     ]
    }
   ],
   "source": [
    "# This code prints the first line of the CSV file\n",
    "with open(csv_file_path, 'r') as csvfile:\n",
    "    print(csvfile.readline())"
   ]
  },
  {
   "cell_type": "markdown",
   "metadata": {
    "hidden": true
   },
   "source": [
    "Next, we can print the second line to look at an example of one observation from our dataset. This represents one real estate sale in Kings County."
   ]
  },
  {
   "cell_type": "code",
   "execution_count": 7,
   "metadata": {
    "hidden": true
   },
   "outputs": [
    {
     "name": "stdout",
     "output_type": "stream",
     "text": [
      "Banana Chips Sweetened (Whole),,2017-03-09,2017-03-09,28.0 g,2243.0,28.57,64.29,14.29,3.57\n",
      "\n"
     ]
    }
   ],
   "source": [
    "# This code prints the second line of the CSV file\n",
    "\n",
    "with open(csv_file_path) as csvfile:\n",
    "    csvfile.readline()\n",
    "    print(csvfile.readline())\n"
   ]
  },
  {
   "cell_type": "markdown",
   "metadata": {
    "heading_collapsed": true,
    "hidden": true
   },
   "source": [
    "### Printing Lines in bash"
   ]
  },
  {
   "cell_type": "markdown",
   "metadata": {
    "hidden": true
   },
   "source": [
    "Alternatively, you could use a bash command to print the first two lines."
   ]
  },
  {
   "cell_type": "code",
   "execution_count": 8,
   "metadata": {
    "hidden": true,
    "scrolled": true
   },
   "outputs": [
    {
     "name": "stderr",
     "output_type": "stream",
     "text": [
      "head: cannot open './data/King_County_Real_Estate_Sales.csv' for reading: No such file or directory\n"
     ]
    }
   ],
   "source": [
    "# This will only work on Mac, Linux, or a separate bash terminal in Windows\n",
    "\n",
    "!head -n 2 ./data/King_County_Real_Estate_Sales.csv\n"
   ]
  },
  {
   "cell_type": "markdown",
   "metadata": {
    "heading_collapsed": true,
    "hidden": true
   },
   "source": [
    "### Discussion"
   ]
  },
  {
   "cell_type": "markdown",
   "metadata": {
    "hidden": true
   },
   "source": [
    "Based on these two lines, what can we infer about the contents of the data file? What questions arise for you about the data?"
   ]
  },
  {
   "cell_type": "markdown",
   "metadata": {
    "heading_collapsed": true,
    "hidden": true
   },
   "source": [
    "## Using the `csv` module"
   ]
  },
  {
   "cell_type": "markdown",
   "metadata": {
    "hidden": true
   },
   "source": [
    "The [`csv` module](https://docs.python.org/3/library/csv.html) lets us easily process data in CSV files. We will use it to read each row in the `.csv` file and store its information in a Python object we can use for further analysis. "
   ]
  },
  {
   "cell_type": "code",
   "execution_count": 9,
   "metadata": {
    "hidden": true
   },
   "outputs": [],
   "source": [
    "# import the module\n",
    "import csv"
   ]
  },
  {
   "cell_type": "markdown",
   "metadata": {
    "hidden": true
   },
   "source": [
    "The [`csv.DictReader`](https://docs.python.org/3/library/csv.html#csv.DictReader) object is a file reader, reading each row and then converting it to a dictionary. By default, it turns each row into a dictionary, using the field names from the first row as the keys."
   ]
  },
  {
   "cell_type": "code",
   "execution_count": 10,
   "metadata": {
    "hidden": true
   },
   "outputs": [],
   "source": [
    "# Print OrderedDict from first row of CSV file \n",
    "with open(csv_file_path, 'r', encoding = 'utf-8') as csvfile:\n",
    "    reader = csv.DictReader(csvfile)"
   ]
  },
  {
   "cell_type": "code",
   "execution_count": 11,
   "metadata": {},
   "outputs": [
    {
     "data": {
      "text/plain": [
       "<csv.DictReader at 0x1fe2960c670>"
      ]
     },
     "execution_count": 11,
     "metadata": {},
     "output_type": "execute_result"
    }
   ],
   "source": [
    "reader"
   ]
  },
  {
   "cell_type": "markdown",
   "metadata": {
    "hidden": true
   },
   "source": [
    "Let's get all of the data out of our file and into dictionaries, and store those dictionaries in a new list called `sales`."
   ]
  },
  {
   "cell_type": "code",
   "execution_count": 12,
   "metadata": {
    "hidden": true
   },
   "outputs": [],
   "source": [
    "# Create sales list from csv file\n",
    "products = []\n",
    "\n",
    "with open(csv_file_path, 'r', encoding = 'utf-8') as csvfile:\n",
    "    reader = csv.DictReader(csvfile)\n",
    "    \n",
    "    for row in reader:\n",
    "        products.append(row)"
   ]
  },
  {
   "cell_type": "code",
   "execution_count": 13,
   "metadata": {
    "hidden": true
   },
   "outputs": [
    {
     "data": {
      "text/plain": [
       "[{'product_name': 'Banana Chips Sweetened (Whole)',\n",
       "  'brands': '',\n",
       "  'created_date': '2017-03-09',\n",
       "  'last_modified_date': '2017-03-09',\n",
       "  'serving_size': '28.0 g',\n",
       "  'energy_100g': '2243.0',\n",
       "  'fat_100g': '28.57',\n",
       "  'carbohydrates_100g': '64.29',\n",
       "  'sugars_100g': '14.29',\n",
       "  'proteins_100g': '3.57'},\n",
       " {'product_name': 'Peanuts',\n",
       "  'brands': 'Torn & Glasser',\n",
       "  'created_date': '2017-03-09',\n",
       "  'last_modified_date': '2017-03-09',\n",
       "  'serving_size': '28.0 g',\n",
       "  'energy_100g': '1941.0',\n",
       "  'fat_100g': '17.86',\n",
       "  'carbohydrates_100g': '60.71',\n",
       "  'sugars_100g': '17.86',\n",
       "  'proteins_100g': '17.86'},\n",
       " {'product_name': 'Organic Salted Nut Mix',\n",
       "  'brands': 'Grizzlies',\n",
       "  'created_date': '2017-03-09',\n",
       "  'last_modified_date': '2017-03-09',\n",
       "  'serving_size': '28.0 g',\n",
       "  'energy_100g': '2540.0',\n",
       "  'fat_100g': '57.14',\n",
       "  'carbohydrates_100g': '17.86',\n",
       "  'sugars_100g': '3.57',\n",
       "  'proteins_100g': '17.86'}]"
      ]
     },
     "execution_count": 13,
     "metadata": {},
     "output_type": "execute_result"
    }
   ],
   "source": [
    "# Check first three rows\n",
    "products[0:3]"
   ]
  },
  {
   "cell_type": "markdown",
   "metadata": {
    "heading_collapsed": true
   },
   "source": [
    "# Data Preparation"
   ]
  },
  {
   "cell_type": "markdown",
   "metadata": {
    "hidden": true
   },
   "source": [
    "Now that we've gotten all of our data into a Python object, we can prepare it for analysis. Let's look at a sample observation and consider how we might want to process it to make it easier to analyze."
   ]
  },
  {
   "cell_type": "code",
   "execution_count": 14,
   "metadata": {
    "hidden": true
   },
   "outputs": [
    {
     "data": {
      "text/plain": [
       "{'product_name': 'Banana Chips Sweetened (Whole)',\n",
       " 'brands': '',\n",
       " 'created_date': '2017-03-09',\n",
       " 'last_modified_date': '2017-03-09',\n",
       " 'serving_size': '28.0 g',\n",
       " 'energy_100g': '2243.0',\n",
       " 'fat_100g': '28.57',\n",
       " 'carbohydrates_100g': '64.29',\n",
       " 'sugars_100g': '14.29',\n",
       " 'proteins_100g': '3.57'}"
      ]
     },
     "execution_count": 14,
     "metadata": {},
     "output_type": "execute_result"
    }
   ],
   "source": [
    "# look at first one\n",
    "products[0]"
   ]
  },
  {
   "cell_type": "markdown",
   "metadata": {
    "hidden": true
   },
   "source": [
    "**Discussion:** How might you clean these data to make them easier to analyze?"
   ]
  },
  {
   "cell_type": "markdown",
   "metadata": {
    "heading_collapsed": true,
    "hidden": true
   },
   "source": [
    "## Clean the Sale Prices"
   ]
  },
  {
   "cell_type": "markdown",
   "metadata": {
    "hidden": true
   },
   "source": [
    "First, let's convert the sale prices from strings to numbers, so we can do arithmetic with them. For example, we could calculate the average price."
   ]
  },
  {
   "cell_type": "code",
   "execution_count": 15,
   "metadata": {
    "hidden": true
   },
   "outputs": [
    {
     "data": {
      "text/plain": [
       "14.29"
      ]
     },
     "execution_count": 15,
     "metadata": {},
     "output_type": "execute_result"
    }
   ],
   "source": [
    "# Cast sale price to int\n",
    "float(products[0]['sugars_100g'])"
   ]
  },
  {
   "cell_type": "code",
   "execution_count": 16,
   "metadata": {
    "hidden": true
   },
   "outputs": [
    {
     "data": {
      "text/plain": [
       "28.0"
      ]
     },
     "execution_count": 16,
     "metadata": {},
     "output_type": "execute_result"
    }
   ],
   "source": [
    "#optionally\n",
    "float(products[0]['serving_size'].strip(' g'))"
   ]
  },
  {
   "cell_type": "code",
   "execution_count": 17,
   "metadata": {
    "hidden": true
   },
   "outputs": [],
   "source": [
    "# Examine\n",
    "for product in products:\n",
    "    product['serving_size'] = float(product['serving_size'].strip(' g'))\n",
    "    \n",
    "    for key, detail in product.items():\n",
    "        if '100g' in key:\n",
    "            try:\n",
    "                product[key] = float(detail)\n",
    "            except:\n",
    "                product[key] = 0.0"
   ]
  },
  {
   "cell_type": "code",
   "execution_count": 18,
   "metadata": {},
   "outputs": [
    {
     "data": {
      "text/plain": [
       "[{'product_name': 'Banana Chips Sweetened (Whole)',\n",
       "  'brands': '',\n",
       "  'created_date': '2017-03-09',\n",
       "  'last_modified_date': '2017-03-09',\n",
       "  'serving_size': 28.0,\n",
       "  'energy_100g': 2243.0,\n",
       "  'fat_100g': 28.57,\n",
       "  'carbohydrates_100g': 64.29,\n",
       "  'sugars_100g': 14.29,\n",
       "  'proteins_100g': 3.57},\n",
       " {'product_name': 'Peanuts',\n",
       "  'brands': 'Torn & Glasser',\n",
       "  'created_date': '2017-03-09',\n",
       "  'last_modified_date': '2017-03-09',\n",
       "  'serving_size': 28.0,\n",
       "  'energy_100g': 1941.0,\n",
       "  'fat_100g': 17.86,\n",
       "  'carbohydrates_100g': 60.71,\n",
       "  'sugars_100g': 17.86,\n",
       "  'proteins_100g': 17.86},\n",
       " {'product_name': 'Organic Salted Nut Mix',\n",
       "  'brands': 'Grizzlies',\n",
       "  'created_date': '2017-03-09',\n",
       "  'last_modified_date': '2017-03-09',\n",
       "  'serving_size': 28.0,\n",
       "  'energy_100g': 2540.0,\n",
       "  'fat_100g': 57.14,\n",
       "  'carbohydrates_100g': 17.86,\n",
       "  'sugars_100g': 3.57,\n",
       "  'proteins_100g': 17.86}]"
      ]
     },
     "execution_count": 18,
     "metadata": {},
     "output_type": "execute_result"
    }
   ],
   "source": [
    "products[0:3]"
   ]
  },
  {
   "cell_type": "markdown",
   "metadata": {
    "heading_collapsed": true,
    "hidden": true
   },
   "source": [
    "## Clean the Dates"
   ]
  },
  {
   "cell_type": "markdown",
   "metadata": {
    "hidden": true
   },
   "source": [
    "Next we'll clean the dates so that we can easily get the month and year of each sale. "
   ]
  },
  {
   "cell_type": "code",
   "execution_count": 20,
   "metadata": {
    "hidden": true
   },
   "outputs": [
    {
     "data": {
      "text/plain": [
       "'2017-03-09'"
      ]
     },
     "execution_count": 20,
     "metadata": {},
     "output_type": "execute_result"
    }
   ],
   "source": [
    "# Clean Dates\n",
    "products[0]['created_date']"
   ]
  },
  {
   "cell_type": "markdown",
   "metadata": {
    "heading_collapsed": true,
    "hidden": true
   },
   "source": [
    "### Using Python built-in methods"
   ]
  },
  {
   "cell_type": "markdown",
   "metadata": {
    "hidden": true
   },
   "source": [
    "**Activity**: Process the `sales` list to add numeric values for month and year to each entry."
   ]
  },
  {
   "cell_type": "code",
   "execution_count": 23,
   "metadata": {
    "hidden": true
   },
   "outputs": [
    {
     "data": {
      "text/plain": [
       "'2017'"
      ]
     },
     "execution_count": 23,
     "metadata": {},
     "output_type": "execute_result"
    }
   ],
   "source": [
    "# Your work here\n",
    "products[0]['created_date'][0:4]"
   ]
  },
  {
   "cell_type": "code",
   "execution_count": 36,
   "metadata": {
    "hidden": true
   },
   "outputs": [
    {
     "data": {
      "text/plain": [
       "['2017', '03', '09']"
      ]
     },
     "execution_count": 36,
     "metadata": {},
     "output_type": "execute_result"
    }
   ],
   "source": [
    "# Or\n",
    "products[0]['created_date'].split(\"-\")"
   ]
  },
  {
   "cell_type": "code",
   "execution_count": 38,
   "metadata": {
    "scrolled": true
   },
   "outputs": [
    {
     "name": "stdout",
     "output_type": "stream",
     "text": [
      "2017\n",
      "3\n",
      "9\n"
     ]
    }
   ],
   "source": [
    "#convert to ints, extract year, month, day\n",
    "created_year, created_month, created_day = [int(x) for x in products[0]['created_date'].split(\"-\")]\n",
    "\n",
    "print(created_year)\n",
    "print(created_month)\n",
    "print(created_day)"
   ]
  },
  {
   "cell_type": "code",
   "execution_count": 50,
   "metadata": {
    "hidden": true
   },
   "outputs": [
    {
     "data": {
      "text/plain": [
       "[{'product_name': 'Banana Chips Sweetened (Whole)',\n",
       "  'brands': '',\n",
       "  'created_date': '2017-03-09',\n",
       "  'last_modified_date': '2017-03-09',\n",
       "  'serving_size': 28.0,\n",
       "  'energy_100g': 2243.0,\n",
       "  'fat_100g': 28.57,\n",
       "  'carbohydrates_100g': 64.29,\n",
       "  'sugars_100g': 14.29,\n",
       "  'proteins_100g': 3.57,\n",
       "  'created_year': 2017,\n",
       "  'created_month': 3,\n",
       "  'created_day': 9},\n",
       " {'product_name': 'Peanuts',\n",
       "  'brands': 'Torn & Glasser',\n",
       "  'created_date': '2017-03-09',\n",
       "  'last_modified_date': '2017-03-09',\n",
       "  'serving_size': 28.0,\n",
       "  'energy_100g': 1941.0,\n",
       "  'fat_100g': 17.86,\n",
       "  'carbohydrates_100g': 60.71,\n",
       "  'sugars_100g': 17.86,\n",
       "  'proteins_100g': 17.86,\n",
       "  'created_year': 2017,\n",
       "  'created_month': 3,\n",
       "  'created_day': 9},\n",
       " {'product_name': 'Organic Salted Nut Mix',\n",
       "  'brands': 'Grizzlies',\n",
       "  'created_date': '2017-03-09',\n",
       "  'last_modified_date': '2017-03-09',\n",
       "  'serving_size': 28.0,\n",
       "  'energy_100g': 2540.0,\n",
       "  'fat_100g': 57.14,\n",
       "  'carbohydrates_100g': 17.86,\n",
       "  'sugars_100g': 3.57,\n",
       "  'proteins_100g': 17.86,\n",
       "  'created_year': 2017,\n",
       "  'created_month': 3,\n",
       "  'created_day': 9}]"
      ]
     },
     "execution_count": 50,
     "metadata": {},
     "output_type": "execute_result"
    }
   ],
   "source": [
    "#to get it for all things in the list, you can use a for loop\n",
    "for product in products:\n",
    "    \n",
    "    created_year, created_month, created_day = [int(x) for x in product['created_date'].split(\"-\")]\n",
    "\n",
    "    product['created_year'] = created_year\n",
    "    product['created_month'] = created_month\n",
    "    product['created_day'] = created_day\n",
    "\n",
    "products[0:3]"
   ]
  },
  {
   "cell_type": "markdown",
   "metadata": {
    "heading_collapsed": true
   },
   "source": [
    "# Data Analysis"
   ]
  },
  {
   "cell_type": "markdown",
   "metadata": {
    "hidden": true
   },
   "source": [
    "Now that you have a cleaned list with the property sales data, we can finally start to perform some data analysis."
   ]
  },
  {
   "cell_type": "markdown",
   "metadata": {
    "heading_collapsed": true,
    "hidden": true
   },
   "source": [
    "## Question 1: What is the range of years for which we have sales data?"
   ]
  },
  {
   "cell_type": "markdown",
   "metadata": {
    "hidden": true
   },
   "source": [
    "`max(list)` maximum value in a list\n",
    "\n",
    "`min(list)` minimum value in a list"
   ]
  },
  {
   "cell_type": "code",
   "execution_count": 60,
   "metadata": {},
   "outputs": [],
   "source": [
    "## Your work here\n",
    "created_year_list = [product['created_year'] for product in products]\n"
   ]
  },
  {
   "cell_type": "code",
   "execution_count": 61,
   "metadata": {},
   "outputs": [
    {
     "data": {
      "text/plain": [
       "2017"
      ]
     },
     "execution_count": 61,
     "metadata": {},
     "output_type": "execute_result"
    }
   ],
   "source": [
    "max(created_year_list)"
   ]
  },
  {
   "cell_type": "code",
   "execution_count": 62,
   "metadata": {},
   "outputs": [
    {
     "data": {
      "text/plain": [
       "2012"
      ]
     },
     "execution_count": 62,
     "metadata": {},
     "output_type": "execute_result"
    }
   ],
   "source": [
    "min(created_year_list)"
   ]
  },
  {
   "cell_type": "markdown",
   "metadata": {},
   "source": [
    "Question: what is the average calories (energy) per 100g for all these foods?"
   ]
  },
  {
   "cell_type": "code",
   "execution_count": 65,
   "metadata": {},
   "outputs": [
    {
     "data": {
      "text/plain": [
       "[2243.0,\n",
       " 1941.0,\n",
       " 2540.0,\n",
       " 1552.0,\n",
       " 1933.0,\n",
       " 1490.0,\n",
       " 1833.0,\n",
       " 2406.0,\n",
       " 3586.0,\n",
       " 1393.0,\n",
       " 1540.0,\n",
       " 2230.0,\n",
       " 2590.0,\n",
       " 2536.0,\n",
       " 1824.0,\n",
       " 2632.0,\n",
       " 2092.0,\n",
       " 1582.0,\n",
       " 1096.0,\n",
       " 1464.0,\n",
       " 2092.0,\n",
       " 1674.0,\n",
       " 2372.0,\n",
       " 1954.0,\n",
       " 1548.0,\n",
       " 2372.0,\n",
       " 2372.0,\n",
       " 2230.0,\n",
       " 2230.0,\n",
       " 1490.0,\n",
       " 2092.0,\n",
       " 2092.0,\n",
       " 1887.0,\n",
       " 1674.0,\n",
       " 1569.0,\n",
       " 2092.0,\n",
       " 2761.0,\n",
       " 1393.0,\n",
       " 1515.0,\n",
       " 1335.0,\n",
       " 1941.0,\n",
       " 2197.0,\n",
       " 1749.0,\n",
       " 2046.0,\n",
       " 1490.0,\n",
       " 1335.0,\n",
       " 1582.0,\n",
       " 699.0,\n",
       " 1674.0,\n",
       " 1582.0,\n",
       " 1582.0,\n",
       " 1477.0,\n",
       " 1393.0,\n",
       " 1272.0,\n",
       " 2054.0,\n",
       " 1904.0,\n",
       " 1904.0,\n",
       " 1523.0,\n",
       " 1720.0,\n",
       " 1490.0,\n",
       " 1611.0,\n",
       " 1582.0,\n",
       " 1569.0,\n",
       " 1443.0,\n",
       " 1393.0,\n",
       " 1297.0,\n",
       " 1569.0,\n",
       " 1536.0,\n",
       " 1891.0,\n",
       " 1356.0,\n",
       " 1393.0,\n",
       " 1824.0,\n",
       " 1552.0,\n",
       " 1644.0,\n",
       " 2389.0,\n",
       " 2648.0,\n",
       " 2439.0,\n",
       " 2439.0,\n",
       " 2690.0,\n",
       " 2389.0,\n",
       " 2389.0,\n",
       " 2766.0,\n",
       " 2540.0,\n",
       " 2176.0,\n",
       " 2678.0,\n",
       " 2218.0,\n",
       " 1812.0,\n",
       " 2946.0,\n",
       " 2791.0,\n",
       " 2510.0,\n",
       " 1289.0,\n",
       " 1314.0,\n",
       " 1255.0,\n",
       " 1954.0,\n",
       " 2197.0,\n",
       " 2092.0,\n",
       " 2092.0,\n",
       " 941.0,\n",
       " 1611.0,\n",
       " 1611.0,\n",
       " 1464.0,\n",
       " 1427.0,\n",
       " 1197.0,\n",
       " 1540.0,\n",
       " 1569.0,\n",
       " 1749.0,\n",
       " 1548.0,\n",
       " 1569.0,\n",
       " 1506.0,\n",
       " 1423.0,\n",
       " 1506.0,\n",
       " 837.0,\n",
       " 1393.0,\n",
       " 1661.0,\n",
       " 1527.0,\n",
       " 1527.0,\n",
       " 1674.0,\n",
       " 1778.0,\n",
       " 1184.0,\n",
       " 1883.0,\n",
       " 1393.0,\n",
       " 1490.0,\n",
       " 1314.0,\n",
       " 1423.0,\n",
       " 1481.0,\n",
       " 1393.0,\n",
       " 1477.0,\n",
       " 1490.0,\n",
       " 1674.0,\n",
       " 1452.0,\n",
       " 2092.0,\n",
       " 1255.0,\n",
       " 1046.0,\n",
       " 2243.0,\n",
       " 1674.0,\n",
       " 1569.0,\n",
       " 1883.0,\n",
       " 1941.0,\n",
       " 2540.0,\n",
       " 941.0,\n",
       " 2540.0,\n",
       " 1218.0,\n",
       " 1464.0,\n",
       " 1255.0,\n",
       " 1255.0,\n",
       " 1046.0,\n",
       " 1360.0,\n",
       " 3586.0,\n",
       " 1452.0,\n",
       " 1506.0,\n",
       " 1569.0,\n",
       " 2377.0,\n",
       " 2510.0,\n",
       " 2946.0,\n",
       " 2402.0,\n",
       " 1778.0,\n",
       " 159.0,\n",
       " 1523.0,\n",
       " 1548.0,\n",
       " 1159.0,\n",
       " 1452.0,\n",
       " 1339.0,\n",
       " 1778.0,\n",
       " 1527.0,\n",
       " 1920.0,\n",
       " 2067.0,\n",
       " 1866.0,\n",
       " 1749.0,\n",
       " 1477.0,\n",
       " 941.0,\n",
       " 1155.0,\n",
       " 1866.0,\n",
       " 1674.0,\n",
       " 1623.0,\n",
       " 1665.0,\n",
       " 1569.0,\n",
       " 1812.0,\n",
       " 1632.0,\n",
       " 1176.0,\n",
       " 2117.0,\n",
       " 2912.0,\n",
       " 1117.0,\n",
       " 3586.0,\n",
       " 2690.0,\n",
       " 2389.0,\n",
       " 954.0,\n",
       " 2330.0,\n",
       " 2330.0,\n",
       " 2130.0,\n",
       " 2013.0,\n",
       " 983.0,\n",
       " 1159.0,\n",
       " 1494.0,\n",
       " 983.0,\n",
       " 1071.0,\n",
       " 1879.0,\n",
       " 2029.0,\n",
       " 598.0,\n",
       " 1046.0,\n",
       " 837.0,\n",
       " 837.0,\n",
       " 2209.0,\n",
       " 2142.0,\n",
       " 2226.0,\n",
       " 1929.0,\n",
       " 1552.0,\n",
       " 1703.0,\n",
       " 1623.0,\n",
       " 1623.0,\n",
       " 883.0,\n",
       " 1000.0,\n",
       " 1548.0,\n",
       " 1954.0,\n",
       " 2243.0,\n",
       " 2318.0,\n",
       " 2301.0,\n",
       " 2389.0,\n",
       " 2197.0,\n",
       " 2406.0,\n",
       " 2238.0,\n",
       " 2238.0,\n",
       " 2314.0,\n",
       " 2301.0,\n",
       " 2197.0,\n",
       " 2326.0,\n",
       " 2326.0,\n",
       " 2314.0,\n",
       " 2201.0,\n",
       " 2201.0,\n",
       " 2197.0,\n",
       " 2326.0,\n",
       " 2209.0,\n",
       " 2272.0,\n",
       " 2314.0,\n",
       " 75.0,\n",
       " 75.0,\n",
       " 75.0,\n",
       " 75.0,\n",
       " 100.0,\n",
       " 100.0,\n",
       " 176.0,\n",
       " 59.0,\n",
       " 222.0,\n",
       " 2209.0,\n",
       " 2264.0,\n",
       " 2125.0,\n",
       " 1343.0,\n",
       " 1343.0,\n",
       " 1046.0,\n",
       " 1151.0,\n",
       " 1151.0,\n",
       " 1151.0,\n",
       " 1151.0,\n",
       " 1151.0,\n",
       " 1151.0,\n",
       " 1674.0,\n",
       " 1883.0,\n",
       " 1464.0,\n",
       " 1197.0,\n",
       " 1494.0,\n",
       " 1343.0,\n",
       " 1494.0,\n",
       " 1477.0,\n",
       " 1464.0,\n",
       " 1464.0,\n",
       " 1464.0,\n",
       " 1569.0,\n",
       " 1360.0,\n",
       " 1360.0,\n",
       " 1360.0,\n",
       " 1360.0,\n",
       " 941.0,\n",
       " 1255.0,\n",
       " 1464.0,\n",
       " 1456.0,\n",
       " 1594.0,\n",
       " 1971.0,\n",
       " 1971.0,\n",
       " 1971.0,\n",
       " 1644.0,\n",
       " 1644.0,\n",
       " 1644.0,\n",
       " 1255.0,\n",
       " 1255.0,\n",
       " 1255.0,\n",
       " 1255.0,\n",
       " 1255.0,\n",
       " 1255.0,\n",
       " 1360.0,\n",
       " 1293.0,\n",
       " 1255.0,\n",
       " 1151.0,\n",
       " 1393.0,\n",
       " 1393.0,\n",
       " 1393.0,\n",
       " 1197.0,\n",
       " 1197.0,\n",
       " 1197.0,\n",
       " 1197.0,\n",
       " 1197.0,\n",
       " 1255.0,\n",
       " 1255.0,\n",
       " 1255.0,\n",
       " 1255.0,\n",
       " 1255.0,\n",
       " 247.0,\n",
       " 1795.0,\n",
       " 2243.0,\n",
       " 1046.0,\n",
       " 1393.0,\n",
       " 75.0,\n",
       " 2171.0,\n",
       " 2264.0,\n",
       " 1180.0,\n",
       " 79.0,\n",
       " 2159.0,\n",
       " 1046.0,\n",
       " 1494.0,\n",
       " 372.0,\n",
       " 1464.0,\n",
       " 2485.0,\n",
       " 2485.0,\n",
       " 2485.0,\n",
       " 1197.0,\n",
       " 1200.0,\n",
       " 138.0,\n",
       " 172.0,\n",
       " 201.0,\n",
       " 276.0,\n",
       " 1569.0,\n",
       " 347.0,\n",
       " 201.0,\n",
       " 1406.0,\n",
       " 2293.0,\n",
       " 983.0,\n",
       " 1849.0,\n",
       " 1046.0,\n",
       " 1540.0,\n",
       " 418.0,\n",
       " 2389.0,\n",
       " 837.0,\n",
       " 3586.0,\n",
       " 1883.0,\n",
       " 2510.0,\n",
       " 2615.0,\n",
       " 2510.0,\n",
       " 1883.0,\n",
       " 2218.0,\n",
       " 2259.0,\n",
       " 2259.0,\n",
       " 2259.0,\n",
       " 2301.0,\n",
       " 1021.0,\n",
       " 151.0,\n",
       " 1519.0,\n",
       " 1582.0,\n",
       " 1255.0,\n",
       " 1490.0,\n",
       " 2364.0,\n",
       " 2389.0,\n",
       " 2247.0,\n",
       " 598.0,\n",
       " 2485.0,\n",
       " 2485.0,\n",
       " 448.0,\n",
       " 548.0,\n",
       " 1795.0,\n",
       " 1841.0,\n",
       " 665.0,\n",
       " 2971.0,\n",
       " 1163.0,\n",
       " 1163.0,\n",
       " 1163.0,\n",
       " 1163.0,\n",
       " 1163.0,\n",
       " 1163.0,\n",
       " 1163.0,\n",
       " 1163.0,\n",
       " 1163.0,\n",
       " 1163.0,\n",
       " 1301.0,\n",
       " 1163.0,\n",
       " 1163.0,\n",
       " 1163.0,\n",
       " 1163.0,\n",
       " 3586.0,\n",
       " 448.0,\n",
       " 2201.0,\n",
       " 2247.0,\n",
       " 2201.0,\n",
       " 2301.0,\n",
       " 2293.0,\n",
       " 1891.0,\n",
       " 2301.0,\n",
       " 2360.0,\n",
       " 2301.0,\n",
       " 2406.0,\n",
       " 2423.0,\n",
       " 2209.0,\n",
       " 996.0,\n",
       " 418.0,\n",
       " 540.0,\n",
       " 1674.0,\n",
       " 987.0,\n",
       " 1891.0,\n",
       " 837.0,\n",
       " 1167.0,\n",
       " 975.0,\n",
       " 1071.0,\n",
       " 929.0,\n",
       " 1151.0,\n",
       " 1515.0,\n",
       " 209.0,\n",
       " 71.0,\n",
       " 837.0,\n",
       " 314.0,\n",
       " 2301.0,\n",
       " 2301.0,\n",
       " 1569.0,\n",
       " 1393.0,\n",
       " 1925.0,\n",
       " 1021.0,\n",
       " 1209.0,\n",
       " 1393.0,\n",
       " 3887.0,\n",
       " 552.0,\n",
       " 2230.0,\n",
       " 1134.0,\n",
       " 1230.0,\n",
       " 2372.0,\n",
       " 895.0,\n",
       " 895.0,\n",
       " 1197.0,\n",
       " 1088.0,\n",
       " 795.0,\n",
       " 837.0,\n",
       " 1155.0,\n",
       " 920.0,\n",
       " 1004.0,\n",
       " 837.0,\n",
       " 1046.0,\n",
       " 711.0,\n",
       " 837.0,\n",
       " 795.0,\n",
       " 711.0,\n",
       " 1130.0,\n",
       " 879.0,\n",
       " 753.0,\n",
       " 2188.0,\n",
       " 2226.0,\n",
       " 2280.0,\n",
       " 2230.0,\n",
       " 2230.0,\n",
       " 2230.0,\n",
       " 2222.0,\n",
       " 2251.0,\n",
       " 2188.0,\n",
       " 1628.0,\n",
       " 1628.0,\n",
       " 1628.0,\n",
       " 2987.0,\n",
       " 2690.0,\n",
       " 1197.0,\n",
       " 272.0,\n",
       " 1841.0,\n",
       " 1293.0,\n",
       " 1377.0,\n",
       " 1343.0,\n",
       " 1343.0,\n",
       " 1343.0,\n",
       " 1079.0,\n",
       " 1506.0,\n",
       " 1745.0,\n",
       " 4435.0,\n",
       " 1770.0,\n",
       " 1820.0,\n",
       " 1611.0,\n",
       " 1611.0,\n",
       " 1674.0,\n",
       " 1766.0,\n",
       " 1770.0,\n",
       " 1820.0,\n",
       " 1494.0,\n",
       " 1494.0,\n",
       " 1494.0,\n",
       " 1494.0,\n",
       " 1494.0,\n",
       " 1494.0,\n",
       " 1494.0,\n",
       " 1494.0,\n",
       " 1494.0,\n",
       " 1494.0,\n",
       " 1494.0,\n",
       " 1536.0,\n",
       " 138.0,\n",
       " 381.0,\n",
       " 381.0,\n",
       " 406.0,\n",
       " 674.0,\n",
       " 138.0,\n",
       " 1297.0,\n",
       " 1833.0,\n",
       " 1695.0,\n",
       " 1506.0,\n",
       " 715.0,\n",
       " 1443.0,\n",
       " 1443.0,\n",
       " 1674.0,\n",
       " 1778.0,\n",
       " 2238.0,\n",
       " 2192.0,\n",
       " 1954.0,\n",
       " 1870.0,\n",
       " 2092.0,\n",
       " 2238.0,\n",
       " 1891.0,\n",
       " 1992.0,\n",
       " 2151.0,\n",
       " 2092.0,\n",
       " 2092.0,\n",
       " 1987.0,\n",
       " 2251.0,\n",
       " 1536.0,\n",
       " 1674.0,\n",
       " 2092.0,\n",
       " 2092.0,\n",
       " 2238.0,\n",
       " 2201.0,\n",
       " 1954.0,\n",
       " 2092.0,\n",
       " 2243.0,\n",
       " 1695.0,\n",
       " 2092.0,\n",
       " 2293.0,\n",
       " 2293.0,\n",
       " 2033.0,\n",
       " 1987.0,\n",
       " 2301.0,\n",
       " 1812.0,\n",
       " 1954.0,\n",
       " 2230.0,\n",
       " 2142.0,\n",
       " 1795.0,\n",
       " 2264.0,\n",
       " 2151.0,\n",
       " 1807.0,\n",
       " 1059.0,\n",
       " 2092.0,\n",
       " 1795.0,\n",
       " 699.0,\n",
       " 71.0,\n",
       " 1360.0,\n",
       " 435.0,\n",
       " 481.0,\n",
       " 435.0,\n",
       " 435.0,\n",
       " 665.0,\n",
       " 1962.0,\n",
       " 1954.0,\n",
       " 1962.0,\n",
       " 2000.0,\n",
       " 1674.0,\n",
       " 1661.0,\n",
       " 1197.0,\n",
       " 2063.0,\n",
       " 2368.0,\n",
       " 556.0,\n",
       " 75.0,\n",
       " 523.0,\n",
       " 556.0,\n",
       " 556.0,\n",
       " 556.0,\n",
       " 556.0,\n",
       " 556.0,\n",
       " 523.0,\n",
       " 75.0,\n",
       " 75.0,\n",
       " 297.0,\n",
       " 372.0,\n",
       " 75.0,\n",
       " 75.0,\n",
       " 372.0,\n",
       " 75.0,\n",
       " 75.0,\n",
       " 75.0,\n",
       " 75.0,\n",
       " 75.0,\n",
       " 151.0,\n",
       " 598.0,\n",
       " 151.0,\n",
       " 151.0,\n",
       " 151.0,\n",
       " 75.0,\n",
       " 75.0,\n",
       " 75.0,\n",
       " 75.0,\n",
       " 297.0,\n",
       " 75.0,\n",
       " 75.0,\n",
       " 372.0,\n",
       " 556.0,\n",
       " 523.0,\n",
       " 75.0,\n",
       " 372.0,\n",
       " 556.0,\n",
       " 75.0,\n",
       " 598.0,\n",
       " 372.0,\n",
       " 556.0,\n",
       " 75.0,\n",
       " 75.0,\n",
       " 75.0,\n",
       " 75.0,\n",
       " 75.0,\n",
       " 75.0,\n",
       " 75.0,\n",
       " 75.0,\n",
       " 151.0,\n",
       " 75.0,\n",
       " 151.0,\n",
       " 75.0,\n",
       " 151.0,\n",
       " 372.0,\n",
       " 598.0,\n",
       " 75.0,\n",
       " 75.0,\n",
       " 297.0,\n",
       " 372.0,\n",
       " 75.0,\n",
       " 556.0,\n",
       " 418.0,\n",
       " 75.0,\n",
       " 75.0,\n",
       " 372.0,\n",
       " 75.0,\n",
       " 75.0,\n",
       " 297.0,\n",
       " 75.0,\n",
       " 75.0,\n",
       " 75.0,\n",
       " 75.0,\n",
       " 556.0,\n",
       " 372.0,\n",
       " 556.0,\n",
       " 418.0,\n",
       " 536.0,\n",
       " 75.0,\n",
       " 75.0,\n",
       " 75.0,\n",
       " 301.0,\n",
       " 941.0,\n",
       " 481.0,\n",
       " 494.0,\n",
       " 1674.0,\n",
       " 820.0,\n",
       " 1209.0,\n",
       " 494.0,\n",
       " 2301.0,\n",
       " 2406.0,\n",
       " 2301.0,\n",
       " 2197.0,\n",
       " 2301.0,\n",
       " 2674.0,\n",
       " 2674.0,\n",
       " 2674.0,\n",
       " 2674.0,\n",
       " 2347.0,\n",
       " 2556.0,\n",
       " 2556.0,\n",
       " 2272.0,\n",
       " 2377.0,\n",
       " 2301.0,\n",
       " 2301.0,\n",
       " 2301.0,\n",
       " 2301.0,\n",
       " 2347.0,\n",
       " 2674.0,\n",
       " 2556.0,\n",
       " 2293.0,\n",
       " 2092.0,\n",
       " 2536.0,\n",
       " 2565.0,\n",
       " 2092.0,\n",
       " 2197.0,\n",
       " 2556.0,\n",
       " 2674.0,\n",
       " 2674.0,\n",
       " 2038.0,\n",
       " 2146.0,\n",
       " 2092.0,\n",
       " 2197.0,\n",
       " 2251.0,\n",
       " 2406.0,\n",
       " 1987.0,\n",
       " 2674.0,\n",
       " 2674.0,\n",
       " 2674.0,\n",
       " 2674.0,\n",
       " 2674.0,\n",
       " 2674.0,\n",
       " 2674.0,\n",
       " 2301.0,\n",
       " 2301.0,\n",
       " 2556.0,\n",
       " 2301.0,\n",
       " 2301.0,\n",
       " 2301.0,\n",
       " 2360.0,\n",
       " 2347.0,\n",
       " 2573.0,\n",
       " 2301.0,\n",
       " 2431.0,\n",
       " 2674.0,\n",
       " 2556.0,\n",
       " 2674.0,\n",
       " 2674.0,\n",
       " 2389.0,\n",
       " 2536.0,\n",
       " 1891.0,\n",
       " 2439.0,\n",
       " 2615.0,\n",
       " 2347.0,\n",
       " 2406.0,\n",
       " 2489.0,\n",
       " 2531.0,\n",
       " 2552.0,\n",
       " 2251.0,\n",
       " 2615.0,\n",
       " 2448.0,\n",
       " 2674.0,\n",
       " 2301.0,\n",
       " 2301.0,\n",
       " 2301.0,\n",
       " 2674.0,\n",
       " 2556.0,\n",
       " 2448.0,\n",
       " 2531.0,\n",
       " 2197.0,\n",
       " 2197.0,\n",
       " 2197.0,\n",
       " 2197.0,\n",
       " 2301.0,\n",
       " 2197.0,\n",
       " 2791.0,\n",
       " 2615.0,\n",
       " 2615.0,\n",
       " 2615.0,\n",
       " 2615.0,\n",
       " 2615.0,\n",
       " 2615.0,\n",
       " 2674.0,\n",
       " 2674.0,\n",
       " 2556.0,\n",
       " 2674.0,\n",
       " 2556.0,\n",
       " 2674.0,\n",
       " 2556.0,\n",
       " 2674.0,\n",
       " 2674.0,\n",
       " 2406.0,\n",
       " 2301.0,\n",
       " 2674.0,\n",
       " 1992.0,\n",
       " 2092.0,\n",
       " 2536.0,\n",
       " 2556.0,\n",
       " 2674.0,\n",
       " 2674.0,\n",
       " 2674.0,\n",
       " 2674.0,\n",
       " 2301.0,\n",
       " 2406.0,\n",
       " 2314.0,\n",
       " 2377.0,\n",
       " 2360.0,\n",
       " 2301.0,\n",
       " 2674.0,\n",
       " 2674.0,\n",
       " 2674.0,\n",
       " 2556.0,\n",
       " 2674.0,\n",
       " 2674.0,\n",
       " 2556.0,\n",
       " 2674.0,\n",
       " 2674.0,\n",
       " 2674.0,\n",
       " 2674.0,\n",
       " 2092.0,\n",
       " 2674.0,\n",
       " 2674.0,\n",
       " 2556.0,\n",
       " 2674.0,\n",
       " 2301.0,\n",
       " 2301.0,\n",
       " 2556.0,\n",
       " 2674.0,\n",
       " 2301.0,\n",
       " 2197.0,\n",
       " 2674.0,\n",
       " 2301.0,\n",
       " 2674.0,\n",
       " 2674.0,\n",
       " 2197.0,\n",
       " 2510.0,\n",
       " 2092.0,\n",
       " 2674.0,\n",
       " 2674.0,\n",
       " 2615.0,\n",
       " 2556.0,\n",
       " 2674.0,\n",
       " 2431.0,\n",
       " 2674.0,\n",
       " 2540.0,\n",
       " 2674.0,\n",
       " 2556.0,\n",
       " 2674.0,\n",
       " 2197.0,\n",
       " 2197.0,\n",
       " 2360.0,\n",
       " 2674.0,\n",
       " 2092.0,\n",
       " 2674.0,\n",
       " 2389.0,\n",
       " 2489.0,\n",
       " 2590.0,\n",
       " 2406.0,\n",
       " 2556.0,\n",
       " 2674.0,\n",
       " 2531.0,\n",
       " 2556.0,\n",
       " 2556.0,\n",
       " 2531.0,\n",
       " 2556.0,\n",
       " 2674.0,\n",
       " 2674.0,\n",
       " 2301.0,\n",
       " 2531.0,\n",
       " 368.0,\n",
       " 1657.0,\n",
       " 2531.0,\n",
       " 1623.0,\n",
       " 1623.0,\n",
       " 1623.0,\n",
       " 1623.0,\n",
       " 1623.0,\n",
       " 1623.0,\n",
       " 1623.0,\n",
       " 1623.0,\n",
       " 1623.0,\n",
       " 1623.0,\n",
       " 1623.0,\n",
       " 1623.0,\n",
       " 1623.0,\n",
       " 1623.0,\n",
       " 1623.0,\n",
       " 1623.0,\n",
       " 1623.0,\n",
       " 1623.0,\n",
       " 1623.0,\n",
       " 1623.0,\n",
       " 1623.0,\n",
       " 1623.0,\n",
       " 1623.0,\n",
       " 1623.0,\n",
       " 17.0,\n",
       " 1623.0,\n",
       " 1623.0,\n",
       " 1623.0,\n",
       " 1623.0,\n",
       " 17.0,\n",
       " 17.0,\n",
       " 17.0,\n",
       " 1623.0,\n",
       " 1623.0,\n",
       " 1623.0,\n",
       " 1623.0,\n",
       " 1623.0,\n",
       " 1623.0,\n",
       " 1623.0,\n",
       " 1623.0,\n",
       " 1623.0,\n",
       " 1623.0,\n",
       " 1623.0,\n",
       " 1623.0,\n",
       " 1623.0,\n",
       " 1623.0,\n",
       " 1623.0,\n",
       " 1623.0,\n",
       " 1623.0,\n",
       " 1623.0,\n",
       " 1623.0,\n",
       " 1623.0,\n",
       " 1623.0,\n",
       " 1623.0,\n",
       " 1623.0,\n",
       " 2531.0,\n",
       " 2531.0,\n",
       " 2531.0,\n",
       " 2531.0,\n",
       " 2531.0,\n",
       " 2531.0,\n",
       " 2531.0,\n",
       " 2423.0,\n",
       " 2531.0,\n",
       " 2531.0,\n",
       " 2531.0,\n",
       " 2531.0,\n",
       " 2531.0,\n",
       " 2423.0,\n",
       " 2531.0,\n",
       " 2648.0,\n",
       " 2648.0,\n",
       " 2510.0,\n",
       " 2510.0,\n",
       " 2510.0,\n",
       " 2510.0,\n",
       " 2510.0,\n",
       " 2510.0,\n",
       " 2510.0,\n",
       " 2510.0,\n",
       " 2510.0,\n",
       " 2510.0,\n",
       " 2510.0,\n",
       " 2510.0,\n",
       " 2510.0,\n",
       " 2510.0,\n",
       " 2510.0,\n",
       " 2510.0,\n",
       " 2510.0,\n",
       " 2510.0,\n",
       " 2510.0,\n",
       " 2092.0,\n",
       " 2510.0,\n",
       " 2406.0,\n",
       " 2301.0,\n",
       " 2171.0,\n",
       " 2171.0,\n",
       " 2092.0,\n",
       " 2171.0,\n",
       " 2264.0,\n",
       " 2264.0,\n",
       " 2260.0,\n",
       " 2406.0,\n",
       " 151.0,\n",
       " 234.0,\n",
       " 1494.0,\n",
       " 615.0,\n",
       " 1954.0,\n",
       " 2230.0,\n",
       " 2092.0,\n",
       " 2230.0,\n",
       " 2372.0,\n",
       " 2230.0,\n",
       " 1494.0,\n",
       " 1494.0,\n",
       " 1343.0,\n",
       " 1494.0,\n",
       " 1343.0,\n",
       " 1494.0,\n",
       " 50.0,\n",
       " 1674.0,\n",
       " 314.0,\n",
       " 268.0,\n",
       " 205.0,\n",
       " 1134.0,\n",
       " 883.0,\n",
       " 1059.0,\n",
       " 2247.0,\n",
       " 2013.0,\n",
       " 1343.0,\n",
       " 1393.0,\n",
       " 1536.0,\n",
       " 1536.0,\n",
       " 1536.0,\n",
       " 1536.0,\n",
       " 1096.0,\n",
       " 2540.0,\n",
       " 2648.0,\n",
       " 2372.0,\n",
       " 2929.0,\n",
       " 2648.0,\n",
       " 2929.0,\n",
       " 2791.0,\n",
       " 2791.0,\n",
       " 2791.0,\n",
       " 2791.0,\n",
       " 2791.0,\n",
       " 2791.0,\n",
       " 356.0,\n",
       " 1870.0,\n",
       " 1971.0,\n",
       " 494.0,\n",
       " 540.0,\n",
       " 494.0,\n",
       " 494.0,\n",
       " 2389.0,\n",
       " 2272.0,\n",
       " 2389.0,\n",
       " 2243.0,\n",
       " 2243.0,\n",
       " ...]"
      ]
     },
     "execution_count": 65,
     "metadata": {},
     "output_type": "execute_result"
    }
   ],
   "source": [
    "#dont want to include 0s for the average\n",
    "calorie_list = [product['energy_100g'] for product in products if product['energy_100g'] != 0.0]\n",
    "calorie_list"
   ]
  },
  {
   "cell_type": "code",
   "execution_count": 66,
   "metadata": {},
   "outputs": [
    {
     "data": {
      "text/plain": [
       "1265.7671627635063"
      ]
     },
     "execution_count": 66,
     "metadata": {},
     "output_type": "execute_result"
    }
   ],
   "source": [
    "N_calories = len(calorie_list)\n",
    "summed_cal = sum(calorie_list)\n",
    "mean = summed_cal/N_calories\n",
    "mean"
   ]
  },
  {
   "cell_type": "code",
   "execution_count": 67,
   "metadata": {},
   "outputs": [],
   "source": [
    "import numpy as np"
   ]
  },
  {
   "cell_type": "code",
   "execution_count": 69,
   "metadata": {},
   "outputs": [
    {
     "data": {
      "text/plain": [
       "1265.7671627635063"
      ]
     },
     "execution_count": 69,
     "metadata": {},
     "output_type": "execute_result"
    }
   ],
   "source": [
    "calorie_list = np.array(calorie_list)\n",
    "calorie_list.mean()\n",
    "#does the same thing as above using numpy"
   ]
  },
  {
   "cell_type": "markdown",
   "metadata": {},
   "source": [
    "Question: how many foods were added (created) in each year?"
   ]
  },
  {
   "cell_type": "code",
   "execution_count": 72,
   "metadata": {},
   "outputs": [
    {
     "data": {
      "text/plain": [
       "{2012, 2013, 2014, 2015, 2016, 2017}"
      ]
     },
     "execution_count": 72,
     "metadata": {},
     "output_type": "execute_result"
    }
   ],
   "source": [
    "## your work here\n",
    "#1. unique year\n",
    "#2. count foods created in that year\n",
    "\n",
    "unique_prod_years = set(created_year_list)\n",
    "unique_prod_years"
   ]
  },
  {
   "cell_type": "markdown",
   "metadata": {},
   "source": [
    "How many properties were sold in each year?"
   ]
  },
  {
   "cell_type": "code",
   "execution_count": 77,
   "metadata": {
    "scrolled": true
   },
   "outputs": [
    {
     "data": {
      "text/plain": [
       "186"
      ]
     },
     "execution_count": 77,
     "metadata": {},
     "output_type": "execute_result"
    }
   ],
   "source": [
    "count2012list = [product['created_year'] for product in products if product['created_year'] == 2012]\n",
    "count2012list\n",
    "#this is a placeholder list, we care about the actual number of counts\n",
    "num_2012_counts = len(count2012list)\n",
    "num_2012_counts"
   ]
  },
  {
   "cell_type": "code",
   "execution_count": 79,
   "metadata": {},
   "outputs": [],
   "source": [
    "#you want to do the above for all the years in the list\n",
    "#keys = unique year and values = count\n",
    "\n",
    "count_year = {}\n",
    "\n",
    "for year in unique_prod_years: #for each year in unique year set\n",
    "    #get the year count, do the length\n",
    "    countyearlist = [product['created_year'] for product in products if product['created_year'] == year]\n",
    "    num_count = len(countyearlist)\n",
    "    #add to dictionary where key is year and value is num_count which is length\n",
    "    count_year[year] = num_count"
   ]
  },
  {
   "cell_type": "code",
   "execution_count": 83,
   "metadata": {
    "scrolled": true
   },
   "outputs": [
    {
     "data": {
      "text/plain": [
       "{2016: 369, 2017: 147828, 2012: 186, 2013: 571, 2014: 663, 2015: 873}"
      ]
     },
     "execution_count": 83,
     "metadata": {},
     "output_type": "execute_result"
    }
   ],
   "source": [
    "count_year"
   ]
  },
  {
   "cell_type": "code",
   "execution_count": 88,
   "metadata": {},
   "outputs": [
    {
     "data": {
      "text/plain": [
       "{2012: 186, 2013: 571, 2014: 663, 2015: 873, 2016: 369, 2017: 147828}"
      ]
     },
     "execution_count": 88,
     "metadata": {},
     "output_type": "execute_result"
    }
   ],
   "source": [
    "sorted_count_year = dict(sorted(count_year.items()))\n",
    "sorted_count_year\n",
    "#sorts by year"
   ]
  },
  {
   "cell_type": "markdown",
   "metadata": {
    "heading_collapsed": true,
    "hidden": true
   },
   "source": [
    "## Question 2: How many properties sold in 2020?"
   ]
  },
  {
   "cell_type": "markdown",
   "metadata": {
    "hidden": true
   },
   "source": [
    "`len(list)` = how many elements in list"
   ]
  },
  {
   "cell_type": "code",
   "execution_count": null,
   "metadata": {
    "hidden": true
   },
   "outputs": [],
   "source": [
    "## Your work here\n",
    "## see above"
   ]
  },
  {
   "cell_type": "markdown",
   "metadata": {
    "heading_collapsed": true,
    "hidden": true
   },
   "source": [
    "## Question 3: What was the mean sale price in 2020?"
   ]
  },
  {
   "cell_type": "markdown",
   "metadata": {
    "hidden": true
   },
   "source": [
    "`sum(list)` = sum of all elements"
   ]
  },
  {
   "cell_type": "code",
   "execution_count": 1,
   "metadata": {
    "ExecuteTime": {
     "end_time": "2022-06-30T02:27:25.661305Z",
     "start_time": "2022-06-30T02:27:25.659215Z"
    },
    "hidden": true
   },
   "outputs": [],
   "source": [
    "## Your work here\n"
   ]
  },
  {
   "cell_type": "markdown",
   "metadata": {
    "heading_collapsed": true,
    "hidden": true
   },
   "source": [
    "## Question 4: How many properties sold in each year?"
   ]
  },
  {
   "cell_type": "markdown",
   "metadata": {
    "hidden": true
   },
   "source": [
    "`set` create a unique \"set\" of items"
   ]
  },
  {
   "cell_type": "code",
   "execution_count": null,
   "metadata": {
    "hidden": true
   },
   "outputs": [],
   "source": [
    "## Your work here\n"
   ]
  },
  {
   "cell_type": "markdown",
   "metadata": {
    "heading_collapsed": true
   },
   "source": [
    "# Chart the Data"
   ]
  },
  {
   "cell_type": "markdown",
   "metadata": {
    "hidden": true
   },
   "source": [
    "This `list` of `tuples` is helpful, but it takes a lot of effort to read it and make sense of the trends - let's visualize the results to make this easier."
   ]
  },
  {
   "cell_type": "code",
   "execution_count": 89,
   "metadata": {
    "hidden": true
   },
   "outputs": [],
   "source": [
    "from matplotlib import pyplot as plt"
   ]
  },
  {
   "cell_type": "code",
   "execution_count": 93,
   "metadata": {},
   "outputs": [
    {
     "data": {
      "image/png": "[encoded data removed]",
      "text/plain": [
       "<Figure size 432x288 with 1 Axes>"
      ]
     },
     "metadata": {
      "needs_background": "light"
     },
     "output_type": "display_data"
    }
   ],
   "source": [
    "fig, ax = plt.subplots()\n",
    "\n",
    "ax.bar(sorted_count_year.keys(), sorted_count_year.values())\n",
    "\n",
    "ax.set_xlabel('Year') #labels your axes\n",
    "ax.set_ylabel('Counts')\n",
    "ax.set_title('Foods added in each year')\n",
    "\n",
    "plt.tight_layout() #makes it look nicer\n",
    "\n",
    "plt.show()"
   ]
  },
  {
   "cell_type": "code",
   "execution_count": 90,
   "metadata": {
    "hidden": true,
    "scrolled": true
   },
   "outputs": [
    {
     "ename": "NameError",
     "evalue": "name 'sales' is not defined",
     "output_type": "error",
     "traceback": [
      "\u001b[1;31m---------------------------------------------------------------------------\u001b[0m",
      "\u001b[1;31mNameError\u001b[0m                                 Traceback (most recent call last)",
      "\u001b[1;32m<ipython-input-90-626208f3983c>\u001b[0m in \u001b[0;36m<module>\u001b[1;34m\u001b[0m\n\u001b[0;32m      2\u001b[0m \u001b[1;33m\u001b[0m\u001b[0m\n\u001b[0;32m      3\u001b[0m \u001b[1;31m# Sale Years\u001b[0m\u001b[1;33m\u001b[0m\u001b[1;33m\u001b[0m\u001b[1;33m\u001b[0m\u001b[0m\n\u001b[1;32m----> 4\u001b[1;33m \u001b[1;32mfor\u001b[0m \u001b[0msale\u001b[0m \u001b[1;32min\u001b[0m \u001b[0msales\u001b[0m\u001b[1;33m:\u001b[0m\u001b[1;33m\u001b[0m\u001b[1;33m\u001b[0m\u001b[0m\n\u001b[0m\u001b[0;32m      5\u001b[0m     \u001b[1;31m# Save the document date to a variable\u001b[0m\u001b[1;33m\u001b[0m\u001b[1;33m\u001b[0m\u001b[1;33m\u001b[0m\u001b[0m\n\u001b[0;32m      6\u001b[0m     \u001b[0mstring_date\u001b[0m \u001b[1;33m=\u001b[0m \u001b[0msale\u001b[0m\u001b[1;33m[\u001b[0m\u001b[1;34m\"DocumentDate\"\u001b[0m\u001b[1;33m]\u001b[0m\u001b[1;33m\u001b[0m\u001b[1;33m\u001b[0m\u001b[0m\n",
      "\u001b[1;31mNameError\u001b[0m: name 'sales' is not defined"
     ]
    }
   ],
   "source": [
    "## Ensuring we have the data coded in earlier questions\n",
    "\n",
    "# Sale Years\n",
    "for sale in sales:\n",
    "    # Save the document date to a variable\n",
    "    string_date = sale[\"DocumentDate\"]\n",
    "\n",
    "    # Extract the sale year and month from the string, and cast to int\n",
    "    sale_year = int(string_date[6:10])\n",
    "    sale_month = int(string_date[0:2])    \n",
    "\n",
    "    # Add the sale year and month to each dictionary element of sales\n",
    "    sale[\"sale_year\"] = sale_year\n",
    "    sale[\"sale_month\"] = sale_month\n",
    "\n",
    "# Sale Years Count\n",
    "sale_year_count = []\n",
    "sale_years = [sale['sale_year'] for sale in sales]\n",
    "unique_sale_years = set(sale_years)\n",
    "for unique_year in unique_sale_years:\n",
    "    num_sales = len([year for year in sale_years if year == unique_year])\n",
    "    sale_year_count.append((unique_year, num_sales))"
   ]
  },
  {
   "cell_type": "code",
   "execution_count": null,
   "metadata": {
    "hidden": true
   },
   "outputs": [],
   "source": [
    "# create a figure and one plot\n",
    "fig, ax = plt.subplots(nrows=1, ncols=1, figsize=(10, 5))\n",
    "\n",
    "# place data in a bar chart \n",
    "# where the x-axis is each year and \n",
    "# the y-axis is the number of sales per year\n",
    "ax.bar(x=[sale[0] for sale in sale_year_count],\n",
    "       height=[sale[1] for sale in sale_year_count])\n",
    "\n",
    "# set axis labels\n",
    "ax.set_xlabel(\"Year\")\n",
    "ax.set_ylabel(\"Number of property sales\")\n",
    "\n",
    "# give the bar chart a title\n",
    "ax.set_title(\"Property sales in King County, WA (1900 to 2021)\")\n",
    "\n",
    "# display bar chart clearly\n",
    "fig.tight_layout()"
   ]
  },
  {
   "cell_type": "markdown",
   "metadata": {
    "hidden": true
   },
   "source": [
    "**Discussion:** What can we learn from this graph?"
   ]
  },
  {
   "cell_type": "markdown",
   "metadata": {
    "heading_collapsed": true
   },
   "source": [
    "# Level Up: `Counter`"
   ]
  },
  {
   "cell_type": "markdown",
   "metadata": {
    "hidden": true
   },
   "source": [
    "The `collections` package has a lot of useful tools for working with Python objects containing multiple elements. You can use the `Counter` class to easily count the number of values in a list.\n",
    "\n",
    "For example, let's say that for all dictionaries in `sales`, we want to count how many property sales occured in each year. "
   ]
  },
  {
   "cell_type": "code",
   "execution_count": 94,
   "metadata": {
    "ExecuteTime": {
     "end_time": "2022-06-30T02:30:51.358257Z",
     "start_time": "2022-06-30T02:30:51.355957Z"
    },
    "hidden": true
   },
   "outputs": [],
   "source": [
    "from collections import Counter"
   ]
  },
  {
   "cell_type": "code",
   "execution_count": 95,
   "metadata": {},
   "outputs": [
    {
     "data": {
      "text/plain": [
       "Counter({2017: 147828, 2015: 873, 2014: 663, 2013: 571, 2016: 369, 2012: 186})"
      ]
     },
     "execution_count": 95,
     "metadata": {},
     "output_type": "execute_result"
    }
   ],
   "source": [
    "count_prods = Counter(created_year_list)\n",
    "count_prods"
   ]
  },
  {
   "cell_type": "code",
   "execution_count": null,
   "metadata": {
    "hidden": true
   },
   "outputs": [],
   "source": [
    "sale_year_count = Counter(  [sale['sale_year'] for sale in sales ]   )\n",
    "\n",
    "sale_year_count"
   ]
  },
  {
   "cell_type": "markdown",
   "metadata": {
    "hidden": true
   },
   "source": [
    "Let's sort these by year. Since the value in `sale_year` is an integer, we can use Python's built-in [`sorted`](https://docs.python.org/3/library/functions.html#sorted) function to transform the `Counter` object into a `list` of `tuples` - `(year, count)` which are sorted in ascending order by year."
   ]
  },
  {
   "cell_type": "code",
   "execution_count": null,
   "metadata": {
    "hidden": true
   },
   "outputs": [],
   "source": [
    "sale_year_count = sorted(sale_year_count.items(), key= sale_year_count.values() )\n",
    "sale_year_count"
   ]
  },
  {
   "cell_type": "markdown",
   "metadata": {
    "heading_collapsed": true
   },
   "source": [
    "# Level Up: Using `datetime`"
   ]
  },
  {
   "cell_type": "markdown",
   "metadata": {
    "hidden": true
   },
   "source": [
    "Python has a [`datetime`](https://docs.python.org/3.7/library/datetime.html) package that is the standard tool for handling dates and times. `datetime` objects make it easy to do fun things like subtract dates to calculate how far apart they are."
   ]
  },
  {
   "cell_type": "code",
   "execution_count": null,
   "metadata": {
    "hidden": true
   },
   "outputs": [],
   "source": [
    "sales[0]"
   ]
  },
  {
   "cell_type": "code",
   "execution_count": null,
   "metadata": {
    "hidden": true
   },
   "outputs": [],
   "source": [
    "from datetime import datetime"
   ]
  },
  {
   "cell_type": "code",
   "execution_count": null,
   "metadata": {
    "hidden": true
   },
   "outputs": [],
   "source": [
    "for sale in sales:\n",
    "    # Transform DocumentDate from string to datetime\n",
    "    sale[\"clean_date\"] = datetime.strptime(sale[\"DocumentDate\"], \n",
    "                                           \"%m/%d/%Y\")\n",
    "    \n",
    "    # Add the sale year and month to each dictionary element of sales\n",
    "    sale[\"sale_year\"] = sale[\"clean_date\"].year\n",
    "    sale[\"sale_month\"] = sale[\"clean_date\"].month"
   ]
  },
  {
   "cell_type": "markdown",
   "metadata": {
    "hidden": true
   },
   "source": [
    "Let's inspect our work"
   ]
  },
  {
   "cell_type": "code",
   "execution_count": null,
   "metadata": {
    "hidden": true
   },
   "outputs": [],
   "source": [
    "sales[0]"
   ]
  }
 ],
 "metadata": {
  "kernelspec": {
   "display_name": "Python (learn-env)",
   "language": "python",
   "name": "learn-env"
  },
  "toc": {
   "base_numbering": 1,
   "nav_menu": {},
   "number_sections": true,
   "sideBar": true,
   "skip_h1_title": false,
   "title_cell": "Table of Contents",
   "title_sidebar": "Contents",
   "toc_cell": true,
   "toc_position": {
    "height": "calc(100% - 180px)",
    "left": "10px",
    "top": "150px",
    "width": "165px"
   },
   "toc_section_display": true,
   "toc_window_display": true
  },
  "varInspector": {
   "cols": {
    "lenName": 16,
    "lenType": 16,
    "lenVar": 40
   },
   "kernels_config": {
    "python": {
     "delete_cmd_postfix": "",
     "delete_cmd_prefix": "del ",
     "library": "var_list.py",
     "varRefreshCmd": "print(var_dic_list())"
    },
    "r": {
     "delete_cmd_postfix": ") ",
     "delete_cmd_prefix": "rm(",
     "library": "var_list.r",
     "varRefreshCmd": "cat(var_dic_list()) "
    }
   },
   "types_to_exclude": [
    "module",
    "function",
    "builtin_function_or_method",
    "instance",
    "_Feature"
   ],
   "window_display": true
  }
 },
 "nbformat": 4,
 "nbformat_minor": 2
}
